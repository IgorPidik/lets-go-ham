{
 "cells": [
  {
   "cell_type": "code",
   "execution_count": 1,
   "metadata": {},
   "outputs": [
    {
     "name": "stdout",
     "output_type": "stream",
     "text": [
      "Collecting en-core-web-sm==3.2.0\n",
      "  Downloading https://github.com/explosion/spacy-models/releases/download/en_core_web_sm-3.2.0/en_core_web_sm-3.2.0-py3-none-any.whl (13.9 MB)\n",
      "\u001b[2K     \u001b[38;2;114;156;31m━━━━━━━━━━━━━━━━━━━━━━━━━━━━━━━━━━━━━━━━\u001b[0m \u001b[32m13.9/13.9 MB\u001b[0m \u001b[31m10.7 MB/s\u001b[0m eta \u001b[36m0:00:00\u001b[0mm eta \u001b[36m0:00:01\u001b[0m[36m0:00:01\u001b[0m\n",
      "\u001b[?25hRequirement already satisfied: spacy<3.3.0,>=3.2.0 in /Users/igor/.local/share/virtualenvs/lets-go-ham-pJVFwP7P/lib/python3.9/site-packages (from en-core-web-sm==3.2.0) (3.2.3)\n",
      "Requirement already satisfied: cymem<2.1.0,>=2.0.2 in /Users/igor/.local/share/virtualenvs/lets-go-ham-pJVFwP7P/lib/python3.9/site-packages (from spacy<3.3.0,>=3.2.0->en-core-web-sm==3.2.0) (2.0.6)\n",
      "Requirement already satisfied: wasabi<1.1.0,>=0.8.1 in /Users/igor/.local/share/virtualenvs/lets-go-ham-pJVFwP7P/lib/python3.9/site-packages (from spacy<3.3.0,>=3.2.0->en-core-web-sm==3.2.0) (0.9.0)\n",
      "Requirement already satisfied: srsly<3.0.0,>=2.4.1 in /Users/igor/.local/share/virtualenvs/lets-go-ham-pJVFwP7P/lib/python3.9/site-packages (from spacy<3.3.0,>=3.2.0->en-core-web-sm==3.2.0) (2.4.2)\n",
      "Requirement already satisfied: numpy>=1.15.0 in /Users/igor/.local/share/virtualenvs/lets-go-ham-pJVFwP7P/lib/python3.9/site-packages (from spacy<3.3.0,>=3.2.0->en-core-web-sm==3.2.0) (1.22.3)\n",
      "Requirement already satisfied: catalogue<2.1.0,>=2.0.6 in /Users/igor/.local/share/virtualenvs/lets-go-ham-pJVFwP7P/lib/python3.9/site-packages (from spacy<3.3.0,>=3.2.0->en-core-web-sm==3.2.0) (2.0.6)\n",
      "Requirement already satisfied: pydantic!=1.8,!=1.8.1,<1.9.0,>=1.7.4 in /Users/igor/.local/share/virtualenvs/lets-go-ham-pJVFwP7P/lib/python3.9/site-packages (from spacy<3.3.0,>=3.2.0->en-core-web-sm==3.2.0) (1.8.2)\n",
      "Requirement already satisfied: blis<0.8.0,>=0.4.0 in /Users/igor/.local/share/virtualenvs/lets-go-ham-pJVFwP7P/lib/python3.9/site-packages (from spacy<3.3.0,>=3.2.0->en-core-web-sm==3.2.0) (0.7.6)\n",
      "Requirement already satisfied: setuptools in /Users/igor/.local/share/virtualenvs/lets-go-ham-pJVFwP7P/lib/python3.9/site-packages (from spacy<3.3.0,>=3.2.0->en-core-web-sm==3.2.0) (60.9.3)\n",
      "Requirement already satisfied: spacy-loggers<2.0.0,>=1.0.0 in /Users/igor/.local/share/virtualenvs/lets-go-ham-pJVFwP7P/lib/python3.9/site-packages (from spacy<3.3.0,>=3.2.0->en-core-web-sm==3.2.0) (1.0.1)\n",
      "Requirement already satisfied: packaging>=20.0 in /Users/igor/.local/share/virtualenvs/lets-go-ham-pJVFwP7P/lib/python3.9/site-packages (from spacy<3.3.0,>=3.2.0->en-core-web-sm==3.2.0) (21.3)\n",
      "Requirement already satisfied: requests<3.0.0,>=2.13.0 in /Users/igor/.local/share/virtualenvs/lets-go-ham-pJVFwP7P/lib/python3.9/site-packages (from spacy<3.3.0,>=3.2.0->en-core-web-sm==3.2.0) (2.27.1)\n",
      "Requirement already satisfied: langcodes<4.0.0,>=3.2.0 in /Users/igor/.local/share/virtualenvs/lets-go-ham-pJVFwP7P/lib/python3.9/site-packages (from spacy<3.3.0,>=3.2.0->en-core-web-sm==3.2.0) (3.3.0)\n",
      "Requirement already satisfied: jinja2 in /Users/igor/.local/share/virtualenvs/lets-go-ham-pJVFwP7P/lib/python3.9/site-packages (from spacy<3.3.0,>=3.2.0->en-core-web-sm==3.2.0) (3.0.3)\n",
      "Requirement already satisfied: spacy-legacy<3.1.0,>=3.0.8 in /Users/igor/.local/share/virtualenvs/lets-go-ham-pJVFwP7P/lib/python3.9/site-packages (from spacy<3.3.0,>=3.2.0->en-core-web-sm==3.2.0) (3.0.9)\n",
      "Requirement already satisfied: thinc<8.1.0,>=8.0.12 in /Users/igor/.local/share/virtualenvs/lets-go-ham-pJVFwP7P/lib/python3.9/site-packages (from spacy<3.3.0,>=3.2.0->en-core-web-sm==3.2.0) (8.0.13)\n",
      "Requirement already satisfied: preshed<3.1.0,>=3.0.2 in /Users/igor/.local/share/virtualenvs/lets-go-ham-pJVFwP7P/lib/python3.9/site-packages (from spacy<3.3.0,>=3.2.0->en-core-web-sm==3.2.0) (3.0.6)\n",
      "Requirement already satisfied: tqdm<5.0.0,>=4.38.0 in /Users/igor/.local/share/virtualenvs/lets-go-ham-pJVFwP7P/lib/python3.9/site-packages (from spacy<3.3.0,>=3.2.0->en-core-web-sm==3.2.0) (4.63.0)\n",
      "Requirement already satisfied: murmurhash<1.1.0,>=0.28.0 in /Users/igor/.local/share/virtualenvs/lets-go-ham-pJVFwP7P/lib/python3.9/site-packages (from spacy<3.3.0,>=3.2.0->en-core-web-sm==3.2.0) (1.0.6)\n",
      "Requirement already satisfied: typer<0.5.0,>=0.3.0 in /Users/igor/.local/share/virtualenvs/lets-go-ham-pJVFwP7P/lib/python3.9/site-packages (from spacy<3.3.0,>=3.2.0->en-core-web-sm==3.2.0) (0.4.0)\n",
      "Requirement already satisfied: pathy>=0.3.5 in /Users/igor/.local/share/virtualenvs/lets-go-ham-pJVFwP7P/lib/python3.9/site-packages (from spacy<3.3.0,>=3.2.0->en-core-web-sm==3.2.0) (0.6.1)\n",
      "Requirement already satisfied: pyparsing!=3.0.5,>=2.0.2 in /Users/igor/.local/share/virtualenvs/lets-go-ham-pJVFwP7P/lib/python3.9/site-packages (from packaging>=20.0->spacy<3.3.0,>=3.2.0->en-core-web-sm==3.2.0) (3.0.7)\n",
      "Requirement already satisfied: smart-open<6.0.0,>=5.0.0 in /Users/igor/.local/share/virtualenvs/lets-go-ham-pJVFwP7P/lib/python3.9/site-packages (from pathy>=0.3.5->spacy<3.3.0,>=3.2.0->en-core-web-sm==3.2.0) (5.2.1)\n",
      "Requirement already satisfied: typing-extensions>=3.7.4.3 in /Users/igor/.local/share/virtualenvs/lets-go-ham-pJVFwP7P/lib/python3.9/site-packages (from pydantic!=1.8,!=1.8.1,<1.9.0,>=1.7.4->spacy<3.3.0,>=3.2.0->en-core-web-sm==3.2.0) (4.1.1)\n",
      "Requirement already satisfied: urllib3<1.27,>=1.21.1 in /Users/igor/.local/share/virtualenvs/lets-go-ham-pJVFwP7P/lib/python3.9/site-packages (from requests<3.0.0,>=2.13.0->spacy<3.3.0,>=3.2.0->en-core-web-sm==3.2.0) (1.26.8)\n",
      "Requirement already satisfied: idna<4,>=2.5 in /Users/igor/.local/share/virtualenvs/lets-go-ham-pJVFwP7P/lib/python3.9/site-packages (from requests<3.0.0,>=2.13.0->spacy<3.3.0,>=3.2.0->en-core-web-sm==3.2.0) (3.3)\n",
      "Requirement already satisfied: certifi>=2017.4.17 in /Users/igor/.local/share/virtualenvs/lets-go-ham-pJVFwP7P/lib/python3.9/site-packages (from requests<3.0.0,>=2.13.0->spacy<3.3.0,>=3.2.0->en-core-web-sm==3.2.0) (2021.10.8)\n",
      "Requirement already satisfied: charset-normalizer~=2.0.0 in /Users/igor/.local/share/virtualenvs/lets-go-ham-pJVFwP7P/lib/python3.9/site-packages (from requests<3.0.0,>=2.13.0->spacy<3.3.0,>=3.2.0->en-core-web-sm==3.2.0) (2.0.12)\n",
      "Requirement already satisfied: click<9.0.0,>=7.1.1 in /Users/igor/.local/share/virtualenvs/lets-go-ham-pJVFwP7P/lib/python3.9/site-packages (from typer<0.5.0,>=0.3.0->spacy<3.3.0,>=3.2.0->en-core-web-sm==3.2.0) (8.0.4)\n",
      "Requirement already satisfied: MarkupSafe>=2.0 in /Users/igor/.local/share/virtualenvs/lets-go-ham-pJVFwP7P/lib/python3.9/site-packages (from jinja2->spacy<3.3.0,>=3.2.0->en-core-web-sm==3.2.0) (2.1.0)\n",
      "Installing collected packages: en-core-web-sm\n",
      "Successfully installed en-core-web-sm-3.2.0\n",
      "\u001b[38;5;2m✔ Download and installation successful\u001b[0m\n",
      "You can now load the package via spacy.load('en_core_web_sm')\n"
     ]
    }
   ],
   "source": [
    "!python3 -m spacy download en_core_web_sm"
   ]
  },
  {
   "cell_type": "code",
   "execution_count": 3,
   "metadata": {
    "executionInfo": {
     "elapsed": 1942,
     "status": "ok",
     "timestamp": 1647089164883,
     "user": {
      "displayName": "Igor Pidík",
      "photoUrl": "https://lh3.googleusercontent.com/a/default-user=s64",
      "userId": "11925848879683183121"
     },
     "user_tz": -60
    },
    "id": "wOwhLDrrN-fv"
   },
   "outputs": [],
   "source": [
    "import pandas as pd\n",
    "import seaborn as sns\n",
    "import spacy\n",
    "from collections import Counter\n",
    "import itertools\n",
    "import numpy as np\n",
    "from sklearn.model_selection import train_test_split\n",
    "\n",
    "nlp = spacy.load('en_core_web_sm')"
   ]
  },
  {
   "cell_type": "code",
   "execution_count": 4,
   "metadata": {
    "executionInfo": {
     "elapsed": 62,
     "status": "ok",
     "timestamp": 1647083770620,
     "user": {
      "displayName": "Igor Pidík",
      "photoUrl": "https://lh3.googleusercontent.com/a/default-user=s64",
      "userId": "11925848879683183121"
     },
     "user_tz": -60
    },
    "id": "wBr4_aNKRcJw"
   },
   "outputs": [],
   "source": [
    "def get_count_plot(data, feature):\n",
    "  ax = sns.countplot(data=data, x=feature)\n",
    "  # add counts to the plot\n",
    "  ax.bar_label(ax.containers[0])"
   ]
  },
  {
   "cell_type": "code",
   "execution_count": 5,
   "metadata": {
    "executionInfo": {
     "elapsed": 62,
     "status": "ok",
     "timestamp": 1647083770621,
     "user": {
      "displayName": "Igor Pidík",
      "photoUrl": "https://lh3.googleusercontent.com/a/default-user=s64",
      "userId": "11925848879683183121"
     },
     "user_tz": -60
    },
    "id": "v4snbHFoaIfE"
   },
   "outputs": [],
   "source": [
    "def describe_and_plot_histogram(data, feature):\n",
    "  print(data.groupby('label')[feature].describe())\n",
    "  sns.histplot(data=data, x=feature, hue='label', kde=True)    "
   ]
  },
  {
   "cell_type": "markdown",
   "metadata": {
    "id": "4E_DBE0ZAaud"
   },
   "source": [
    "# Initial data overview"
   ]
  },
  {
   "cell_type": "code",
   "execution_count": 6,
   "metadata": {
    "executionInfo": {
     "elapsed": 62,
     "status": "ok",
     "timestamp": 1647083770622,
     "user": {
      "displayName": "Igor Pidík",
      "photoUrl": "https://lh3.googleusercontent.com/a/default-user=s64",
      "userId": "11925848879683183121"
     },
     "user_tz": -60
    },
    "id": "d48nN_igNOvi"
   },
   "outputs": [],
   "source": [
    "raw_data_path = 'data/SMSSpamCollection'\n",
    "data = pd.read_csv(raw_data_path, sep = '\\t', header=None, names=['label', 'text'])"
   ]
  },
  {
   "cell_type": "code",
   "execution_count": 7,
   "metadata": {
    "colab": {
     "base_uri": "https://localhost:8080/",
     "height": 206
    },
    "executionInfo": {
     "elapsed": 63,
     "status": "ok",
     "timestamp": 1647083770623,
     "user": {
      "displayName": "Igor Pidík",
      "photoUrl": "https://lh3.googleusercontent.com/a/default-user=s64",
      "userId": "11925848879683183121"
     },
     "user_tz": -60
    },
    "id": "fDmruY4r9BCK",
    "outputId": "7a0401a1-3d0e-44fd-9fc2-86faa4c91b7e"
   },
   "outputs": [
    {
     "data": {
      "text/html": [
       "<div>\n",
       "<style scoped>\n",
       "    .dataframe tbody tr th:only-of-type {\n",
       "        vertical-align: middle;\n",
       "    }\n",
       "\n",
       "    .dataframe tbody tr th {\n",
       "        vertical-align: top;\n",
       "    }\n",
       "\n",
       "    .dataframe thead th {\n",
       "        text-align: right;\n",
       "    }\n",
       "</style>\n",
       "<table border=\"1\" class=\"dataframe\">\n",
       "  <thead>\n",
       "    <tr style=\"text-align: right;\">\n",
       "      <th></th>\n",
       "      <th>label</th>\n",
       "      <th>text</th>\n",
       "    </tr>\n",
       "  </thead>\n",
       "  <tbody>\n",
       "    <tr>\n",
       "      <th>0</th>\n",
       "      <td>ham</td>\n",
       "      <td>Go until jurong point, crazy.. Available only ...</td>\n",
       "    </tr>\n",
       "    <tr>\n",
       "      <th>1</th>\n",
       "      <td>ham</td>\n",
       "      <td>Ok lar... Joking wif u oni...</td>\n",
       "    </tr>\n",
       "    <tr>\n",
       "      <th>2</th>\n",
       "      <td>spam</td>\n",
       "      <td>Free entry in 2 a wkly comp to win FA Cup fina...</td>\n",
       "    </tr>\n",
       "    <tr>\n",
       "      <th>3</th>\n",
       "      <td>ham</td>\n",
       "      <td>U dun say so early hor... U c already then say...</td>\n",
       "    </tr>\n",
       "    <tr>\n",
       "      <th>4</th>\n",
       "      <td>ham</td>\n",
       "      <td>Nah I don't think he goes to usf, he lives aro...</td>\n",
       "    </tr>\n",
       "  </tbody>\n",
       "</table>\n",
       "</div>"
      ],
      "text/plain": [
       "  label                                               text\n",
       "0   ham  Go until jurong point, crazy.. Available only ...\n",
       "1   ham                      Ok lar... Joking wif u oni...\n",
       "2  spam  Free entry in 2 a wkly comp to win FA Cup fina...\n",
       "3   ham  U dun say so early hor... U c already then say...\n",
       "4   ham  Nah I don't think he goes to usf, he lives aro..."
      ]
     },
     "execution_count": 7,
     "metadata": {},
     "output_type": "execute_result"
    }
   ],
   "source": [
    "data.head()"
   ]
  },
  {
   "cell_type": "code",
   "execution_count": 8,
   "metadata": {
    "colab": {
     "base_uri": "https://localhost:8080/",
     "height": 175
    },
    "executionInfo": {
     "elapsed": 64,
     "status": "ok",
     "timestamp": 1647083770625,
     "user": {
      "displayName": "Igor Pidík",
      "photoUrl": "https://lh3.googleusercontent.com/a/default-user=s64",
      "userId": "11925848879683183121"
     },
     "user_tz": -60
    },
    "id": "G0ksTlGI8gD9",
    "outputId": "658c9ef6-9711-4d44-b7e7-6c5b21e5c98d"
   },
   "outputs": [
    {
     "data": {
      "text/html": [
       "<div>\n",
       "<style scoped>\n",
       "    .dataframe tbody tr th:only-of-type {\n",
       "        vertical-align: middle;\n",
       "    }\n",
       "\n",
       "    .dataframe tbody tr th {\n",
       "        vertical-align: top;\n",
       "    }\n",
       "\n",
       "    .dataframe thead th {\n",
       "        text-align: right;\n",
       "    }\n",
       "</style>\n",
       "<table border=\"1\" class=\"dataframe\">\n",
       "  <thead>\n",
       "    <tr style=\"text-align: right;\">\n",
       "      <th></th>\n",
       "      <th>label</th>\n",
       "      <th>text</th>\n",
       "    </tr>\n",
       "  </thead>\n",
       "  <tbody>\n",
       "    <tr>\n",
       "      <th>count</th>\n",
       "      <td>5572</td>\n",
       "      <td>5572</td>\n",
       "    </tr>\n",
       "    <tr>\n",
       "      <th>unique</th>\n",
       "      <td>2</td>\n",
       "      <td>5169</td>\n",
       "    </tr>\n",
       "    <tr>\n",
       "      <th>top</th>\n",
       "      <td>ham</td>\n",
       "      <td>Sorry, I'll call later</td>\n",
       "    </tr>\n",
       "    <tr>\n",
       "      <th>freq</th>\n",
       "      <td>4825</td>\n",
       "      <td>30</td>\n",
       "    </tr>\n",
       "  </tbody>\n",
       "</table>\n",
       "</div>"
      ],
      "text/plain": [
       "       label                    text\n",
       "count   5572                    5572\n",
       "unique     2                    5169\n",
       "top      ham  Sorry, I'll call later\n",
       "freq    4825                      30"
      ]
     },
     "execution_count": 8,
     "metadata": {},
     "output_type": "execute_result"
    }
   ],
   "source": [
    "data.describe()"
   ]
  },
  {
   "cell_type": "code",
   "execution_count": 9,
   "metadata": {
    "colab": {
     "base_uri": "https://localhost:8080/",
     "height": 175
    },
    "executionInfo": {
     "elapsed": 482,
     "status": "ok",
     "timestamp": 1647083771044,
     "user": {
      "displayName": "Igor Pidík",
      "photoUrl": "https://lh3.googleusercontent.com/a/default-user=s64",
      "userId": "11925848879683183121"
     },
     "user_tz": -60
    },
    "id": "lVmccCzE9QzA",
    "outputId": "e0580b3a-bb0e-41d1-cb64-37a75272e378"
   },
   "outputs": [
    {
     "data": {
      "text/html": [
       "<div>\n",
       "<style scoped>\n",
       "    .dataframe tbody tr th:only-of-type {\n",
       "        vertical-align: middle;\n",
       "    }\n",
       "\n",
       "    .dataframe tbody tr th {\n",
       "        vertical-align: top;\n",
       "    }\n",
       "\n",
       "    .dataframe thead tr th {\n",
       "        text-align: left;\n",
       "    }\n",
       "\n",
       "    .dataframe thead tr:last-of-type th {\n",
       "        text-align: right;\n",
       "    }\n",
       "</style>\n",
       "<table border=\"1\" class=\"dataframe\">\n",
       "  <thead>\n",
       "    <tr>\n",
       "      <th></th>\n",
       "      <th colspan=\"4\" halign=\"left\">text</th>\n",
       "    </tr>\n",
       "    <tr>\n",
       "      <th></th>\n",
       "      <th>count</th>\n",
       "      <th>unique</th>\n",
       "      <th>top</th>\n",
       "      <th>freq</th>\n",
       "    </tr>\n",
       "    <tr>\n",
       "      <th>label</th>\n",
       "      <th></th>\n",
       "      <th></th>\n",
       "      <th></th>\n",
       "      <th></th>\n",
       "    </tr>\n",
       "  </thead>\n",
       "  <tbody>\n",
       "    <tr>\n",
       "      <th>ham</th>\n",
       "      <td>4825</td>\n",
       "      <td>4516</td>\n",
       "      <td>Sorry, I'll call later</td>\n",
       "      <td>30</td>\n",
       "    </tr>\n",
       "    <tr>\n",
       "      <th>spam</th>\n",
       "      <td>747</td>\n",
       "      <td>653</td>\n",
       "      <td>Please call our customer service representativ...</td>\n",
       "      <td>4</td>\n",
       "    </tr>\n",
       "  </tbody>\n",
       "</table>\n",
       "</div>"
      ],
      "text/plain": [
       "       text                                                               \n",
       "      count unique                                                top freq\n",
       "label                                                                     \n",
       "ham    4825   4516                             Sorry, I'll call later   30\n",
       "spam    747    653  Please call our customer service representativ...    4"
      ]
     },
     "execution_count": 9,
     "metadata": {},
     "output_type": "execute_result"
    }
   ],
   "source": [
    "data.groupby('label').describe()"
   ]
  },
  {
   "cell_type": "code",
   "execution_count": 10,
   "metadata": {
    "executionInfo": {
     "elapsed": 46,
     "status": "ok",
     "timestamp": 1647083771045,
     "user": {
      "displayName": "Igor Pidík",
      "photoUrl": "https://lh3.googleusercontent.com/a/default-user=s64",
      "userId": "11925848879683183121"
     },
     "user_tz": -60
    },
    "id": "7jmLcI2Q-fsE"
   },
   "outputs": [],
   "source": [
    "# drop duplicates to avoid having the same samples in train/test dataset later on\n",
    "data.drop_duplicates(inplace=True, ignore_index=True)"
   ]
  },
  {
   "cell_type": "code",
   "execution_count": 11,
   "metadata": {
    "colab": {
     "base_uri": "https://localhost:8080/",
     "height": 175
    },
    "executionInfo": {
     "elapsed": 45,
     "status": "ok",
     "timestamp": 1647083771045,
     "user": {
      "displayName": "Igor Pidík",
      "photoUrl": "https://lh3.googleusercontent.com/a/default-user=s64",
      "userId": "11925848879683183121"
     },
     "user_tz": -60
    },
    "id": "-MtRlQQK-3h0",
    "outputId": "d97bfd8e-b7ea-429f-a3d3-361bd5c927ab"
   },
   "outputs": [
    {
     "data": {
      "text/html": [
       "<div>\n",
       "<style scoped>\n",
       "    .dataframe tbody tr th:only-of-type {\n",
       "        vertical-align: middle;\n",
       "    }\n",
       "\n",
       "    .dataframe tbody tr th {\n",
       "        vertical-align: top;\n",
       "    }\n",
       "\n",
       "    .dataframe thead tr th {\n",
       "        text-align: left;\n",
       "    }\n",
       "\n",
       "    .dataframe thead tr:last-of-type th {\n",
       "        text-align: right;\n",
       "    }\n",
       "</style>\n",
       "<table border=\"1\" class=\"dataframe\">\n",
       "  <thead>\n",
       "    <tr>\n",
       "      <th></th>\n",
       "      <th colspan=\"4\" halign=\"left\">text</th>\n",
       "    </tr>\n",
       "    <tr>\n",
       "      <th></th>\n",
       "      <th>count</th>\n",
       "      <th>unique</th>\n",
       "      <th>top</th>\n",
       "      <th>freq</th>\n",
       "    </tr>\n",
       "    <tr>\n",
       "      <th>label</th>\n",
       "      <th></th>\n",
       "      <th></th>\n",
       "      <th></th>\n",
       "      <th></th>\n",
       "    </tr>\n",
       "  </thead>\n",
       "  <tbody>\n",
       "    <tr>\n",
       "      <th>ham</th>\n",
       "      <td>4516</td>\n",
       "      <td>4516</td>\n",
       "      <td>Go until jurong point, crazy.. Available only ...</td>\n",
       "      <td>1</td>\n",
       "    </tr>\n",
       "    <tr>\n",
       "      <th>spam</th>\n",
       "      <td>653</td>\n",
       "      <td>653</td>\n",
       "      <td>Free entry in 2 a wkly comp to win FA Cup fina...</td>\n",
       "      <td>1</td>\n",
       "    </tr>\n",
       "  </tbody>\n",
       "</table>\n",
       "</div>"
      ],
      "text/plain": [
       "       text                                                               \n",
       "      count unique                                                top freq\n",
       "label                                                                     \n",
       "ham    4516   4516  Go until jurong point, crazy.. Available only ...    1\n",
       "spam    653    653  Free entry in 2 a wkly comp to win FA Cup fina...    1"
      ]
     },
     "execution_count": 11,
     "metadata": {},
     "output_type": "execute_result"
    }
   ],
   "source": [
    "# sanity check\n",
    "data.groupby('label').describe()"
   ]
  },
  {
   "cell_type": "code",
   "execution_count": 12,
   "metadata": {
    "colab": {
     "base_uri": "https://localhost:8080/",
     "height": 279
    },
    "executionInfo": {
     "elapsed": 46,
     "status": "ok",
     "timestamp": 1647083771047,
     "user": {
      "displayName": "Igor Pidík",
      "photoUrl": "https://lh3.googleusercontent.com/a/default-user=s64",
      "userId": "11925848879683183121"
     },
     "user_tz": -60
    },
    "id": "drCMBrh5Fwis",
    "outputId": "ba7bff3d-4438-4838-8188-3e60813e178d"
   },
   "outputs": [
    {
     "data": {
      "image/png": "[encoded data removed]",
      "text/plain": [
       "<Figure size 432x288 with 1 Axes>"
      ]
     },
     "metadata": {
      "needs_background": "light"
     },
     "output_type": "display_data"
    }
   ],
   "source": [
    "get_count_plot(data, 'label')"
   ]
  },
  {
   "cell_type": "markdown",
   "metadata": {
    "id": "8ah6aiczKX_d"
   },
   "source": [
    "# Text features"
   ]
  },
  {
   "cell_type": "code",
   "execution_count": 13,
   "metadata": {
    "executionInfo": {
     "elapsed": 18,
     "status": "ok",
     "timestamp": 1647085159101,
     "user": {
      "displayName": "Igor Pidík",
      "photoUrl": "https://lh3.googleusercontent.com/a/default-user=s64",
      "userId": "11925848879683183121"
     },
     "user_tz": -60
    },
    "id": "vjD07GBrQV9A"
   },
   "outputs": [],
   "source": [
    "def get_token_info(text):\n",
    "  doc = nlp(text)\n",
    "\n",
    "  token_counter = len(doc)\n",
    "  alpha_counter = 0\n",
    "  digit_counter = 0\n",
    "  punct_counter = 0\n",
    "\n",
    "  lemmas = []\n",
    "  pos = []\n",
    "  is_stop_word = []\n",
    "  is_punct = []\n",
    "\n",
    "  for token in doc:\n",
    "    # counters\n",
    "    alpha_counter += token.is_alpha\n",
    "    digit_counter += token.is_digit\n",
    "    punct_counter += token.is_punct\n",
    "\n",
    "    # linguistic features\n",
    "    lemmas.append(token.lemma_)\n",
    "    pos.append(token.tag_)\n",
    "    is_stop_word.append(token.is_stop)\n",
    "    is_punct.append(token.is_punct)\n",
    "\n",
    "  return {\n",
    "      'text_length': len(text),\n",
    "      'number_of_tokens': token_counter,\n",
    "      # alpha tokens\n",
    "      'number_of_alpha_tokens': alpha_counter,\n",
    "      'fract_of_alpha_tokens': alpha_counter/token_counter,\n",
    "      # digit tokens\n",
    "      'number_of_digit_tokens': digit_counter,\n",
    "      'fract_of_digit_tokens': digit_counter/token_counter,\n",
    "      # alpha-digit\n",
    "      'number_of_alpha_digit_tokens': alpha_counter + digit_counter,\n",
    "      'fract_of_alpha_digit_tokens': (alpha_counter + digit_counter)/token_counter,\n",
    "      # punct\n",
    "      'number_of_punct_tokens': punct_counter,\n",
    "      'fract_of_punct_tokens': punct_counter/token_counter,\n",
    "      'number_of_sentences': len(list(doc.sents)),\n",
    "      # linguistic features\n",
    "      'lemmas': np.array(lemmas),\n",
    "      'pos_tags': np.array(pos),\n",
    "      'is_stop_word': np.array(is_stop_word),\n",
    "      'is_punct': np.array(is_punct)\n",
    "  }"
   ]
  },
  {
   "cell_type": "code",
   "execution_count": 15,
   "metadata": {
    "executionInfo": {
     "elapsed": 55207,
     "status": "ok",
     "timestamp": 1647085215902,
     "user": {
      "displayName": "Igor Pidík",
      "photoUrl": "https://lh3.googleusercontent.com/a/default-user=s64",
      "userId": "11925848879683183121"
     },
     "user_tz": -60
    },
    "id": "F8z6EinxZoeW"
   },
   "outputs": [],
   "source": [
    "token_info = pd.DataFrame.from_records(data['text'].apply(get_token_info).values)\n",
    "enriched_data = data.join(token_info)"
   ]
  },
  {
   "cell_type": "code",
   "execution_count": 16,
   "metadata": {
    "colab": {
     "base_uri": "https://localhost:8080/",
     "height": 791
    },
    "executionInfo": {
     "elapsed": 38,
     "status": "ok",
     "timestamp": 1647085215902,
     "user": {
      "displayName": "Igor Pidík",
      "photoUrl": "https://lh3.googleusercontent.com/a/default-user=s64",
      "userId": "11925848879683183121"
     },
     "user_tz": -60
    },
    "id": "ICKu7V2iZ_AP",
    "outputId": "c64beb66-dad9-483e-9b0a-5838466fedd0"
   },
   "outputs": [
    {
     "data": {
      "text/html": [
       "<div>\n",
       "<style scoped>\n",
       "    .dataframe tbody tr th:only-of-type {\n",
       "        vertical-align: middle;\n",
       "    }\n",
       "\n",
       "    .dataframe tbody tr th {\n",
       "        vertical-align: top;\n",
       "    }\n",
       "\n",
       "    .dataframe thead th {\n",
       "        text-align: right;\n",
       "    }\n",
       "</style>\n",
       "<table border=\"1\" class=\"dataframe\">\n",
       "  <thead>\n",
       "    <tr style=\"text-align: right;\">\n",
       "      <th></th>\n",
       "      <th>label</th>\n",
       "      <th>text</th>\n",
       "      <th>text_length</th>\n",
       "      <th>number_of_tokens</th>\n",
       "      <th>number_of_alpha_tokens</th>\n",
       "      <th>fract_of_alpha_tokens</th>\n",
       "      <th>number_of_digit_tokens</th>\n",
       "      <th>fract_of_digit_tokens</th>\n",
       "      <th>number_of_alpha_digit_tokens</th>\n",
       "      <th>fract_of_alpha_digit_tokens</th>\n",
       "      <th>number_of_punct_tokens</th>\n",
       "      <th>fract_of_punct_tokens</th>\n",
       "      <th>number_of_sentences</th>\n",
       "      <th>lemmas</th>\n",
       "      <th>pos_tags</th>\n",
       "      <th>is_stop_word</th>\n",
       "      <th>is_punct</th>\n",
       "    </tr>\n",
       "  </thead>\n",
       "  <tbody>\n",
       "    <tr>\n",
       "      <th>0</th>\n",
       "      <td>ham</td>\n",
       "      <td>Go until jurong point, crazy.. Available only ...</td>\n",
       "      <td>111</td>\n",
       "      <td>24</td>\n",
       "      <td>20</td>\n",
       "      <td>0.833333</td>\n",
       "      <td>0</td>\n",
       "      <td>0.000000</td>\n",
       "      <td>20</td>\n",
       "      <td>0.833333</td>\n",
       "      <td>4</td>\n",
       "      <td>0.166667</td>\n",
       "      <td>3</td>\n",
       "      <td>[go, until, jurong, point, ,, crazy, .., avail...</td>\n",
       "      <td>[VB, IN, NNP, NN, ,, JJ, ., JJ, RB, IN, JJ, CC...</td>\n",
       "      <td>[True, True, False, False, False, False, False...</td>\n",
       "      <td>[False, False, False, False, True, False, True...</td>\n",
       "    </tr>\n",
       "    <tr>\n",
       "      <th>1</th>\n",
       "      <td>ham</td>\n",
       "      <td>Ok lar... Joking wif u oni...</td>\n",
       "      <td>29</td>\n",
       "      <td>8</td>\n",
       "      <td>6</td>\n",
       "      <td>0.750000</td>\n",
       "      <td>0</td>\n",
       "      <td>0.000000</td>\n",
       "      <td>6</td>\n",
       "      <td>0.750000</td>\n",
       "      <td>2</td>\n",
       "      <td>0.250000</td>\n",
       "      <td>2</td>\n",
       "      <td>[ok, lar, ..., joke, wif, u, oni, ...]</td>\n",
       "      <td>[UH, JJ, :, VBG, NNS, NNP, NN, :]</td>\n",
       "      <td>[False, False, False, False, False, False, Fal...</td>\n",
       "      <td>[False, False, True, False, False, False, Fals...</td>\n",
       "    </tr>\n",
       "    <tr>\n",
       "      <th>2</th>\n",
       "      <td>spam</td>\n",
       "      <td>Free entry in 2 a wkly comp to win FA Cup fina...</td>\n",
       "      <td>155</td>\n",
       "      <td>31</td>\n",
       "      <td>21</td>\n",
       "      <td>0.677419</td>\n",
       "      <td>3</td>\n",
       "      <td>0.096774</td>\n",
       "      <td>24</td>\n",
       "      <td>0.774194</td>\n",
       "      <td>1</td>\n",
       "      <td>0.032258</td>\n",
       "      <td>2</td>\n",
       "      <td>[free, entry, in, 2, a, wkly, comp, to, win, F...</td>\n",
       "      <td>[JJ, NN, IN, CD, DT, JJ, NN, TO, VB, NNP, NNP,...</td>\n",
       "      <td>[False, False, True, False, True, False, False...</td>\n",
       "      <td>[False, False, False, False, False, False, Fal...</td>\n",
       "    </tr>\n",
       "    <tr>\n",
       "      <th>3</th>\n",
       "      <td>ham</td>\n",
       "      <td>U dun say so early hor... U c already then say...</td>\n",
       "      <td>49</td>\n",
       "      <td>13</td>\n",
       "      <td>11</td>\n",
       "      <td>0.846154</td>\n",
       "      <td>0</td>\n",
       "      <td>0.000000</td>\n",
       "      <td>11</td>\n",
       "      <td>0.846154</td>\n",
       "      <td>2</td>\n",
       "      <td>0.153846</td>\n",
       "      <td>2</td>\n",
       "      <td>[U, dun, say, so, early, hor, ..., U, c, alrea...</td>\n",
       "      <td>[NNP, NNP, VBP, RB, JJ, NN, ., NNP, VBP, RB, R...</td>\n",
       "      <td>[False, False, True, True, False, False, False...</td>\n",
       "      <td>[False, False, False, False, False, False, Tru...</td>\n",
       "    </tr>\n",
       "    <tr>\n",
       "      <th>4</th>\n",
       "      <td>ham</td>\n",
       "      <td>Nah I don't think he goes to usf, he lives aro...</td>\n",
       "      <td>61</td>\n",
       "      <td>15</td>\n",
       "      <td>13</td>\n",
       "      <td>0.866667</td>\n",
       "      <td>0</td>\n",
       "      <td>0.000000</td>\n",
       "      <td>13</td>\n",
       "      <td>0.866667</td>\n",
       "      <td>1</td>\n",
       "      <td>0.066667</td>\n",
       "      <td>1</td>\n",
       "      <td>[nah, I, do, not, think, he, go, to, usf, ,, h...</td>\n",
       "      <td>[UH, PRP, VBP, RB, VB, PRP, VBZ, IN, VB, ,, PR...</td>\n",
       "      <td>[False, True, True, True, False, True, False, ...</td>\n",
       "      <td>[False, False, False, False, False, False, Fal...</td>\n",
       "    </tr>\n",
       "  </tbody>\n",
       "</table>\n",
       "</div>"
      ],
      "text/plain": [
       "  label                                               text  text_length  \\\n",
       "0   ham  Go until jurong point, crazy.. Available only ...          111   \n",
       "1   ham                      Ok lar... Joking wif u oni...           29   \n",
       "2  spam  Free entry in 2 a wkly comp to win FA Cup fina...          155   \n",
       "3   ham  U dun say so early hor... U c already then say...           49   \n",
       "4   ham  Nah I don't think he goes to usf, he lives aro...           61   \n",
       "\n",
       "   number_of_tokens  number_of_alpha_tokens  fract_of_alpha_tokens  \\\n",
       "0                24                      20               0.833333   \n",
       "1                 8                       6               0.750000   \n",
       "2                31                      21               0.677419   \n",
       "3                13                      11               0.846154   \n",
       "4                15                      13               0.866667   \n",
       "\n",
       "   number_of_digit_tokens  fract_of_digit_tokens  \\\n",
       "0                       0               0.000000   \n",
       "1                       0               0.000000   \n",
       "2                       3               0.096774   \n",
       "3                       0               0.000000   \n",
       "4                       0               0.000000   \n",
       "\n",
       "   number_of_alpha_digit_tokens  fract_of_alpha_digit_tokens  \\\n",
       "0                            20                     0.833333   \n",
       "1                             6                     0.750000   \n",
       "2                            24                     0.774194   \n",
       "3                            11                     0.846154   \n",
       "4                            13                     0.866667   \n",
       "\n",
       "   number_of_punct_tokens  fract_of_punct_tokens  number_of_sentences  \\\n",
       "0                       4               0.166667                    3   \n",
       "1                       2               0.250000                    2   \n",
       "2                       1               0.032258                    2   \n",
       "3                       2               0.153846                    2   \n",
       "4                       1               0.066667                    1   \n",
       "\n",
       "                                              lemmas  \\\n",
       "0  [go, until, jurong, point, ,, crazy, .., avail...   \n",
       "1             [ok, lar, ..., joke, wif, u, oni, ...]   \n",
       "2  [free, entry, in, 2, a, wkly, comp, to, win, F...   \n",
       "3  [U, dun, say, so, early, hor, ..., U, c, alrea...   \n",
       "4  [nah, I, do, not, think, he, go, to, usf, ,, h...   \n",
       "\n",
       "                                            pos_tags  \\\n",
       "0  [VB, IN, NNP, NN, ,, JJ, ., JJ, RB, IN, JJ, CC...   \n",
       "1                  [UH, JJ, :, VBG, NNS, NNP, NN, :]   \n",
       "2  [JJ, NN, IN, CD, DT, JJ, NN, TO, VB, NNP, NNP,...   \n",
       "3  [NNP, NNP, VBP, RB, JJ, NN, ., NNP, VBP, RB, R...   \n",
       "4  [UH, PRP, VBP, RB, VB, PRP, VBZ, IN, VB, ,, PR...   \n",
       "\n",
       "                                        is_stop_word  \\\n",
       "0  [True, True, False, False, False, False, False...   \n",
       "1  [False, False, False, False, False, False, Fal...   \n",
       "2  [False, False, True, False, True, False, False...   \n",
       "3  [False, False, True, True, False, False, False...   \n",
       "4  [False, True, True, True, False, True, False, ...   \n",
       "\n",
       "                                            is_punct  \n",
       "0  [False, False, False, False, True, False, True...  \n",
       "1  [False, False, True, False, False, False, Fals...  \n",
       "2  [False, False, False, False, False, False, Fal...  \n",
       "3  [False, False, False, False, False, False, Tru...  \n",
       "4  [False, False, False, False, False, False, Fal...  "
      ]
     },
     "execution_count": 16,
     "metadata": {},
     "output_type": "execute_result"
    }
   ],
   "source": [
    "enriched_data.head()"
   ]
  },
  {
   "cell_type": "code",
   "execution_count": 17,
   "metadata": {
    "executionInfo": {
     "elapsed": 27,
     "status": "ok",
     "timestamp": 1647085215903,
     "user": {
      "displayName": "Igor Pidík",
      "photoUrl": "https://lh3.googleusercontent.com/a/default-user=s64",
      "userId": "11925848879683183121"
     },
     "user_tz": -60
    },
    "id": "uYVvoEYHUBgg"
   },
   "outputs": [],
   "source": [
    "grouped_by_label = enriched_data.groupby('label')"
   ]
  },
  {
   "cell_type": "markdown",
   "metadata": {
    "id": "vL43oATDKfwP"
   },
   "source": [
    "# Text length"
   ]
  },
  {
   "cell_type": "code",
   "execution_count": 18,
   "metadata": {
    "colab": {
     "base_uri": "https://localhost:8080/",
     "height": 349
    },
    "executionInfo": {
     "elapsed": 788,
     "status": "ok",
     "timestamp": 1647085216664,
     "user": {
      "displayName": "Igor Pidík",
      "photoUrl": "https://lh3.googleusercontent.com/a/default-user=s64",
      "userId": "11925848879683183121"
     },
     "user_tz": -60
    },
    "id": "BLMbgOX3aYyj",
    "outputId": "b51882ba-626f-4576-a9df-4c196d892782"
   },
   "outputs": [
    {
     "name": "stdout",
     "output_type": "stream",
     "text": [
      "        count        mean        std   min    25%    50%    75%    max\n",
      "label                                                                 \n",
      "ham    4516.0   70.905890  56.715046   2.0   34.0   53.0   91.0  910.0\n",
      "spam    653.0  137.704441  29.821348  13.0  132.0  148.0  157.0  223.0\n"
     ]
    },
    {
     "data": {
      "image/png": "[encoded data removed]",
      "text/plain": [
       "<Figure size 432x288 with 1 Axes>"
      ]
     },
     "metadata": {
      "needs_background": "light"
     },
     "output_type": "display_data"
    }
   ],
   "source": [
    "describe_and_plot_histogram(enriched_data, 'text_length')"
   ]
  },
  {
   "cell_type": "markdown",
   "metadata": {
    "id": "4TujhEYrKbw-"
   },
   "source": [
    "# Number of tokens"
   ]
  },
  {
   "cell_type": "code",
   "execution_count": 19,
   "metadata": {
    "colab": {
     "base_uri": "https://localhost:8080/",
     "height": 349
    },
    "executionInfo": {
     "elapsed": 829,
     "status": "ok",
     "timestamp": 1647085217483,
     "user": {
      "displayName": "Igor Pidík",
      "photoUrl": "https://lh3.googleusercontent.com/a/default-user=s64",
      "userId": "11925848879683183121"
     },
     "user_tz": -60
    },
    "id": "Sz-aWlLCKbEJ",
    "outputId": "2cad54ab-86b9-4b16-8059-5987892d1f43"
   },
   "outputs": [
    {
     "name": "stdout",
     "output_type": "stream",
     "text": [
      "        count       mean        std  min   25%   50%   75%    max\n",
      "label                                                            \n",
      "ham    4516.0  17.028344  13.324009  1.0   8.0  13.0  22.0  196.0\n",
      "spam    653.0  28.607963   7.407056  2.0  26.0  30.0  33.0   49.0\n"
     ]
    },
    {
     "data": {
      "image/png": "[encoded data removed]",
      "text/plain": [
       "<Figure size 432x288 with 1 Axes>"
      ]
     },
     "metadata": {
      "needs_background": "light"
     },
     "output_type": "display_data"
    }
   ],
   "source": [
    "describe_and_plot_histogram(enriched_data, 'number_of_tokens')"
   ]
  },
  {
   "cell_type": "markdown",
   "metadata": {
    "id": "92PgIc0De1_G"
   },
   "source": [
    "# Alpha-digit tokens"
   ]
  },
  {
   "cell_type": "code",
   "execution_count": 20,
   "metadata": {
    "colab": {
     "base_uri": "https://localhost:8080/",
     "height": 349
    },
    "executionInfo": {
     "elapsed": 871,
     "status": "ok",
     "timestamp": 1647085218343,
     "user": {
      "displayName": "Igor Pidík",
      "photoUrl": "https://lh3.googleusercontent.com/a/default-user=s64",
      "userId": "11925848879683183121"
     },
     "user_tz": -60
    },
    "id": "llX_-kX1etjb",
    "outputId": "f519287e-8fc5-4ac5-c4e1-c6128a56693b"
   },
   "outputs": [
    {
     "name": "stdout",
     "output_type": "stream",
     "text": [
      "        count       mean        std  min   25%   50%   75%    max\n",
      "label                                                            \n",
      "ham    4516.0  13.953277  10.857469  0.0   7.0  11.0  18.0  167.0\n",
      "spam    653.0  21.984686   5.878870  0.0  19.0  23.0  26.0   34.0\n"
     ]
    },
    {
     "data": {
      "image/png": "[encoded data removed]",
      "text/plain": [
       "<Figure size 432x288 with 1 Axes>"
      ]
     },
     "metadata": {
      "needs_background": "light"
     },
     "output_type": "display_data"
    }
   ],
   "source": [
    "describe_and_plot_histogram(enriched_data, 'number_of_alpha_digit_tokens')"
   ]
  },
  {
   "cell_type": "code",
   "execution_count": 21,
   "metadata": {
    "colab": {
     "base_uri": "https://localhost:8080/",
     "height": 349
    },
    "executionInfo": {
     "elapsed": 715,
     "status": "ok",
     "timestamp": 1647085219049,
     "user": {
      "displayName": "Igor Pidík",
      "photoUrl": "https://lh3.googleusercontent.com/a/default-user=s64",
      "userId": "11925848879683183121"
     },
     "user_tz": -60
    },
    "id": "_PgDc5jve4h7",
    "outputId": "2e73481d-79d5-4f31-abb9-4c409c78369b"
   },
   "outputs": [
    {
     "name": "stdout",
     "output_type": "stream",
     "text": [
      "        count      mean       std  min       25%       50%       75%  max\n",
      "label                                                                    \n",
      "ham    4516.0  0.817970  0.115438  0.0  0.761905  0.833333  0.888889  1.0\n",
      "spam    653.0  0.772453  0.111296  0.0  0.709677  0.777778  0.848485  1.0\n"
     ]
    },
    {
     "data": {
      "image/png": "[encoded data removed]",
      "text/plain": [
       "<Figure size 432x288 with 1 Axes>"
      ]
     },
     "metadata": {
      "needs_background": "light"
     },
     "output_type": "display_data"
    }
   ],
   "source": [
    "describe_and_plot_histogram(enriched_data, 'fract_of_alpha_digit_tokens')"
   ]
  },
  {
   "cell_type": "markdown",
   "metadata": {
    "id": "cr6e4LQjaxzd"
   },
   "source": [
    "# Alpha tokens"
   ]
  },
  {
   "cell_type": "code",
   "execution_count": 22,
   "metadata": {
    "colab": {
     "base_uri": "https://localhost:8080/",
     "height": 350
    },
    "executionInfo": {
     "elapsed": 1196,
     "status": "ok",
     "timestamp": 1647085220233,
     "user": {
      "displayName": "Igor Pidík",
      "photoUrl": "https://lh3.googleusercontent.com/a/default-user=s64",
      "userId": "11925848879683183121"
     },
     "user_tz": -60
    },
    "id": "LcR8_3mFa2px",
    "outputId": "17b68536-16c6-48f8-b5a8-0a035b3bc928"
   },
   "outputs": [
    {
     "name": "stdout",
     "output_type": "stream",
     "text": [
      "        count       mean        std  min   25%   50%   75%    max\n",
      "label                                                            \n",
      "ham    4516.0  13.784987  10.747049  0.0   7.0  10.0  18.0  167.0\n",
      "spam    653.0  19.721286   5.676244  0.0  17.0  21.0  24.0   33.0\n"
     ]
    },
    {
     "data": {
      "image/png": "[encoded data removed]",
      "text/plain": [
       "<Figure size 432x288 with 1 Axes>"
      ]
     },
     "metadata": {
      "needs_background": "light"
     },
     "output_type": "display_data"
    }
   ],
   "source": [
    "describe_and_plot_histogram(enriched_data, 'number_of_alpha_tokens')"
   ]
  },
  {
   "cell_type": "code",
   "execution_count": 23,
   "metadata": {
    "colab": {
     "base_uri": "https://localhost:8080/",
     "height": 143
    },
    "executionInfo": {
     "elapsed": 21,
     "status": "ok",
     "timestamp": 1647085220233,
     "user": {
      "displayName": "Igor Pidík",
      "photoUrl": "https://lh3.googleusercontent.com/a/default-user=s64",
      "userId": "11925848879683183121"
     },
     "user_tz": -60
    },
    "id": "iuc8M8RrdYP5",
    "outputId": "cc442062-cc23-4efe-d0c8-6a2288c81c2c"
   },
   "outputs": [
    {
     "data": {
      "text/html": [
       "<div>\n",
       "<style scoped>\n",
       "    .dataframe tbody tr th:only-of-type {\n",
       "        vertical-align: middle;\n",
       "    }\n",
       "\n",
       "    .dataframe tbody tr th {\n",
       "        vertical-align: top;\n",
       "    }\n",
       "\n",
       "    .dataframe thead th {\n",
       "        text-align: right;\n",
       "    }\n",
       "</style>\n",
       "<table border=\"1\" class=\"dataframe\">\n",
       "  <thead>\n",
       "    <tr style=\"text-align: right;\">\n",
       "      <th></th>\n",
       "      <th>count</th>\n",
       "      <th>mean</th>\n",
       "      <th>std</th>\n",
       "      <th>min</th>\n",
       "      <th>25%</th>\n",
       "      <th>50%</th>\n",
       "      <th>75%</th>\n",
       "      <th>max</th>\n",
       "    </tr>\n",
       "    <tr>\n",
       "      <th>label</th>\n",
       "      <th></th>\n",
       "      <th></th>\n",
       "      <th></th>\n",
       "      <th></th>\n",
       "      <th></th>\n",
       "      <th></th>\n",
       "      <th></th>\n",
       "      <th></th>\n",
       "    </tr>\n",
       "  </thead>\n",
       "  <tbody>\n",
       "    <tr>\n",
       "      <th>ham</th>\n",
       "      <td>4516.0</td>\n",
       "      <td>0.808811</td>\n",
       "      <td>0.119329</td>\n",
       "      <td>0.0</td>\n",
       "      <td>0.750000</td>\n",
       "      <td>0.823529</td>\n",
       "      <td>0.878788</td>\n",
       "      <td>1.0</td>\n",
       "    </tr>\n",
       "    <tr>\n",
       "      <th>spam</th>\n",
       "      <td>653.0</td>\n",
       "      <td>0.690075</td>\n",
       "      <td>0.121532</td>\n",
       "      <td>0.0</td>\n",
       "      <td>0.612903</td>\n",
       "      <td>0.692308</td>\n",
       "      <td>0.772727</td>\n",
       "      <td>1.0</td>\n",
       "    </tr>\n",
       "  </tbody>\n",
       "</table>\n",
       "</div>"
      ],
      "text/plain": [
       "        count      mean       std  min       25%       50%       75%  max\n",
       "label                                                                    \n",
       "ham    4516.0  0.808811  0.119329  0.0  0.750000  0.823529  0.878788  1.0\n",
       "spam    653.0  0.690075  0.121532  0.0  0.612903  0.692308  0.772727  1.0"
      ]
     },
     "execution_count": 23,
     "metadata": {},
     "output_type": "execute_result"
    }
   ],
   "source": [
    "grouped_by_label['fract_of_alpha_tokens'].describe()"
   ]
  },
  {
   "cell_type": "markdown",
   "metadata": {
    "id": "xMXN0vgqa7W2"
   },
   "source": [
    "**Digit tokens**"
   ]
  },
  {
   "cell_type": "code",
   "execution_count": 24,
   "metadata": {
    "colab": {
     "base_uri": "https://localhost:8080/",
     "height": 349
    },
    "executionInfo": {
     "elapsed": 284,
     "status": "ok",
     "timestamp": 1647085220498,
     "user": {
      "displayName": "Igor Pidík",
      "photoUrl": "https://lh3.googleusercontent.com/a/default-user=s64",
      "userId": "11925848879683183121"
     },
     "user_tz": -60
    },
    "id": "o3sa3GMYa6uw",
    "outputId": "241cc7e6-b45f-4ac9-923b-f7572e220193"
   },
   "outputs": [
    {
     "name": "stdout",
     "output_type": "stream",
     "text": [
      "        count      mean       std  min  25%  50%  75%   max\n",
      "label                                                      \n",
      "ham    4516.0  0.168291  0.583665  0.0  0.0  0.0  0.0  10.0\n",
      "spam    653.0  2.263400  1.481323  0.0  1.0  2.0  3.0   7.0\n"
     ]
    },
    {
     "data": {
      "image/png": "[encoded data removed]",
      "text/plain": [
       "<Figure size 432x288 with 1 Axes>"
      ]
     },
     "metadata": {
      "needs_background": "light"
     },
     "output_type": "display_data"
    }
   ],
   "source": [
    "describe_and_plot_histogram(enriched_data, 'number_of_digit_tokens')"
   ]
  },
  {
   "cell_type": "markdown",
   "metadata": {
    "id": "jjJbpjyocXEk"
   },
   "source": [
    "This graph is a bit hard to read so let's plot the classes individually"
   ]
  },
  {
   "cell_type": "code",
   "execution_count": 25,
   "metadata": {
    "colab": {
     "base_uri": "https://localhost:8080/",
     "height": 332
    },
    "executionInfo": {
     "elapsed": 379,
     "status": "ok",
     "timestamp": 1647085220866,
     "user": {
      "displayName": "Igor Pidík",
      "photoUrl": "https://lh3.googleusercontent.com/a/default-user=s64",
      "userId": "11925848879683183121"
     },
     "user_tz": -60
    },
    "id": "7ElcDOP5cNR1",
    "outputId": "602b4a5f-de48-46ba-f060-c77be5f5791e"
   },
   "outputs": [
    {
     "name": "stdout",
     "output_type": "stream",
     "text": [
      "        count      mean       std  min  25%  50%  75%   max\n",
      "label                                                      \n",
      "ham    4516.0  0.168291  0.583665  0.0  0.0  0.0  0.0  10.0\n"
     ]
    },
    {
     "data": {
      "image/png": "[encoded data removed]",
      "text/plain": [
       "<Figure size 432x288 with 1 Axes>"
      ]
     },
     "metadata": {
      "needs_background": "light"
     },
     "output_type": "display_data"
    }
   ],
   "source": [
    "describe_and_plot_histogram(enriched_data[enriched_data['label']=='ham'], 'number_of_digit_tokens')"
   ]
  },
  {
   "cell_type": "code",
   "execution_count": 26,
   "metadata": {
    "colab": {
     "base_uri": "https://localhost:8080/",
     "height": 332
    },
    "executionInfo": {
     "elapsed": 428,
     "status": "ok",
     "timestamp": 1647085221282,
     "user": {
      "displayName": "Igor Pidík",
      "photoUrl": "https://lh3.googleusercontent.com/a/default-user=s64",
      "userId": "11925848879683183121"
     },
     "user_tz": -60
    },
    "id": "s23c6pL1cTZH",
    "outputId": "b09b7ed9-5809-40b5-a2e5-fa19b55c7695"
   },
   "outputs": [
    {
     "name": "stdout",
     "output_type": "stream",
     "text": [
      "       count    mean       std  min  25%  50%  75%  max\n",
      "label                                                  \n",
      "spam   653.0  2.2634  1.481323  0.0  1.0  2.0  3.0  7.0\n"
     ]
    },
    {
     "data": {
      "image/png": "[encoded data removed]",
      "text/plain": [
       "<Figure size 432x288 with 1 Axes>"
      ]
     },
     "metadata": {
      "needs_background": "light"
     },
     "output_type": "display_data"
    }
   ],
   "source": [
    "describe_and_plot_histogram(enriched_data[enriched_data['label']=='spam'], 'number_of_digit_tokens')"
   ]
  },
  {
   "cell_type": "code",
   "execution_count": 27,
   "metadata": {
    "colab": {
     "base_uri": "https://localhost:8080/",
     "height": 143
    },
    "executionInfo": {
     "elapsed": 44,
     "status": "ok",
     "timestamp": 1647085221285,
     "user": {
      "displayName": "Igor Pidík",
      "photoUrl": "https://lh3.googleusercontent.com/a/default-user=s64",
      "userId": "11925848879683183121"
     },
     "user_tz": -60
    },
    "id": "uS071oQZdkTn",
    "outputId": "33d09c16-aa0a-48eb-e4ce-9c9d7d3579a3"
   },
   "outputs": [
    {
     "data": {
      "text/html": [
       "<div>\n",
       "<style scoped>\n",
       "    .dataframe tbody tr th:only-of-type {\n",
       "        vertical-align: middle;\n",
       "    }\n",
       "\n",
       "    .dataframe tbody tr th {\n",
       "        vertical-align: top;\n",
       "    }\n",
       "\n",
       "    .dataframe thead th {\n",
       "        text-align: right;\n",
       "    }\n",
       "</style>\n",
       "<table border=\"1\" class=\"dataframe\">\n",
       "  <thead>\n",
       "    <tr style=\"text-align: right;\">\n",
       "      <th></th>\n",
       "      <th>count</th>\n",
       "      <th>mean</th>\n",
       "      <th>std</th>\n",
       "      <th>min</th>\n",
       "      <th>25%</th>\n",
       "      <th>50%</th>\n",
       "      <th>75%</th>\n",
       "      <th>max</th>\n",
       "    </tr>\n",
       "    <tr>\n",
       "      <th>label</th>\n",
       "      <th></th>\n",
       "      <th></th>\n",
       "      <th></th>\n",
       "      <th></th>\n",
       "      <th></th>\n",
       "      <th></th>\n",
       "      <th></th>\n",
       "      <th></th>\n",
       "    </tr>\n",
       "  </thead>\n",
       "  <tbody>\n",
       "    <tr>\n",
       "      <th>ham</th>\n",
       "      <td>4516.0</td>\n",
       "      <td>0.009159</td>\n",
       "      <td>0.033132</td>\n",
       "      <td>0.0</td>\n",
       "      <td>0.000000</td>\n",
       "      <td>0.000000</td>\n",
       "      <td>0.000000</td>\n",
       "      <td>1.0</td>\n",
       "    </tr>\n",
       "    <tr>\n",
       "      <th>spam</th>\n",
       "      <td>653.0</td>\n",
       "      <td>0.082378</td>\n",
       "      <td>0.060810</td>\n",
       "      <td>0.0</td>\n",
       "      <td>0.037037</td>\n",
       "      <td>0.074074</td>\n",
       "      <td>0.111111</td>\n",
       "      <td>0.5</td>\n",
       "    </tr>\n",
       "  </tbody>\n",
       "</table>\n",
       "</div>"
      ],
      "text/plain": [
       "        count      mean       std  min       25%       50%       75%  max\n",
       "label                                                                    \n",
       "ham    4516.0  0.009159  0.033132  0.0  0.000000  0.000000  0.000000  1.0\n",
       "spam    653.0  0.082378  0.060810  0.0  0.037037  0.074074  0.111111  0.5"
      ]
     },
     "execution_count": 27,
     "metadata": {},
     "output_type": "execute_result"
    }
   ],
   "source": [
    "grouped_by_label['fract_of_digit_tokens'].describe()"
   ]
  },
  {
   "cell_type": "markdown",
   "metadata": {
    "id": "Ks-jAvcMba4x"
   },
   "source": [
    "# Punct tokens"
   ]
  },
  {
   "cell_type": "code",
   "execution_count": 28,
   "metadata": {
    "colab": {
     "base_uri": "https://localhost:8080/",
     "height": 349
    },
    "executionInfo": {
     "elapsed": 2102,
     "status": "ok",
     "timestamp": 1647085223353,
     "user": {
      "displayName": "Igor Pidík",
      "photoUrl": "https://lh3.googleusercontent.com/a/default-user=s64",
      "userId": "11925848879683183121"
     },
     "user_tz": -60
    },
    "id": "kLAM15spbcDS",
    "outputId": "741dd38d-d916-4e9a-aaa1-648a83e81f73"
   },
   "outputs": [
    {
     "name": "stdout",
     "output_type": "stream",
     "text": [
      "        count      mean       std  min  25%  50%  75%   max\n",
      "label                                                      \n",
      "ham    4516.0  2.329052  2.646506  0.0  1.0  2.0  3.0  75.0\n",
      "spam    653.0  3.931087  2.648040  0.0  2.0  4.0  5.0  21.0\n"
     ]
    },
    {
     "data": {
      "image/png": "[encoded data removed]",
      "text/plain": [
       "<Figure size 432x288 with 1 Axes>"
      ]
     },
     "metadata": {
      "needs_background": "light"
     },
     "output_type": "display_data"
    }
   ],
   "source": [
    "describe_and_plot_histogram(enriched_data, 'number_of_punct_tokens')"
   ]
  },
  {
   "cell_type": "code",
   "execution_count": 29,
   "metadata": {
    "colab": {
     "base_uri": "https://localhost:8080/",
     "height": 332
    },
    "executionInfo": {
     "elapsed": 1445,
     "status": "ok",
     "timestamp": 1647085224787,
     "user": {
      "displayName": "Igor Pidík",
      "photoUrl": "https://lh3.googleusercontent.com/a/default-user=s64",
      "userId": "11925848879683183121"
     },
     "user_tz": -60
    },
    "id": "Mxb7NOPVbrX5",
    "outputId": "97ca661d-c100-4687-f9fb-0b47276b2588"
   },
   "outputs": [
    {
     "name": "stdout",
     "output_type": "stream",
     "text": [
      "        count      mean       std  min  25%  50%  75%   max\n",
      "label                                                      \n",
      "ham    4516.0  2.329052  2.646506  0.0  1.0  2.0  3.0  75.0\n"
     ]
    },
    {
     "data": {
      "image/png": "[encoded data removed]",
      "text/plain": [
       "<Figure size 432x288 with 1 Axes>"
      ]
     },
     "metadata": {
      "needs_background": "light"
     },
     "output_type": "display_data"
    }
   ],
   "source": [
    "describe_and_plot_histogram(enriched_data[enriched_data['label']=='ham'], 'number_of_punct_tokens')"
   ]
  },
  {
   "cell_type": "code",
   "execution_count": 30,
   "metadata": {
    "colab": {
     "base_uri": "https://localhost:8080/",
     "height": 332
    },
    "executionInfo": {
     "elapsed": 817,
     "status": "ok",
     "timestamp": 1647085225596,
     "user": {
      "displayName": "Igor Pidík",
      "photoUrl": "https://lh3.googleusercontent.com/a/default-user=s64",
      "userId": "11925848879683183121"
     },
     "user_tz": -60
    },
    "id": "2FT422g9b_cY",
    "outputId": "e5e33146-fd18-48a7-84a9-9a622dd9040b"
   },
   "outputs": [
    {
     "name": "stdout",
     "output_type": "stream",
     "text": [
      "       count      mean      std  min  25%  50%  75%   max\n",
      "label                                                    \n",
      "spam   653.0  3.931087  2.64804  0.0  2.0  4.0  5.0  21.0\n"
     ]
    },
    {
     "data": {
      "image/png": "[encoded data removed]",
      "text/plain": [
       "<Figure size 432x288 with 1 Axes>"
      ]
     },
     "metadata": {
      "needs_background": "light"
     },
     "output_type": "display_data"
    }
   ],
   "source": [
    "describe_and_plot_histogram(enriched_data[enriched_data['label']=='spam'], 'number_of_punct_tokens')"
   ]
  },
  {
   "cell_type": "code",
   "execution_count": 31,
   "metadata": {
    "colab": {
     "base_uri": "https://localhost:8080/",
     "height": 143
    },
    "executionInfo": {
     "elapsed": 40,
     "status": "ok",
     "timestamp": 1647085225598,
     "user": {
      "displayName": "Igor Pidík",
      "photoUrl": "https://lh3.googleusercontent.com/a/default-user=s64",
      "userId": "11925848879683183121"
     },
     "user_tz": -60
    },
    "id": "hcmM-r25eVNp",
    "outputId": "52781ee6-a705-49b1-edea-f2ba507d8f6f"
   },
   "outputs": [
    {
     "data": {
      "text/html": [
       "<div>\n",
       "<style scoped>\n",
       "    .dataframe tbody tr th:only-of-type {\n",
       "        vertical-align: middle;\n",
       "    }\n",
       "\n",
       "    .dataframe tbody tr th {\n",
       "        vertical-align: top;\n",
       "    }\n",
       "\n",
       "    .dataframe thead th {\n",
       "        text-align: right;\n",
       "    }\n",
       "</style>\n",
       "<table border=\"1\" class=\"dataframe\">\n",
       "  <thead>\n",
       "    <tr style=\"text-align: right;\">\n",
       "      <th></th>\n",
       "      <th>count</th>\n",
       "      <th>mean</th>\n",
       "      <th>std</th>\n",
       "      <th>min</th>\n",
       "      <th>25%</th>\n",
       "      <th>50%</th>\n",
       "      <th>75%</th>\n",
       "      <th>max</th>\n",
       "    </tr>\n",
       "    <tr>\n",
       "      <th>label</th>\n",
       "      <th></th>\n",
       "      <th></th>\n",
       "      <th></th>\n",
       "      <th></th>\n",
       "      <th></th>\n",
       "      <th></th>\n",
       "      <th></th>\n",
       "      <th></th>\n",
       "    </tr>\n",
       "  </thead>\n",
       "  <tbody>\n",
       "    <tr>\n",
       "      <th>ham</th>\n",
       "      <td>4516.0</td>\n",
       "      <td>0.138588</td>\n",
       "      <td>0.089912</td>\n",
       "      <td>0.0</td>\n",
       "      <td>0.085016</td>\n",
       "      <td>0.133333</td>\n",
       "      <td>0.187500</td>\n",
       "      <td>1.000000</td>\n",
       "    </tr>\n",
       "    <tr>\n",
       "      <th>spam</th>\n",
       "      <td>653.0</td>\n",
       "      <td>0.131745</td>\n",
       "      <td>0.071730</td>\n",
       "      <td>0.0</td>\n",
       "      <td>0.083333</td>\n",
       "      <td>0.129032</td>\n",
       "      <td>0.178571</td>\n",
       "      <td>0.477273</td>\n",
       "    </tr>\n",
       "  </tbody>\n",
       "</table>\n",
       "</div>"
      ],
      "text/plain": [
       "        count      mean       std  min       25%       50%       75%       max\n",
       "label                                                                         \n",
       "ham    4516.0  0.138588  0.089912  0.0  0.085016  0.133333  0.187500  1.000000\n",
       "spam    653.0  0.131745  0.071730  0.0  0.083333  0.129032  0.178571  0.477273"
      ]
     },
     "execution_count": 31,
     "metadata": {},
     "output_type": "execute_result"
    }
   ],
   "source": [
    "grouped_by_label['fract_of_punct_tokens'].describe()"
   ]
  },
  {
   "cell_type": "code",
   "execution_count": 32,
   "metadata": {
    "colab": {
     "base_uri": "https://localhost:8080/",
     "height": 143
    },
    "executionInfo": {
     "elapsed": 39,
     "status": "ok",
     "timestamp": 1647085225599,
     "user": {
      "displayName": "Igor Pidík",
      "photoUrl": "https://lh3.googleusercontent.com/a/default-user=s64",
      "userId": "11925848879683183121"
     },
     "user_tz": -60
    },
    "id": "oIYUXFS_eiNE",
    "outputId": "6e9491e3-0b7d-42be-cc42-a9cca0cb3a3d"
   },
   "outputs": [
    {
     "data": {
      "text/html": [
       "<div>\n",
       "<style scoped>\n",
       "    .dataframe tbody tr th:only-of-type {\n",
       "        vertical-align: middle;\n",
       "    }\n",
       "\n",
       "    .dataframe tbody tr th {\n",
       "        vertical-align: top;\n",
       "    }\n",
       "\n",
       "    .dataframe thead th {\n",
       "        text-align: right;\n",
       "    }\n",
       "</style>\n",
       "<table border=\"1\" class=\"dataframe\">\n",
       "  <thead>\n",
       "    <tr style=\"text-align: right;\">\n",
       "      <th></th>\n",
       "      <th>count</th>\n",
       "      <th>mean</th>\n",
       "      <th>std</th>\n",
       "      <th>min</th>\n",
       "      <th>25%</th>\n",
       "      <th>50%</th>\n",
       "      <th>75%</th>\n",
       "      <th>max</th>\n",
       "    </tr>\n",
       "    <tr>\n",
       "      <th>label</th>\n",
       "      <th></th>\n",
       "      <th></th>\n",
       "      <th></th>\n",
       "      <th></th>\n",
       "      <th></th>\n",
       "      <th></th>\n",
       "      <th></th>\n",
       "      <th></th>\n",
       "    </tr>\n",
       "  </thead>\n",
       "  <tbody>\n",
       "    <tr>\n",
       "      <th>ham</th>\n",
       "      <td>4516.0</td>\n",
       "      <td>13.953277</td>\n",
       "      <td>10.857469</td>\n",
       "      <td>0.0</td>\n",
       "      <td>7.0</td>\n",
       "      <td>11.0</td>\n",
       "      <td>18.0</td>\n",
       "      <td>167.0</td>\n",
       "    </tr>\n",
       "    <tr>\n",
       "      <th>spam</th>\n",
       "      <td>653.0</td>\n",
       "      <td>21.984686</td>\n",
       "      <td>5.878870</td>\n",
       "      <td>0.0</td>\n",
       "      <td>19.0</td>\n",
       "      <td>23.0</td>\n",
       "      <td>26.0</td>\n",
       "      <td>34.0</td>\n",
       "    </tr>\n",
       "  </tbody>\n",
       "</table>\n",
       "</div>"
      ],
      "text/plain": [
       "        count       mean        std  min   25%   50%   75%    max\n",
       "label                                                            \n",
       "ham    4516.0  13.953277  10.857469  0.0   7.0  11.0  18.0  167.0\n",
       "spam    653.0  21.984686   5.878870  0.0  19.0  23.0  26.0   34.0"
      ]
     },
     "execution_count": 32,
     "metadata": {},
     "output_type": "execute_result"
    }
   ],
   "source": [
    "grouped_by_label['number_of_alpha_digit_tokens'].describe()"
   ]
  },
  {
   "cell_type": "code",
   "execution_count": 33,
   "metadata": {
    "colab": {
     "base_uri": "https://localhost:8080/",
     "height": 143
    },
    "executionInfo": {
     "elapsed": 38,
     "status": "ok",
     "timestamp": 1647085225600,
     "user": {
      "displayName": "Igor Pidík",
      "photoUrl": "https://lh3.googleusercontent.com/a/default-user=s64",
      "userId": "11925848879683183121"
     },
     "user_tz": -60
    },
    "id": "JdJg8W2Wemt4",
    "outputId": "ad182dc1-3f41-4632-814c-87fd983a79c9"
   },
   "outputs": [
    {
     "data": {
      "text/html": [
       "<div>\n",
       "<style scoped>\n",
       "    .dataframe tbody tr th:only-of-type {\n",
       "        vertical-align: middle;\n",
       "    }\n",
       "\n",
       "    .dataframe tbody tr th {\n",
       "        vertical-align: top;\n",
       "    }\n",
       "\n",
       "    .dataframe thead th {\n",
       "        text-align: right;\n",
       "    }\n",
       "</style>\n",
       "<table border=\"1\" class=\"dataframe\">\n",
       "  <thead>\n",
       "    <tr style=\"text-align: right;\">\n",
       "      <th></th>\n",
       "      <th>count</th>\n",
       "      <th>mean</th>\n",
       "      <th>std</th>\n",
       "      <th>min</th>\n",
       "      <th>25%</th>\n",
       "      <th>50%</th>\n",
       "      <th>75%</th>\n",
       "      <th>max</th>\n",
       "    </tr>\n",
       "    <tr>\n",
       "      <th>label</th>\n",
       "      <th></th>\n",
       "      <th></th>\n",
       "      <th></th>\n",
       "      <th></th>\n",
       "      <th></th>\n",
       "      <th></th>\n",
       "      <th></th>\n",
       "      <th></th>\n",
       "    </tr>\n",
       "  </thead>\n",
       "  <tbody>\n",
       "    <tr>\n",
       "      <th>ham</th>\n",
       "      <td>4516.0</td>\n",
       "      <td>0.817970</td>\n",
       "      <td>0.115438</td>\n",
       "      <td>0.0</td>\n",
       "      <td>0.761905</td>\n",
       "      <td>0.833333</td>\n",
       "      <td>0.888889</td>\n",
       "      <td>1.0</td>\n",
       "    </tr>\n",
       "    <tr>\n",
       "      <th>spam</th>\n",
       "      <td>653.0</td>\n",
       "      <td>0.772453</td>\n",
       "      <td>0.111296</td>\n",
       "      <td>0.0</td>\n",
       "      <td>0.709677</td>\n",
       "      <td>0.777778</td>\n",
       "      <td>0.848485</td>\n",
       "      <td>1.0</td>\n",
       "    </tr>\n",
       "  </tbody>\n",
       "</table>\n",
       "</div>"
      ],
      "text/plain": [
       "        count      mean       std  min       25%       50%       75%  max\n",
       "label                                                                    \n",
       "ham    4516.0  0.817970  0.115438  0.0  0.761905  0.833333  0.888889  1.0\n",
       "spam    653.0  0.772453  0.111296  0.0  0.709677  0.777778  0.848485  1.0"
      ]
     },
     "execution_count": 33,
     "metadata": {},
     "output_type": "execute_result"
    }
   ],
   "source": [
    "grouped_by_label['fract_of_alpha_digit_tokens'].describe()"
   ]
  },
  {
   "cell_type": "markdown",
   "metadata": {
    "id": "LqmG_53bfAwB"
   },
   "source": [
    "# Number of sentences"
   ]
  },
  {
   "cell_type": "code",
   "execution_count": 34,
   "metadata": {
    "colab": {
     "base_uri": "https://localhost:8080/",
     "height": 349
    },
    "executionInfo": {
     "elapsed": 1206,
     "status": "ok",
     "timestamp": 1647085226769,
     "user": {
      "displayName": "Igor Pidík",
      "photoUrl": "https://lh3.googleusercontent.com/a/default-user=s64",
      "userId": "11925848879683183121"
     },
     "user_tz": -60
    },
    "id": "Saqq_6l4fEpt",
    "outputId": "a5c73ad3-8fcd-4ba0-bb0e-d9e1e8779c79"
   },
   "outputs": [
    {
     "name": "stdout",
     "output_type": "stream",
     "text": [
      "        count      mean       std  min  25%  50%  75%   max\n",
      "label                                                      \n",
      "ham    4516.0  1.983835  1.424188  1.0  1.0  2.0  2.0  30.0\n",
      "spam    653.0  3.202144  1.502205  1.0  2.0  3.0  4.0   8.0\n"
     ]
    },
    {
     "data": {
      "image/png": "[encoded data removed]",
      "text/plain": [
       "<Figure size 432x288 with 1 Axes>"
      ]
     },
     "metadata": {
      "needs_background": "light"
     },
     "output_type": "display_data"
    }
   ],
   "source": [
    "describe_and_plot_histogram(enriched_data, 'number_of_sentences')"
   ]
  },
  {
   "cell_type": "markdown",
   "metadata": {
    "id": "_FQplX-02XmX"
   },
   "source": [
    "# Most common POS tags"
   ]
  },
  {
   "cell_type": "code",
   "execution_count": 35,
   "metadata": {
    "executionInfo": {
     "elapsed": 45,
     "status": "ok",
     "timestamp": 1647085226770,
     "user": {
      "displayName": "Igor Pidík",
      "photoUrl": "https://lh3.googleusercontent.com/a/default-user=s64",
      "userId": "11925848879683183121"
     },
     "user_tz": -60
    },
    "id": "gkKPb3SWjCAs"
   },
   "outputs": [],
   "source": [
    "spam_counter = Counter(itertools.chain.from_iterable(enriched_data[enriched_data['label']=='spam']['pos_tags']))\n",
    "ham_counter = Counter(itertools.chain.from_iterable(enriched_data[enriched_data['label']=='ham']['pos_tags']))"
   ]
  },
  {
   "cell_type": "code",
   "execution_count": 36,
   "metadata": {
    "executionInfo": {
     "elapsed": 221,
     "status": "ok",
     "timestamp": 1647086947501,
     "user": {
      "displayName": "Igor Pidík",
      "photoUrl": "https://lh3.googleusercontent.com/a/default-user=s64",
      "userId": "11925848879683183121"
     },
     "user_tz": -60
    },
    "id": "1e76JJgTmDF9"
   },
   "outputs": [],
   "source": [
    "def count_feature_and_fract(data, n_most_common, plot=True):\n",
    "  counter = Counter(data)\n",
    "  total = sum(counter.values())\n",
    "  df = pd.DataFrame.from_records(counter.most_common(n_most_common), columns=['feature','count'])\n",
    "  df['fract'] = df['count'].apply(lambda x: x/total)\n",
    "  if plot:\n",
    "    sns.barplot(x=df['feature'], y=df['fract'])\n",
    "  return df"
   ]
  },
  {
   "cell_type": "code",
   "execution_count": 37,
   "metadata": {
    "colab": {
     "base_uri": "https://localhost:8080/",
     "height": 625
    },
    "executionInfo": {
     "elapsed": 535,
     "status": "ok",
     "timestamp": 1647086955014,
     "user": {
      "displayName": "Igor Pidík",
      "photoUrl": "https://lh3.googleusercontent.com/a/default-user=s64",
      "userId": "11925848879683183121"
     },
     "user_tz": -60
    },
    "id": "JAuxAE77lOl9",
    "outputId": "66b30de2-ac6a-402b-d3dd-b009c658327f"
   },
   "outputs": [
    {
     "data": {
      "text/html": [
       "<div>\n",
       "<style scoped>\n",
       "    .dataframe tbody tr th:only-of-type {\n",
       "        vertical-align: middle;\n",
       "    }\n",
       "\n",
       "    .dataframe tbody tr th {\n",
       "        vertical-align: top;\n",
       "    }\n",
       "\n",
       "    .dataframe thead th {\n",
       "        text-align: right;\n",
       "    }\n",
       "</style>\n",
       "<table border=\"1\" class=\"dataframe\">\n",
       "  <thead>\n",
       "    <tr style=\"text-align: right;\">\n",
       "      <th></th>\n",
       "      <th>feature</th>\n",
       "      <th>count</th>\n",
       "      <th>fract</th>\n",
       "    </tr>\n",
       "  </thead>\n",
       "  <tbody>\n",
       "    <tr>\n",
       "      <th>0</th>\n",
       "      <td>NN</td>\n",
       "      <td>2760</td>\n",
       "      <td>0.147744</td>\n",
       "    </tr>\n",
       "    <tr>\n",
       "      <th>1</th>\n",
       "      <td>NNP</td>\n",
       "      <td>2542</td>\n",
       "      <td>0.136074</td>\n",
       "    </tr>\n",
       "    <tr>\n",
       "      <th>2</th>\n",
       "      <td>CD</td>\n",
       "      <td>1813</td>\n",
       "      <td>0.097050</td>\n",
       "    </tr>\n",
       "    <tr>\n",
       "      <th>3</th>\n",
       "      <td>.</td>\n",
       "      <td>1447</td>\n",
       "      <td>0.077458</td>\n",
       "    </tr>\n",
       "    <tr>\n",
       "      <th>4</th>\n",
       "      <td>IN</td>\n",
       "      <td>1266</td>\n",
       "      <td>0.067769</td>\n",
       "    </tr>\n",
       "    <tr>\n",
       "      <th>5</th>\n",
       "      <td>VB</td>\n",
       "      <td>1093</td>\n",
       "      <td>0.058509</td>\n",
       "    </tr>\n",
       "    <tr>\n",
       "      <th>6</th>\n",
       "      <td>JJ</td>\n",
       "      <td>977</td>\n",
       "      <td>0.052299</td>\n",
       "    </tr>\n",
       "    <tr>\n",
       "      <th>7</th>\n",
       "      <td>NNS</td>\n",
       "      <td>738</td>\n",
       "      <td>0.039505</td>\n",
       "    </tr>\n",
       "    <tr>\n",
       "      <th>8</th>\n",
       "      <td>DT</td>\n",
       "      <td>737</td>\n",
       "      <td>0.039452</td>\n",
       "    </tr>\n",
       "    <tr>\n",
       "      <th>9</th>\n",
       "      <td>RB</td>\n",
       "      <td>548</td>\n",
       "      <td>0.029335</td>\n",
       "    </tr>\n",
       "  </tbody>\n",
       "</table>\n",
       "</div>"
      ],
      "text/plain": [
       "  feature  count     fract\n",
       "0      NN   2760  0.147744\n",
       "1     NNP   2542  0.136074\n",
       "2      CD   1813  0.097050\n",
       "3       .   1447  0.077458\n",
       "4      IN   1266  0.067769\n",
       "5      VB   1093  0.058509\n",
       "6      JJ    977  0.052299\n",
       "7     NNS    738  0.039505\n",
       "8      DT    737  0.039452\n",
       "9      RB    548  0.029335"
      ]
     },
     "execution_count": 37,
     "metadata": {},
     "output_type": "execute_result"
    },
    {
     "data": {
      "image/png": "[encoded data removed]",
      "text/plain": [
       "<Figure size 432x288 with 1 Axes>"
      ]
     },
     "metadata": {
      "needs_background": "light"
     },
     "output_type": "display_data"
    }
   ],
   "source": [
    "count_feature_and_fract(itertools.chain.from_iterable(enriched_data[enriched_data['label']=='spam']['pos_tags']), 10)"
   ]
  },
  {
   "cell_type": "code",
   "execution_count": 38,
   "metadata": {
    "colab": {
     "base_uri": "https://localhost:8080/",
     "height": 625
    },
    "executionInfo": {
     "elapsed": 577,
     "status": "ok",
     "timestamp": 1647086966631,
     "user": {
      "displayName": "Igor Pidík",
      "photoUrl": "https://lh3.googleusercontent.com/a/default-user=s64",
      "userId": "11925848879683183121"
     },
     "user_tz": -60
    },
    "id": "rw97qldVljmb",
    "outputId": "0e8a6a45-4b44-460e-d76e-d0a9edc78080"
   },
   "outputs": [
    {
     "data": {
      "text/html": [
       "<div>\n",
       "<style scoped>\n",
       "    .dataframe tbody tr th:only-of-type {\n",
       "        vertical-align: middle;\n",
       "    }\n",
       "\n",
       "    .dataframe tbody tr th {\n",
       "        vertical-align: top;\n",
       "    }\n",
       "\n",
       "    .dataframe thead th {\n",
       "        text-align: right;\n",
       "    }\n",
       "</style>\n",
       "<table border=\"1\" class=\"dataframe\">\n",
       "  <thead>\n",
       "    <tr style=\"text-align: right;\">\n",
       "      <th></th>\n",
       "      <th>feature</th>\n",
       "      <th>count</th>\n",
       "      <th>fract</th>\n",
       "    </tr>\n",
       "  </thead>\n",
       "  <tbody>\n",
       "    <tr>\n",
       "      <th>0</th>\n",
       "      <td>NN</td>\n",
       "      <td>9950</td>\n",
       "      <td>0.129389</td>\n",
       "    </tr>\n",
       "    <tr>\n",
       "      <th>1</th>\n",
       "      <td>PRP</td>\n",
       "      <td>7267</td>\n",
       "      <td>0.094499</td>\n",
       "    </tr>\n",
       "    <tr>\n",
       "      <th>2</th>\n",
       "      <td>.</td>\n",
       "      <td>6395</td>\n",
       "      <td>0.083160</td>\n",
       "    </tr>\n",
       "    <tr>\n",
       "      <th>3</th>\n",
       "      <td>NNP</td>\n",
       "      <td>5283</td>\n",
       "      <td>0.068700</td>\n",
       "    </tr>\n",
       "    <tr>\n",
       "      <th>4</th>\n",
       "      <td>RB</td>\n",
       "      <td>5058</td>\n",
       "      <td>0.065774</td>\n",
       "    </tr>\n",
       "    <tr>\n",
       "      <th>5</th>\n",
       "      <td>IN</td>\n",
       "      <td>4968</td>\n",
       "      <td>0.064603</td>\n",
       "    </tr>\n",
       "    <tr>\n",
       "      <th>6</th>\n",
       "      <td>VB</td>\n",
       "      <td>4662</td>\n",
       "      <td>0.060624</td>\n",
       "    </tr>\n",
       "    <tr>\n",
       "      <th>7</th>\n",
       "      <td>VBP</td>\n",
       "      <td>3809</td>\n",
       "      <td>0.049532</td>\n",
       "    </tr>\n",
       "    <tr>\n",
       "      <th>8</th>\n",
       "      <td>DT</td>\n",
       "      <td>3419</td>\n",
       "      <td>0.044460</td>\n",
       "    </tr>\n",
       "    <tr>\n",
       "      <th>9</th>\n",
       "      <td>JJ</td>\n",
       "      <td>3414</td>\n",
       "      <td>0.044395</td>\n",
       "    </tr>\n",
       "  </tbody>\n",
       "</table>\n",
       "</div>"
      ],
      "text/plain": [
       "  feature  count     fract\n",
       "0      NN   9950  0.129389\n",
       "1     PRP   7267  0.094499\n",
       "2       .   6395  0.083160\n",
       "3     NNP   5283  0.068700\n",
       "4      RB   5058  0.065774\n",
       "5      IN   4968  0.064603\n",
       "6      VB   4662  0.060624\n",
       "7     VBP   3809  0.049532\n",
       "8      DT   3419  0.044460\n",
       "9      JJ   3414  0.044395"
      ]
     },
     "execution_count": 38,
     "metadata": {},
     "output_type": "execute_result"
    },
    {
     "data": {
      "image/png": "[encoded data removed]",
      "text/plain": [
       "<Figure size 432x288 with 1 Axes>"
      ]
     },
     "metadata": {
      "needs_background": "light"
     },
     "output_type": "display_data"
    }
   ],
   "source": [
    "count_feature_and_fract(itertools.chain.from_iterable(enriched_data[enriched_data['label']=='ham']['pos_tags']), 10)"
   ]
  },
  {
   "cell_type": "markdown",
   "metadata": {
    "id": "BIWexMm_3ES1"
   },
   "source": [
    "# Most common lemmas"
   ]
  },
  {
   "cell_type": "code",
   "execution_count": 39,
   "metadata": {
    "colab": {
     "base_uri": "https://localhost:8080/",
     "height": 625
    },
    "executionInfo": {
     "elapsed": 652,
     "status": "ok",
     "timestamp": 1647086975556,
     "user": {
      "displayName": "Igor Pidík",
      "photoUrl": "https://lh3.googleusercontent.com/a/default-user=s64",
      "userId": "11925848879683183121"
     },
     "user_tz": -60
    },
    "id": "zcpC6saknzzb",
    "outputId": "cb127948-dad3-4554-b479-12e413de1465"
   },
   "outputs": [
    {
     "data": {
      "text/html": [
       "<div>\n",
       "<style scoped>\n",
       "    .dataframe tbody tr th:only-of-type {\n",
       "        vertical-align: middle;\n",
       "    }\n",
       "\n",
       "    .dataframe tbody tr th {\n",
       "        vertical-align: top;\n",
       "    }\n",
       "\n",
       "    .dataframe thead th {\n",
       "        text-align: right;\n",
       "    }\n",
       "</style>\n",
       "<table border=\"1\" class=\"dataframe\">\n",
       "  <thead>\n",
       "    <tr style=\"text-align: right;\">\n",
       "      <th></th>\n",
       "      <th>feature</th>\n",
       "      <th>count</th>\n",
       "      <th>fract</th>\n",
       "    </tr>\n",
       "  </thead>\n",
       "  <tbody>\n",
       "    <tr>\n",
       "      <th>0</th>\n",
       "      <td>.</td>\n",
       "      <td>871</td>\n",
       "      <td>0.046625</td>\n",
       "    </tr>\n",
       "    <tr>\n",
       "      <th>1</th>\n",
       "      <td>to</td>\n",
       "      <td>598</td>\n",
       "      <td>0.032011</td>\n",
       "    </tr>\n",
       "    <tr>\n",
       "      <th>2</th>\n",
       "      <td>!</td>\n",
       "      <td>426</td>\n",
       "      <td>0.022804</td>\n",
       "    </tr>\n",
       "    <tr>\n",
       "      <th>3</th>\n",
       "      <td>be</td>\n",
       "      <td>344</td>\n",
       "      <td>0.018414</td>\n",
       "    </tr>\n",
       "    <tr>\n",
       "      <th>4</th>\n",
       "      <td>a</td>\n",
       "      <td>331</td>\n",
       "      <td>0.017719</td>\n",
       "    </tr>\n",
       "    <tr>\n",
       "      <th>5</th>\n",
       "      <td>call</td>\n",
       "      <td>314</td>\n",
       "      <td>0.016809</td>\n",
       "    </tr>\n",
       "    <tr>\n",
       "      <th>6</th>\n",
       "      <td>,</td>\n",
       "      <td>304</td>\n",
       "      <td>0.016273</td>\n",
       "    </tr>\n",
       "    <tr>\n",
       "      <th>7</th>\n",
       "      <td>you</td>\n",
       "      <td>265</td>\n",
       "      <td>0.014186</td>\n",
       "    </tr>\n",
       "    <tr>\n",
       "      <th>8</th>\n",
       "      <td>your</td>\n",
       "      <td>244</td>\n",
       "      <td>0.013061</td>\n",
       "    </tr>\n",
       "    <tr>\n",
       "      <th>9</th>\n",
       "      <td>£</td>\n",
       "      <td>240</td>\n",
       "      <td>0.012847</td>\n",
       "    </tr>\n",
       "  </tbody>\n",
       "</table>\n",
       "</div>"
      ],
      "text/plain": [
       "  feature  count     fract\n",
       "0       .    871  0.046625\n",
       "1      to    598  0.032011\n",
       "2       !    426  0.022804\n",
       "3      be    344  0.018414\n",
       "4       a    331  0.017719\n",
       "5    call    314  0.016809\n",
       "6       ,    304  0.016273\n",
       "7     you    265  0.014186\n",
       "8    your    244  0.013061\n",
       "9       £    240  0.012847"
      ]
     },
     "execution_count": 39,
     "metadata": {},
     "output_type": "execute_result"
    },
    {
     "data": {
      "image/png": "[encoded data removed]",
      "text/plain": [
       "<Figure size 432x288 with 1 Axes>"
      ]
     },
     "metadata": {
      "needs_background": "light"
     },
     "output_type": "display_data"
    }
   ],
   "source": [
    "count_feature_and_fract(itertools.chain.from_iterable(enriched_data[enriched_data['label']=='spam']['lemmas']), 10)"
   ]
  },
  {
   "cell_type": "code",
   "execution_count": 40,
   "metadata": {
    "colab": {
     "base_uri": "https://localhost:8080/",
     "height": 625
    },
    "executionInfo": {
     "elapsed": 680,
     "status": "ok",
     "timestamp": 1647086979098,
     "user": {
      "displayName": "Igor Pidík",
      "photoUrl": "https://lh3.googleusercontent.com/a/default-user=s64",
      "userId": "11925848879683183121"
     },
     "user_tz": -60
    },
    "id": "CK46pgaFn4SS",
    "outputId": "8acf0490-2ab5-4bc2-e3c3-22e9aa6b74fd"
   },
   "outputs": [
    {
     "data": {
      "text/html": [
       "<div>\n",
       "<style scoped>\n",
       "    .dataframe tbody tr th:only-of-type {\n",
       "        vertical-align: middle;\n",
       "    }\n",
       "\n",
       "    .dataframe tbody tr th {\n",
       "        vertical-align: top;\n",
       "    }\n",
       "\n",
       "    .dataframe thead th {\n",
       "        text-align: right;\n",
       "    }\n",
       "</style>\n",
       "<table border=\"1\" class=\"dataframe\">\n",
       "  <thead>\n",
       "    <tr style=\"text-align: right;\">\n",
       "      <th></th>\n",
       "      <th>feature</th>\n",
       "      <th>count</th>\n",
       "      <th>fract</th>\n",
       "    </tr>\n",
       "  </thead>\n",
       "  <tbody>\n",
       "    <tr>\n",
       "      <th>0</th>\n",
       "      <td>.</td>\n",
       "      <td>3639</td>\n",
       "      <td>0.047321</td>\n",
       "    </tr>\n",
       "    <tr>\n",
       "      <th>1</th>\n",
       "      <td>I</td>\n",
       "      <td>3458</td>\n",
       "      <td>0.044967</td>\n",
       "    </tr>\n",
       "    <tr>\n",
       "      <th>2</th>\n",
       "      <td>be</td>\n",
       "      <td>2715</td>\n",
       "      <td>0.035306</td>\n",
       "    </tr>\n",
       "    <tr>\n",
       "      <th>3</th>\n",
       "      <td>you</td>\n",
       "      <td>1875</td>\n",
       "      <td>0.024382</td>\n",
       "    </tr>\n",
       "    <tr>\n",
       "      <th>4</th>\n",
       "      <td>to</td>\n",
       "      <td>1549</td>\n",
       "      <td>0.020143</td>\n",
       "    </tr>\n",
       "    <tr>\n",
       "      <th>5</th>\n",
       "      <td>,</td>\n",
       "      <td>1381</td>\n",
       "      <td>0.017958</td>\n",
       "    </tr>\n",
       "    <tr>\n",
       "      <th>6</th>\n",
       "      <td>?</td>\n",
       "      <td>1282</td>\n",
       "      <td>0.016671</td>\n",
       "    </tr>\n",
       "    <tr>\n",
       "      <th>7</th>\n",
       "      <td>...</td>\n",
       "      <td>1084</td>\n",
       "      <td>0.014096</td>\n",
       "    </tr>\n",
       "    <tr>\n",
       "      <th>8</th>\n",
       "      <td>the</td>\n",
       "      <td>1058</td>\n",
       "      <td>0.013758</td>\n",
       "    </tr>\n",
       "    <tr>\n",
       "      <th>9</th>\n",
       "      <td>not</td>\n",
       "      <td>987</td>\n",
       "      <td>0.012835</td>\n",
       "    </tr>\n",
       "  </tbody>\n",
       "</table>\n",
       "</div>"
      ],
      "text/plain": [
       "  feature  count     fract\n",
       "0       .   3639  0.047321\n",
       "1       I   3458  0.044967\n",
       "2      be   2715  0.035306\n",
       "3     you   1875  0.024382\n",
       "4      to   1549  0.020143\n",
       "5       ,   1381  0.017958\n",
       "6       ?   1282  0.016671\n",
       "7     ...   1084  0.014096\n",
       "8     the   1058  0.013758\n",
       "9     not    987  0.012835"
      ]
     },
     "execution_count": 40,
     "metadata": {},
     "output_type": "execute_result"
    },
    {
     "data": {
      "image/png": "[encoded data removed]",
      "text/plain": [
       "<Figure size 432x288 with 1 Axes>"
      ]
     },
     "metadata": {
      "needs_background": "light"
     },
     "output_type": "display_data"
    }
   ],
   "source": [
    "count_feature_and_fract(itertools.chain.from_iterable(enriched_data[enriched_data['label']=='ham']['lemmas']), 10)"
   ]
  },
  {
   "cell_type": "markdown",
   "metadata": {
    "id": "JQWXgmapnQvp"
   },
   "source": [
    "Nothing too interesting"
   ]
  },
  {
   "cell_type": "markdown",
   "metadata": {
    "id": "EE0nWp5o296C"
   },
   "source": [
    "# Most common lemmas (no punct)"
   ]
  },
  {
   "cell_type": "code",
   "execution_count": 41,
   "metadata": {
    "executionInfo": {
     "elapsed": 217,
     "status": "ok",
     "timestamp": 1647086984890,
     "user": {
      "displayName": "Igor Pidík",
      "photoUrl": "https://lh3.googleusercontent.com/a/default-user=s64",
      "userId": "11925848879683183121"
     },
     "user_tz": -60
    },
    "id": "oVegi5D95JoO"
   },
   "outputs": [],
   "source": [
    "enriched_data['lemmas_without_punct'] = enriched_data.apply(lambda row: row['lemmas'][~row['is_punct']], axis=1)"
   ]
  },
  {
   "cell_type": "code",
   "execution_count": 42,
   "metadata": {
    "colab": {
     "base_uri": "https://localhost:8080/",
     "height": 626
    },
    "executionInfo": {
     "elapsed": 442,
     "status": "ok",
     "timestamp": 1647086986182,
     "user": {
      "displayName": "Igor Pidík",
      "photoUrl": "https://lh3.googleusercontent.com/a/default-user=s64",
      "userId": "11925848879683183121"
     },
     "user_tz": -60
    },
    "id": "p6zSkGYa7sT2",
    "outputId": "2decc4c4-49e5-4722-af49-4a294d537ea5"
   },
   "outputs": [
    {
     "data": {
      "text/html": [
       "<div>\n",
       "<style scoped>\n",
       "    .dataframe tbody tr th:only-of-type {\n",
       "        vertical-align: middle;\n",
       "    }\n",
       "\n",
       "    .dataframe tbody tr th {\n",
       "        vertical-align: top;\n",
       "    }\n",
       "\n",
       "    .dataframe thead th {\n",
       "        text-align: right;\n",
       "    }\n",
       "</style>\n",
       "<table border=\"1\" class=\"dataframe\">\n",
       "  <thead>\n",
       "    <tr style=\"text-align: right;\">\n",
       "      <th></th>\n",
       "      <th>feature</th>\n",
       "      <th>count</th>\n",
       "      <th>fract</th>\n",
       "    </tr>\n",
       "  </thead>\n",
       "  <tbody>\n",
       "    <tr>\n",
       "      <th>0</th>\n",
       "      <td>I</td>\n",
       "      <td>3458</td>\n",
       "      <td>0.052092</td>\n",
       "    </tr>\n",
       "    <tr>\n",
       "      <th>1</th>\n",
       "      <td>be</td>\n",
       "      <td>2715</td>\n",
       "      <td>0.040900</td>\n",
       "    </tr>\n",
       "    <tr>\n",
       "      <th>2</th>\n",
       "      <td>you</td>\n",
       "      <td>1875</td>\n",
       "      <td>0.028246</td>\n",
       "    </tr>\n",
       "    <tr>\n",
       "      <th>3</th>\n",
       "      <td>to</td>\n",
       "      <td>1549</td>\n",
       "      <td>0.023335</td>\n",
       "    </tr>\n",
       "    <tr>\n",
       "      <th>4</th>\n",
       "      <td>the</td>\n",
       "      <td>1058</td>\n",
       "      <td>0.015938</td>\n",
       "    </tr>\n",
       "    <tr>\n",
       "      <th>5</th>\n",
       "      <td>not</td>\n",
       "      <td>987</td>\n",
       "      <td>0.014868</td>\n",
       "    </tr>\n",
       "    <tr>\n",
       "      <th>6</th>\n",
       "      <td>a</td>\n",
       "      <td>971</td>\n",
       "      <td>0.014627</td>\n",
       "    </tr>\n",
       "    <tr>\n",
       "      <th>7</th>\n",
       "      <td>do</td>\n",
       "      <td>942</td>\n",
       "      <td>0.014191</td>\n",
       "    </tr>\n",
       "    <tr>\n",
       "      <th>8</th>\n",
       "      <td>and</td>\n",
       "      <td>823</td>\n",
       "      <td>0.012398</td>\n",
       "    </tr>\n",
       "    <tr>\n",
       "      <th>9</th>\n",
       "      <td>u</td>\n",
       "      <td>771</td>\n",
       "      <td>0.011615</td>\n",
       "    </tr>\n",
       "  </tbody>\n",
       "</table>\n",
       "</div>"
      ],
      "text/plain": [
       "  feature  count     fract\n",
       "0       I   3458  0.052092\n",
       "1      be   2715  0.040900\n",
       "2     you   1875  0.028246\n",
       "3      to   1549  0.023335\n",
       "4     the   1058  0.015938\n",
       "5     not    987  0.014868\n",
       "6       a    971  0.014627\n",
       "7      do    942  0.014191\n",
       "8     and    823  0.012398\n",
       "9       u    771  0.011615"
      ]
     },
     "execution_count": 42,
     "metadata": {},
     "output_type": "execute_result"
    },
    {
     "data": {
      "image/png": "[encoded data removed]",
      "text/plain": [
       "<Figure size 432x288 with 1 Axes>"
      ]
     },
     "metadata": {
      "needs_background": "light"
     },
     "output_type": "display_data"
    }
   ],
   "source": [
    "count_feature_and_fract(itertools.chain.from_iterable(enriched_data[enriched_data['label']=='ham']['lemmas_without_punct']), 10)"
   ]
  },
  {
   "cell_type": "code",
   "execution_count": 43,
   "metadata": {
    "colab": {
     "base_uri": "https://localhost:8080/",
     "height": 625
    },
    "executionInfo": {
     "elapsed": 537,
     "status": "ok",
     "timestamp": 1647086990147,
     "user": {
      "displayName": "Igor Pidík",
      "photoUrl": "https://lh3.googleusercontent.com/a/default-user=s64",
      "userId": "11925848879683183121"
     },
     "user_tz": -60
    },
    "id": "FluE2D2D7wZy",
    "outputId": "7c414a54-4e52-484e-99d7-2ae9f22a06e4"
   },
   "outputs": [
    {
     "data": {
      "text/html": [
       "<div>\n",
       "<style scoped>\n",
       "    .dataframe tbody tr th:only-of-type {\n",
       "        vertical-align: middle;\n",
       "    }\n",
       "\n",
       "    .dataframe tbody tr th {\n",
       "        vertical-align: top;\n",
       "    }\n",
       "\n",
       "    .dataframe thead th {\n",
       "        text-align: right;\n",
       "    }\n",
       "</style>\n",
       "<table border=\"1\" class=\"dataframe\">\n",
       "  <thead>\n",
       "    <tr style=\"text-align: right;\">\n",
       "      <th></th>\n",
       "      <th>feature</th>\n",
       "      <th>count</th>\n",
       "      <th>fract</th>\n",
       "    </tr>\n",
       "  </thead>\n",
       "  <tbody>\n",
       "    <tr>\n",
       "      <th>0</th>\n",
       "      <td>to</td>\n",
       "      <td>598</td>\n",
       "      <td>0.037111</td>\n",
       "    </tr>\n",
       "    <tr>\n",
       "      <th>1</th>\n",
       "      <td>be</td>\n",
       "      <td>344</td>\n",
       "      <td>0.021348</td>\n",
       "    </tr>\n",
       "    <tr>\n",
       "      <th>2</th>\n",
       "      <td>a</td>\n",
       "      <td>331</td>\n",
       "      <td>0.020541</td>\n",
       "    </tr>\n",
       "    <tr>\n",
       "      <th>3</th>\n",
       "      <td>call</td>\n",
       "      <td>314</td>\n",
       "      <td>0.019486</td>\n",
       "    </tr>\n",
       "    <tr>\n",
       "      <th>4</th>\n",
       "      <td>you</td>\n",
       "      <td>265</td>\n",
       "      <td>0.016445</td>\n",
       "    </tr>\n",
       "    <tr>\n",
       "      <th>5</th>\n",
       "      <td>your</td>\n",
       "      <td>244</td>\n",
       "      <td>0.015142</td>\n",
       "    </tr>\n",
       "    <tr>\n",
       "      <th>6</th>\n",
       "      <td>£</td>\n",
       "      <td>240</td>\n",
       "      <td>0.014894</td>\n",
       "    </tr>\n",
       "    <tr>\n",
       "      <th>7</th>\n",
       "      <td>for</td>\n",
       "      <td>184</td>\n",
       "      <td>0.011419</td>\n",
       "    </tr>\n",
       "    <tr>\n",
       "      <th>8</th>\n",
       "      <td>the</td>\n",
       "      <td>183</td>\n",
       "      <td>0.011357</td>\n",
       "    </tr>\n",
       "    <tr>\n",
       "      <th>9</th>\n",
       "      <td>free</td>\n",
       "      <td>165</td>\n",
       "      <td>0.010240</td>\n",
       "    </tr>\n",
       "  </tbody>\n",
       "</table>\n",
       "</div>"
      ],
      "text/plain": [
       "  feature  count     fract\n",
       "0      to    598  0.037111\n",
       "1      be    344  0.021348\n",
       "2       a    331  0.020541\n",
       "3    call    314  0.019486\n",
       "4     you    265  0.016445\n",
       "5    your    244  0.015142\n",
       "6       £    240  0.014894\n",
       "7     for    184  0.011419\n",
       "8     the    183  0.011357\n",
       "9    free    165  0.010240"
      ]
     },
     "execution_count": 43,
     "metadata": {},
     "output_type": "execute_result"
    },
    {
     "data": {
      "image/png": "[encoded data removed]",
      "text/plain": [
       "<Figure size 432x288 with 1 Axes>"
      ]
     },
     "metadata": {
      "needs_background": "light"
     },
     "output_type": "display_data"
    }
   ],
   "source": [
    "count_feature_and_fract(itertools.chain.from_iterable(enriched_data[enriched_data['label']=='spam']['lemmas_without_punct']), 10)"
   ]
  },
  {
   "cell_type": "markdown",
   "metadata": {
    "id": "PZVeq2B88IQ3"
   },
   "source": [
    "As expected word **free** is in top 10 most common words in spam category"
   ]
  },
  {
   "cell_type": "markdown",
   "metadata": {
    "id": "xoMZ3MMp9g23"
   },
   "source": [
    "# Most common lemmas (no punct or stop word)"
   ]
  },
  {
   "cell_type": "code",
   "execution_count": 44,
   "metadata": {
    "executionInfo": {
     "elapsed": 215,
     "status": "ok",
     "timestamp": 1647086998389,
     "user": {
      "displayName": "Igor Pidík",
      "photoUrl": "https://lh3.googleusercontent.com/a/default-user=s64",
      "userId": "11925848879683183121"
     },
     "user_tz": -60
    },
    "id": "MFvNNlpd8B1M"
   },
   "outputs": [],
   "source": [
    "enriched_data['lemmas_without_puct_and_stop_words'] = enriched_data.apply(lambda row: row['lemmas'][~(row['is_punct'] | row['is_stop_word'])], axis=1)"
   ]
  },
  {
   "cell_type": "code",
   "execution_count": 45,
   "metadata": {
    "colab": {
     "base_uri": "https://localhost:8080/",
     "height": 626
    },
    "executionInfo": {
     "elapsed": 339,
     "status": "ok",
     "timestamp": 1647086999717,
     "user": {
      "displayName": "Igor Pidík",
      "photoUrl": "https://lh3.googleusercontent.com/a/default-user=s64",
      "userId": "11925848879683183121"
     },
     "user_tz": -60
    },
    "id": "0QOeWxzS9DJ5",
    "outputId": "6c265c7d-0f1d-44a6-ff82-0f4b48ad28c1"
   },
   "outputs": [
    {
     "data": {
      "text/html": [
       "<div>\n",
       "<style scoped>\n",
       "    .dataframe tbody tr th:only-of-type {\n",
       "        vertical-align: middle;\n",
       "    }\n",
       "\n",
       "    .dataframe tbody tr th {\n",
       "        vertical-align: top;\n",
       "    }\n",
       "\n",
       "    .dataframe thead th {\n",
       "        text-align: right;\n",
       "    }\n",
       "</style>\n",
       "<table border=\"1\" class=\"dataframe\">\n",
       "  <thead>\n",
       "    <tr style=\"text-align: right;\">\n",
       "      <th></th>\n",
       "      <th>feature</th>\n",
       "      <th>count</th>\n",
       "      <th>fract</th>\n",
       "    </tr>\n",
       "  </thead>\n",
       "  <tbody>\n",
       "    <tr>\n",
       "      <th>0</th>\n",
       "      <td>u</td>\n",
       "      <td>771</td>\n",
       "      <td>0.023402</td>\n",
       "    </tr>\n",
       "    <tr>\n",
       "      <th>1</th>\n",
       "      <td></td>\n",
       "      <td>417</td>\n",
       "      <td>0.012657</td>\n",
       "    </tr>\n",
       "    <tr>\n",
       "      <th>2</th>\n",
       "      <td>come</td>\n",
       "      <td>299</td>\n",
       "      <td>0.009075</td>\n",
       "    </tr>\n",
       "    <tr>\n",
       "      <th>3</th>\n",
       "      <td>2</td>\n",
       "      <td>296</td>\n",
       "      <td>0.008984</td>\n",
       "    </tr>\n",
       "    <tr>\n",
       "      <th>4</th>\n",
       "      <td>not</td>\n",
       "      <td>264</td>\n",
       "      <td>0.008013</td>\n",
       "    </tr>\n",
       "    <tr>\n",
       "      <th>5</th>\n",
       "      <td>lt;#&amp;gt</td>\n",
       "      <td>254</td>\n",
       "      <td>0.007710</td>\n",
       "    </tr>\n",
       "    <tr>\n",
       "      <th>6</th>\n",
       "      <td>go</td>\n",
       "      <td>251</td>\n",
       "      <td>0.007619</td>\n",
       "    </tr>\n",
       "    <tr>\n",
       "      <th>7</th>\n",
       "      <td>ok</td>\n",
       "      <td>250</td>\n",
       "      <td>0.007588</td>\n",
       "    </tr>\n",
       "    <tr>\n",
       "      <th>8</th>\n",
       "      <td>get</td>\n",
       "      <td>248</td>\n",
       "      <td>0.007527</td>\n",
       "    </tr>\n",
       "    <tr>\n",
       "      <th>9</th>\n",
       "      <td>know</td>\n",
       "      <td>244</td>\n",
       "      <td>0.007406</td>\n",
       "    </tr>\n",
       "  </tbody>\n",
       "</table>\n",
       "</div>"
      ],
      "text/plain": [
       "   feature  count     fract\n",
       "0        u    771  0.023402\n",
       "1             417  0.012657\n",
       "2     come    299  0.009075\n",
       "3        2    296  0.008984\n",
       "4      not    264  0.008013\n",
       "5  lt;#&gt    254  0.007710\n",
       "6       go    251  0.007619\n",
       "7       ok    250  0.007588\n",
       "8      get    248  0.007527\n",
       "9     know    244  0.007406"
      ]
     },
     "execution_count": 45,
     "metadata": {},
     "output_type": "execute_result"
    },
    {
     "data": {
      "image/png": "[encoded data removed]",
      "text/plain": [
       "<Figure size 432x288 with 1 Axes>"
      ]
     },
     "metadata": {
      "needs_background": "light"
     },
     "output_type": "display_data"
    }
   ],
   "source": [
    "count_feature_and_fract(itertools.chain.from_iterable(enriched_data[enriched_data['label']=='ham']['lemmas_without_puct_and_stop_words']), 10)"
   ]
  },
  {
   "cell_type": "code",
   "execution_count": 46,
   "metadata": {
    "colab": {
     "base_uri": "https://localhost:8080/",
     "height": 625
    },
    "executionInfo": {
     "elapsed": 416,
     "status": "ok",
     "timestamp": 1647087003499,
     "user": {
      "displayName": "Igor Pidík",
      "photoUrl": "https://lh3.googleusercontent.com/a/default-user=s64",
      "userId": "11925848879683183121"
     },
     "user_tz": -60
    },
    "id": "Pp_WYTj48a9C",
    "outputId": "685af2fa-ce2a-46df-82f0-4a9ce69e406b"
   },
   "outputs": [
    {
     "data": {
      "text/html": [
       "<div>\n",
       "<style scoped>\n",
       "    .dataframe tbody tr th:only-of-type {\n",
       "        vertical-align: middle;\n",
       "    }\n",
       "\n",
       "    .dataframe tbody tr th {\n",
       "        vertical-align: top;\n",
       "    }\n",
       "\n",
       "    .dataframe thead th {\n",
       "        text-align: right;\n",
       "    }\n",
       "</style>\n",
       "<table border=\"1\" class=\"dataframe\">\n",
       "  <thead>\n",
       "    <tr style=\"text-align: right;\">\n",
       "      <th></th>\n",
       "      <th>feature</th>\n",
       "      <th>count</th>\n",
       "      <th>fract</th>\n",
       "    </tr>\n",
       "  </thead>\n",
       "  <tbody>\n",
       "    <tr>\n",
       "      <th>0</th>\n",
       "      <td>£</td>\n",
       "      <td>240</td>\n",
       "      <td>0.022284</td>\n",
       "    </tr>\n",
       "    <tr>\n",
       "      <th>1</th>\n",
       "      <td>free</td>\n",
       "      <td>165</td>\n",
       "      <td>0.015320</td>\n",
       "    </tr>\n",
       "    <tr>\n",
       "      <th>2</th>\n",
       "      <td>2</td>\n",
       "      <td>156</td>\n",
       "      <td>0.014485</td>\n",
       "    </tr>\n",
       "    <tr>\n",
       "      <th>3</th>\n",
       "      <td>txt</td>\n",
       "      <td>105</td>\n",
       "      <td>0.009749</td>\n",
       "    </tr>\n",
       "    <tr>\n",
       "      <th>4</th>\n",
       "      <td>text</td>\n",
       "      <td>105</td>\n",
       "      <td>0.009749</td>\n",
       "    </tr>\n",
       "    <tr>\n",
       "      <th>5</th>\n",
       "      <td>4</td>\n",
       "      <td>99</td>\n",
       "      <td>0.009192</td>\n",
       "    </tr>\n",
       "    <tr>\n",
       "      <th>6</th>\n",
       "      <td>claim</td>\n",
       "      <td>97</td>\n",
       "      <td>0.009006</td>\n",
       "    </tr>\n",
       "    <tr>\n",
       "      <th>7</th>\n",
       "      <td>ur</td>\n",
       "      <td>97</td>\n",
       "      <td>0.009006</td>\n",
       "    </tr>\n",
       "    <tr>\n",
       "      <th>8</th>\n",
       "      <td>win</td>\n",
       "      <td>88</td>\n",
       "      <td>0.008171</td>\n",
       "    </tr>\n",
       "    <tr>\n",
       "      <th>9</th>\n",
       "      <td>mobile</td>\n",
       "      <td>88</td>\n",
       "      <td>0.008171</td>\n",
       "    </tr>\n",
       "  </tbody>\n",
       "</table>\n",
       "</div>"
      ],
      "text/plain": [
       "  feature  count     fract\n",
       "0       £    240  0.022284\n",
       "1    free    165  0.015320\n",
       "2       2    156  0.014485\n",
       "3     txt    105  0.009749\n",
       "4    text    105  0.009749\n",
       "5       4     99  0.009192\n",
       "6   claim     97  0.009006\n",
       "7      ur     97  0.009006\n",
       "8     win     88  0.008171\n",
       "9  mobile     88  0.008171"
      ]
     },
     "execution_count": 46,
     "metadata": {},
     "output_type": "execute_result"
    },
    {
     "data": {
      "image/png": "[encoded data removed]",
      "text/plain": [
       "<Figure size 432x288 with 1 Axes>"
      ]
     },
     "metadata": {
      "needs_background": "light"
     },
     "output_type": "display_data"
    }
   ],
   "source": [
    "count_feature_and_fract(itertools.chain.from_iterable(enriched_data[enriched_data['label']=='spam']['lemmas_without_puct_and_stop_words']), 10)"
   ]
  },
  {
   "cell_type": "markdown",
   "metadata": {
    "id": "R29KesG99j1i"
   },
   "source": [
    "Now we see more words that we would expect in spam such as: free, text, win, claim"
   ]
  },
  {
   "cell_type": "code",
   "execution_count": 47,
   "metadata": {
    "colab": {
     "base_uri": "https://localhost:8080/"
    },
    "executionInfo": {
     "elapsed": 14,
     "status": "ok",
     "timestamp": 1647087154320,
     "user": {
      "displayName": "Igor Pidík",
      "photoUrl": "https://lh3.googleusercontent.com/a/default-user=s64",
      "userId": "11925848879683183121"
     },
     "user_tz": -60
    },
    "id": "0AaZisM2CeTQ",
    "outputId": "88702d70-9c79-4616-9e3b-2f8940ebea70"
   },
   "outputs": [
    {
     "data": {
      "text/plain": [
       "count      218\n",
       "unique       2\n",
       "top       spam\n",
       "freq       213\n",
       "Name: label, dtype: object"
      ]
     },
     "execution_count": 47,
     "metadata": {},
     "output_type": "execute_result"
    }
   ],
   "source": [
    "enriched_data[enriched_data['text'].str.contains('£')]['label'].describe()"
   ]
  },
  {
   "cell_type": "code",
   "execution_count": 48,
   "metadata": {
    "colab": {
     "base_uri": "https://localhost:8080/"
    },
    "executionInfo": {
     "elapsed": 16,
     "status": "ok",
     "timestamp": 1647087291160,
     "user": {
      "displayName": "Igor Pidík",
      "photoUrl": "https://lh3.googleusercontent.com/a/default-user=s64",
      "userId": "11925848879683183121"
     },
     "user_tz": -60
    },
    "id": "SV9KFOj7DAFA",
    "outputId": "8308d299-f29c-45ff-db3b-6413699ae932"
   },
   "outputs": [
    {
     "name": "stdout",
     "output_type": "stream",
     "text": [
      "5                    FreeMsg Hey there darling it's been 3 week's now and no word back! I'd like some fun you up for it still? Tb ok! XxX std chgs to send, £1.50 to rcv\n",
      "8          WINNER!! As a valued network customer you have been selected to receivea £900 prize reward! To claim call 09061701461. Claim code KL341. Valid 12 hours only.\n",
      "12           URGENT! You have won a 1 week FREE membership in our £100,000 Prize Jackpot! Txt the word: CLAIM to No: 81010 T&C www.dbuk.net LCCLTD POBOX 4403LDNW1A7RW18\n",
      "34        Thanks for your subscription to Ringtone UK your mobile will be charged £5/month Please confirm by replying YES or NO. If you reply NO you will not be charged\n",
      "65              As a valued customer, I am pleased to advise you that following recent review of your Mob No. you are awarded with a £1500 Bonus Prize, call 09066364589\n",
      "                                                                                      ...                                                                               \n",
      "5077                      URGENT! Last weekend's draw shows that you have won £1000 cash or a Spanish holiday! CALL NOW 09050000332 to claim. T&C: RSTM, SW7 3SS. 150ppm\n",
      "5088                URGENT We are trying to contact you Last weekends draw shows u have won a £1000 prize GUARANTEED Call 09064017295 Claim code K52 Valid 12hrs 150p pm\n",
      "5096    Marvel Mobile Play the official Ultimate Spider-man game (£4.50) on ur mobile right now. Text SPIDER to 83338 for the game & we ll send u a FREE 8Ball wallpaper\n",
      "5139      ASKED 3MOBILE IF 0870 CHATLINES INCLU IN FREE MINS. INDIA CUST SERVs SED YES. L8ER GOT MEGA BILL. 3 DONT GIV A SHIT. BAILIFF DUE IN DAYS. I O £250 3 WANT £800\n",
      "5164    This is the 2nd time we have tried 2 contact u. U have won the £750 Pound prize. 2 claim is easy, call 087187272008 NOW1! Only 10p per minute. BT-national-rate.\n",
      "Name: text, Length: 218, dtype: object\n"
     ]
    }
   ],
   "source": [
    "with pd.option_context('display.max_colwidth', None):\n",
    "  print(enriched_data[enriched_data['text'].str.contains('£')]['text'])"
   ]
  },
  {
   "cell_type": "markdown",
   "metadata": {
    "id": "METw6VhcDrKN"
   },
   "source": [
    "As expected, **£** can be almost exclusively found in spam messages, in context of winning a prize or offering a subscription/game"
   ]
  },
  {
   "cell_type": "markdown",
   "metadata": {
    "id": "0X-lXTPJGpO3"
   },
   "source": [
    "# Notes/Observations\n",
    "* Class imbalance 4516/653 (ham/spam) -> don't use accuracy for skewed data, use f1 or similar\n",
    "* Spam messages tend to be longer than ham messages (therefore it's important to not only look at counts of alpha/digit/punct tokens but also fractions)\n",
    "* Number of punctuation tokens may be somewhat informative feature as spam tends to have number of those, while ham has 1 or 2. (fraction value almost 10x higher for spam)\n",
    "* The symbol **£** almost exclusive for spam\n",
    "\n"
   ]
  },
  {
   "cell_type": "markdown",
   "metadata": {
    "id": "fJ0IHvQOEZZH"
   },
   "source": [
    "# Split data"
   ]
  },
  {
   "cell_type": "code",
   "execution_count": 49,
   "metadata": {
    "executionInfo": {
     "elapsed": 237,
     "status": "ok",
     "timestamp": 1647089278219,
     "user": {
      "displayName": "Igor Pidík",
      "photoUrl": "https://lh3.googleusercontent.com/a/default-user=s64",
      "userId": "11925848879683183121"
     },
     "user_tz": -60
    },
    "id": "2Wf_4mmNEYqt"
   },
   "outputs": [],
   "source": [
    "train, val_test = train_test_split(enriched_data, test_size=0.2, random_state=42)"
   ]
  },
  {
   "cell_type": "code",
   "execution_count": 50,
   "metadata": {
    "executionInfo": {
     "elapsed": 214,
     "status": "ok",
     "timestamp": 1647089301394,
     "user": {
      "displayName": "Igor Pidík",
      "photoUrl": "https://lh3.googleusercontent.com/a/default-user=s64",
      "userId": "11925848879683183121"
     },
     "user_tz": -60
    },
    "id": "It0GyFyJKyja"
   },
   "outputs": [],
   "source": [
    "val, test = train_test_split(val_test, test_size=0.5, random_state=1337)"
   ]
  },
  {
   "cell_type": "code",
   "execution_count": 51,
   "metadata": {
    "executionInfo": {
     "elapsed": 510,
     "status": "ok",
     "timestamp": 1647089735066,
     "user": {
      "displayName": "Igor Pidík",
      "photoUrl": "https://lh3.googleusercontent.com/a/default-user=s64",
      "userId": "11925848879683183121"
     },
     "user_tz": -60
    },
    "id": "DnM6zHSYMK3T"
   },
   "outputs": [],
   "source": [
    "train.to_pickle('data/train.pkl')\n",
    "val.to_pickle('data/val.pkl')\n",
    "test.to_pickle('data/test.pkl')"
   ]
  }
 ],
 "metadata": {
  "colab": {
   "authorship_tag": "ABX9TyMhwL5dslgAXMfoudv8DsY7",
   "collapsed_sections": [],
   "history_visible": true,
   "mount_file_id": "1ULtZavm94HOdCt-KHpPtbVVPv6J69N3J",
   "name": "data_analysis_and_splitting.ipynb",
   "provenance": []
  },
  "kernelspec": {
   "display_name": "Python 3 (ipykernel)",
   "language": "python",
   "name": "python3"
  },
  "language_info": {
   "codemirror_mode": {
    "name": "ipython",
    "version": 3
   },
   "file_extension": ".py",
   "mimetype": "text/x-python",
   "name": "python",
   "nbconvert_exporter": "python",
   "pygments_lexer": "ipython3",
   "version": "3.9.9"
  }
 },
 "nbformat": 4,
 "nbformat_minor": 1
}
