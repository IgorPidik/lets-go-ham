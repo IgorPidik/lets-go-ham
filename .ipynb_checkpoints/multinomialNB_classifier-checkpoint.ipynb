{
 "cells": [
  {
   "cell_type": "code",
   "execution_count": 1,
   "metadata": {
    "executionInfo": {
     "elapsed": 950,
     "status": "ok",
     "timestamp": 1647165288542,
     "user": {
      "displayName": "Igor Pidík",
      "photoUrl": "https://lh3.googleusercontent.com/a/default-user=s64",
      "userId": "11925848879683183121"
     },
     "user_tz": -60
    },
    "id": "p3MmNsWxDA43"
   },
   "outputs": [],
   "source": [
    "import pandas as pd\n",
    "from sklearn.preprocessing import LabelEncoder\n",
    "import time\n",
    "import random\n",
    "import os\n",
    "import numpy as np\n",
    "from sklearn.metrics import classification_report, confusion_matrix, ConfusionMatrixDisplay\n",
    "import matplotlib.pyplot as plt\n",
    "from sklearn.feature_extraction.text import CountVectorizer, TfidfVectorizer\n",
    "from sklearn.naive_bayes import MultinomialNB\n",
    "from sklearn.pipeline import Pipeline\n",
    "from sklearn.model_selection import GridSearchCV, PredefinedSplit"
   ]
  },
  {
   "cell_type": "code",
   "execution_count": 2,
   "metadata": {
    "id": "nvW3n4pJJV9w"
   },
   "outputs": [],
   "source": [
    "def plot_confusion_matrix(y_true, y_pred, labels):\n",
    "  cm = confusion_matrix(y_true, y_pred)\n",
    "  disp = ConfusionMatrixDisplay(confusion_matrix=cm, display_labels=labels)\n",
    "  disp.plot()\n",
    "  plt.show()"
   ]
  },
  {
   "cell_type": "code",
   "execution_count": 3,
   "metadata": {
    "id": "F-v76G4TQzEK"
   },
   "outputs": [],
   "source": [
    "def classification_report_and_confusion_matrix(y_test, y_pred, labels):\n",
    "  print(classification_report(y_test, y_pred, target_names=labels, zero_division=0, digits=3))\n",
    "  plot_confusion_matrix(y_test, y_pred, labels)"
   ]
  },
  {
   "cell_type": "code",
   "execution_count": 4,
   "metadata": {
    "id": "nyvn9kntDE7N"
   },
   "outputs": [],
   "source": [
    "train_df = pd.read_pickle('data/train.pkl')\n",
    "val_df = pd.read_pickle('data/val.pkl')\n",
    "test_df = pd.read_pickle('data/test.pkl')"
   ]
  },
  {
   "cell_type": "markdown",
   "metadata": {
    "id": "TUv75Q5uHcZA"
   },
   "source": [
    "# Seed"
   ]
  },
  {
   "cell_type": "code",
   "execution_count": 5,
   "metadata": {
    "id": "a4H13DS0Hbwa"
   },
   "outputs": [],
   "source": [
    "seed = 1337\n",
    "random.seed(seed)\n",
    "os.environ['PYTHONHASHSEED'] = str(seed)\n",
    "np.random.seed(seed)"
   ]
  },
  {
   "cell_type": "markdown",
   "metadata": {
    "id": "qJVIsc4dE0JF"
   },
   "source": [
    "Encode labels"
   ]
  },
  {
   "cell_type": "code",
   "execution_count": 6,
   "metadata": {
    "id": "QdsMI_6hDhUv"
   },
   "outputs": [],
   "source": [
    "train_y_raw = train_df['label']"
   ]
  },
  {
   "cell_type": "code",
   "execution_count": 7,
   "metadata": {
    "id": "_CZuE48nDrvd"
   },
   "outputs": [],
   "source": [
    "label_encoder = LabelEncoder().fit(train_y_raw)"
   ]
  },
  {
   "cell_type": "code",
   "execution_count": 8,
   "metadata": {
    "id": "BAp3Sc-5ECbU"
   },
   "outputs": [],
   "source": [
    "y_train = label_encoder.transform(train_y_raw)\n",
    "y_val = label_encoder.transform(val_df['label'])\n",
    "y_test = label_encoder.transform(test_df['label'])"
   ]
  },
  {
   "cell_type": "markdown",
   "metadata": {
    "id": "CC_2v_lfbeIp"
   },
   "source": [
    "# Setup CV train dataset with predefined validation set"
   ]
  },
  {
   "cell_type": "code",
   "execution_count": 9,
   "metadata": {
    "id": "mW7OejoKbdhF"
   },
   "outputs": [],
   "source": [
    "cv_train_df = pd.concat([train_df, val_df])"
   ]
  },
  {
   "cell_type": "code",
   "execution_count": 10,
   "metadata": {
    "id": "o1FYzWX7b-hR"
   },
   "outputs": [],
   "source": [
    "test_fold = np.concatenate((-np.ones(len(train_df)), np.zeros(len(val_df))))\n",
    "ps = PredefinedSplit(test_fold)"
   ]
  },
  {
   "cell_type": "markdown",
   "metadata": {
    "id": "iBObnJneI97m"
   },
   "source": [
    "# MultinomialNB Classifier"
   ]
  },
  {
   "cell_type": "code",
   "execution_count": 11,
   "metadata": {
    "id": "syYXKlBWi0Sr"
   },
   "outputs": [],
   "source": [
    "def test_mnb_pipelines(input_features_name, cv_train_df, train_df, test_df, n_error_cases=10):\n",
    "  cv_X_train = cv_train_df[input_features_name]\n",
    "  cv_y_train = label_encoder.transform(cv_train_df['label'])\n",
    "  X_train = train_df[input_features_name]\n",
    "  X_test = test_df[input_features_name]\n",
    "\n",
    "  def grid_search_params_for_pipeline(pipeline):\n",
    "    # grid search\n",
    "    param_grid = {\n",
    "        \"vec__ngram_range\": [(1, 1), (1, 2), (1, 3), (2, 2), (2, 3), (3, 3)],\n",
    "        \"cls__alpha\": [0.001, 0.01, 0.1, 0.5, 0.8, 1, 1.2, 1.6, 2],\n",
    "    }\n",
    "    search = GridSearchCV(pipeline, param_grid, scoring='f1_macro', cv=ps)\n",
    "    search.fit(cv_X_train, cv_y_train)\n",
    "    print(f'Best parameter (CV f1. score={search.best_score_}: {search.best_params_}')\n",
    "    return search.best_estimator_\n",
    "\n",
    "\n",
    "  def eval_mnb_pipeline(pipeline):\n",
    "    # refit on full train dataset and time it\n",
    "    t1 = time.perf_counter()\n",
    "    pipeline.fit(X_train, y_train)\n",
    "    t2 = time.perf_counter()\n",
    "    print(f'MultinomialNB pipeline training time: {t2-t1}s')\n",
    "\n",
    "    t1 = time.perf_counter()\n",
    "    y_pred = pipeline.predict(X_test)\n",
    "    t2 = time.perf_counter()\n",
    "    print(f'MultinomialNB pipeline predict time: {t2-t1}s')\n",
    "    classification_report_and_confusion_matrix(y_test, y_pred, label_encoder.classes_)\n",
    "\n",
    "    # Show wrongly predicted samples\n",
    "    incorrect_pred_idxs = np.arange(len(y_pred))[(y_pred != y_test)]\n",
    "    for incorrect_id in incorrect_pred_idxs[:n_error_cases]:\n",
    "      print(f'predicted: {label_encoder.classes_[y_pred[incorrect_id]]}, correct: {label_encoder.classes_[y_test[incorrect_id]]}, text: {test_df.iloc[incorrect_id][\"text\"]},\\nlemmas: {X_test.iloc[incorrect_id]}')\n",
    "\n",
    "  # CountVectorizer pipeline\n",
    "  print('######### CountVectorizer MultinomialNB pipeline #########')\n",
    "  pipeline = Pipeline([('vec', CountVectorizer(preprocessor=lambda x: ' '.join(x))), ('cls', MultinomialNB())])\n",
    "  best_count_vec_pipeline = grid_search_params_for_pipeline(pipeline)\n",
    "  eval_mnb_pipeline(best_count_vec_pipeline)\n",
    "\n",
    "  # TfidfVectorizer pipeline\n",
    "  print('######### TfidfVectorizer MultinomialNB pipeline #########')\n",
    "  pipeline = Pipeline([('vec', TfidfVectorizer(preprocessor=lambda x: ' '.join(x))), ('cls', MultinomialNB())])\n",
    "  best_tfidf_vec_pipeline = grid_search_params_for_pipeline(pipeline)\n",
    "  eval_mnb_pipeline(best_tfidf_vec_pipeline)"
   ]
  },
  {
   "cell_type": "markdown",
   "metadata": {
    "id": "Vl15saWNlm3_"
   },
   "source": [
    "## Lemmas without punctuation"
   ]
  },
  {
   "cell_type": "code",
   "execution_count": 12,
   "metadata": {
    "colab": {
     "base_uri": "https://localhost:8080/",
     "height": 1000
    },
    "executionInfo": {
     "elapsed": 40597,
     "status": "ok",
     "timestamp": 1647116324584,
     "user": {
      "displayName": "Igor Pidík",
      "photoUrl": "https://lh3.googleusercontent.com/a/default-user=s64",
      "userId": "11925848879683183121"
     },
     "user_tz": -60
    },
    "id": "EpJJPX0ckeUj",
    "outputId": "ad3e18af-ce0b-4f09-cbfa-99a7276428d3"
   },
   "outputs": [
    {
     "name": "stdout",
     "output_type": "stream",
     "text": [
      "######### CountVectorizer MultinomialNB pipeline #########\n",
      "Best parameter (CV f1. score=0.9746004192322808: {'cls__alpha': 0.8, 'vec__ngram_range': (1, 3)}\n",
      "MultinomialNB pipeline training time: 0.42004943900000313s\n",
      "MultinomialNB pipeline predict time: 0.023442021000001034s\n",
      "              precision    recall  f1-score   support\n",
      "\n",
      "         ham      0.978     0.998     0.988       448\n",
      "        spam      0.983     0.855     0.915        69\n",
      "\n",
      "    accuracy                          0.979       517\n",
      "   macro avg      0.981     0.926     0.951       517\n",
      "weighted avg      0.979     0.979     0.978       517\n",
      "\n"
     ]
    },
    {
     "data": {
      "image/png": "[encoded data removed]",
      "text/plain": [
       "<Figure size 432x288 with 2 Axes>"
      ]
     },
     "metadata": {
      "needs_background": "light"
     },
     "output_type": "display_data"
    },
    {
     "name": "stdout",
     "output_type": "stream",
     "text": [
      "predicted: ham, correct: spam, text: Babe: U want me dont u baby! Im nasty and have a thing 4 filthyguys. Fancy a rude time with a sexy bitch. How about we go slo n hard! Txt XXX SLO(4msgs),\n",
      "lemmas: ['babe' 'u' 'want' 'I' 'do' 'not' 'u' 'baby' 'I' 'm' 'nasty' 'and' 'have'\n",
      " 'a' 'thing' '4' 'filthyguy' 'fancy' 'a' 'rude' 'time' 'with' 'a' 'sexy'\n",
      " 'bitch' 'how' 'about' 'we' 'go' 'slo' 'n' 'hard' 'Txt' 'XXX' 'slo(4msg']\n",
      "predicted: ham, correct: spam, text: You can donate £2.50 to UNICEF's Asian Tsunami disaster support fund by texting DONATE to 864233. £2.50 will be added to your next bill,\n",
      "lemmas: ['you' 'can' 'donate' '£' '2.50' 'to' 'UNICEF' \"'s\" 'Asian' 'Tsunami'\n",
      " 'disaster' 'support' 'fund' 'by' 'texte' 'donate' 'to' '864233' '£'\n",
      " '2.50' 'will' 'be' 'add' 'to' 'your' 'next' 'bill']\n",
      "predicted: ham, correct: spam, text: LIFE has never been this much fun and great until you came in. You made it truly special for me. I won't forget you! enjoy @ one gbp/sms,\n",
      "lemmas: ['life' 'have' 'never' 'be' 'this' 'much' 'fun' 'and' 'great' 'until'\n",
      " 'you' 'come' 'in' 'you' 'make' 'it' 'truly' 'special' 'for' 'I' 'I'\n",
      " 'will' 'not' 'forget' 'you' 'enjoy' 'one' 'gbp' 'sm']\n",
      "predicted: ham, correct: spam, text: 22 days to kick off! For Euro2004 U will be kept up to date with the latest news and results daily. To be removed send GET TXT STOP to 83222,\n",
      "lemmas: ['22' 'day' 'to' 'kick' 'off' 'for' 'euro2004' 'u' 'will' 'be' 'keep' 'up'\n",
      " 'to' 'date' 'with' 'the' 'late' 'news' 'and' 'result' 'daily' 'to' 'be'\n",
      " 'remove' 'send' 'GET' 'TXT' 'STOP' 'to' '83222']\n",
      "predicted: ham, correct: spam, text: Did you hear about the new \"Divorce Barbie\"? It comes with all of Ken's stuff!,\n",
      "lemmas: ['do' 'you' 'hear' 'about' 'the' 'new' 'Divorce' 'Barbie' 'it' 'come'\n",
      " 'with' 'all' 'of' 'Ken' \"'s\" 'stuff']\n",
      "predicted: ham, correct: spam, text: Burger King - Wanna play footy at a top stadium? Get 2 Burger King before 1st Sept and go Large or Super with Coca-Cola and walk out a winner,\n",
      "lemmas: ['Burger' 'King' 'Wanna' 'play' 'footy' 'at' 'a' 'top' 'stadium' 'get' '2'\n",
      " 'Burger' 'King' 'before' '1st' 'Sept' 'and' 'go' 'large' 'or' 'Super'\n",
      " 'with' 'Coca' 'Cola' 'and' 'walk' 'out' 'a' 'winner']\n",
      "predicted: ham, correct: spam, text: More people are dogging in your area now. Call 09090204448 and join like minded guys. Why not arrange 1 yourself. There's 1 this evening. A£1.50 minAPN LS278BB,\n",
      "lemmas: ['More' 'people' 'be' 'dog' 'in' 'your' 'area' 'now' 'call' '09090204448'\n",
      " 'and' 'join' 'like' 'minded' 'guy' 'why' 'not' 'arrange' '1' 'yourself'\n",
      " 'there' 'be' '1' 'this' 'evening' 'A£1.50' 'minAPN' 'LS278BB']\n",
      "predicted: spam, correct: ham, text: K..k.:)congratulation ..,\n",
      "lemmas: ['K' 'k.:)congratulation']\n",
      "predicted: ham, correct: spam, text: Hi if ur lookin 4 saucy daytime fun wiv busty married woman Am free all next week Chat now 2 sort time 09099726429 JANINExx Calls£1/minMobsmoreLKPOBOX177HP51FL,\n",
      "lemmas: ['hi' 'if' 'ur' 'lookin' '4' 'saucy' 'daytime' 'fun' 'wiv' 'busty'\n",
      " 'married' 'woman' 'be' 'free' 'all' 'next' 'week' 'Chat' 'now' '2' 'sort'\n",
      " 'time' '09099726429' 'JANINExx' 'Calls£1' 'minMobsmoreLKPOBOX177HP51FL']\n",
      "predicted: ham, correct: spam, text: Goal! Arsenal 4 (Henry, 7 v Liverpool 2 Henry scores with a simple shot from 6 yards from a pass by Bergkamp to give Arsenal a 2 goal margin after 78 mins.,\n",
      "lemmas: ['goal' 'arsenal' '4' 'Henry' '7' 'v' 'Liverpool' '2' 'Henry' 'score'\n",
      " 'with' 'a' 'simple' 'shot' 'from' '6' 'yard' 'from' 'a' 'pass' 'by'\n",
      " 'Bergkamp' 'to' 'give' 'Arsenal' 'a' '2' 'goal' 'margin' 'after' '78'\n",
      " 'min']\n",
      "######### TfidfVectorizer MultinomialNB pipeline #########\n",
      "Best parameter (CV f1. score=0.9832751035196687: {'cls__alpha': 0.1, 'vec__ngram_range': (1, 1)}\n",
      "MultinomialNB pipeline training time: 0.11039575600000262s\n",
      "MultinomialNB pipeline predict time: 0.013067940999988537s\n",
      "              precision    recall  f1-score   support\n",
      "\n",
      "         ham      0.980     0.996     0.988       448\n",
      "        spam      0.968     0.870     0.916        69\n",
      "\n",
      "    accuracy                          0.979       517\n",
      "   macro avg      0.974     0.933     0.952       517\n",
      "weighted avg      0.979     0.979     0.978       517\n",
      "\n"
     ]
    },
    {
     "data": {
      "image/png": "[encoded data removed]",
      "text/plain": [
       "<Figure size 432x288 with 2 Axes>"
      ]
     },
     "metadata": {
      "needs_background": "light"
     },
     "output_type": "display_data"
    },
    {
     "name": "stdout",
     "output_type": "stream",
     "text": [
      "predicted: ham, correct: spam, text: Babe: U want me dont u baby! Im nasty and have a thing 4 filthyguys. Fancy a rude time with a sexy bitch. How about we go slo n hard! Txt XXX SLO(4msgs),\n",
      "lemmas: ['babe' 'u' 'want' 'I' 'do' 'not' 'u' 'baby' 'I' 'm' 'nasty' 'and' 'have'\n",
      " 'a' 'thing' '4' 'filthyguy' 'fancy' 'a' 'rude' 'time' 'with' 'a' 'sexy'\n",
      " 'bitch' 'how' 'about' 'we' 'go' 'slo' 'n' 'hard' 'Txt' 'XXX' 'slo(4msg']\n",
      "predicted: ham, correct: spam, text: You can donate £2.50 to UNICEF's Asian Tsunami disaster support fund by texting DONATE to 864233. £2.50 will be added to your next bill,\n",
      "lemmas: ['you' 'can' 'donate' '£' '2.50' 'to' 'UNICEF' \"'s\" 'Asian' 'Tsunami'\n",
      " 'disaster' 'support' 'fund' 'by' 'texte' 'donate' 'to' '864233' '£'\n",
      " '2.50' 'will' 'be' 'add' 'to' 'your' 'next' 'bill']\n",
      "predicted: ham, correct: spam, text: LIFE has never been this much fun and great until you came in. You made it truly special for me. I won't forget you! enjoy @ one gbp/sms,\n",
      "lemmas: ['life' 'have' 'never' 'be' 'this' 'much' 'fun' 'and' 'great' 'until'\n",
      " 'you' 'come' 'in' 'you' 'make' 'it' 'truly' 'special' 'for' 'I' 'I'\n",
      " 'will' 'not' 'forget' 'you' 'enjoy' 'one' 'gbp' 'sm']\n",
      "predicted: ham, correct: spam, text: 22 days to kick off! For Euro2004 U will be kept up to date with the latest news and results daily. To be removed send GET TXT STOP to 83222,\n",
      "lemmas: ['22' 'day' 'to' 'kick' 'off' 'for' 'euro2004' 'u' 'will' 'be' 'keep' 'up'\n",
      " 'to' 'date' 'with' 'the' 'late' 'news' 'and' 'result' 'daily' 'to' 'be'\n",
      " 'remove' 'send' 'GET' 'TXT' 'STOP' 'to' '83222']\n",
      "predicted: ham, correct: spam, text: Did you hear about the new \"Divorce Barbie\"? It comes with all of Ken's stuff!,\n",
      "lemmas: ['do' 'you' 'hear' 'about' 'the' 'new' 'Divorce' 'Barbie' 'it' 'come'\n",
      " 'with' 'all' 'of' 'Ken' \"'s\" 'stuff']\n",
      "predicted: ham, correct: spam, text: More people are dogging in your area now. Call 09090204448 and join like minded guys. Why not arrange 1 yourself. There's 1 this evening. A£1.50 minAPN LS278BB,\n",
      "lemmas: ['More' 'people' 'be' 'dog' 'in' 'your' 'area' 'now' 'call' '09090204448'\n",
      " 'and' 'join' 'like' 'minded' 'guy' 'why' 'not' 'arrange' '1' 'yourself'\n",
      " 'there' 'be' '1' 'this' 'evening' 'A£1.50' 'minAPN' 'LS278BB']\n",
      "predicted: spam, correct: ham, text: K..k.:)congratulation ..,\n",
      "lemmas: ['K' 'k.:)congratulation']\n",
      "predicted: spam, correct: ham, text: 26th OF JULY,\n",
      "lemmas: ['26th' 'of' 'JULY']\n",
      "predicted: ham, correct: spam, text: Goal! Arsenal 4 (Henry, 7 v Liverpool 2 Henry scores with a simple shot from 6 yards from a pass by Bergkamp to give Arsenal a 2 goal margin after 78 mins.,\n",
      "lemmas: ['goal' 'arsenal' '4' 'Henry' '7' 'v' 'Liverpool' '2' 'Henry' 'score'\n",
      " 'with' 'a' 'simple' 'shot' 'from' '6' 'yard' 'from' 'a' 'pass' 'by'\n",
      " 'Bergkamp' 'to' 'give' 'Arsenal' 'a' '2' 'goal' 'margin' 'after' '78'\n",
      " 'min']\n",
      "predicted: ham, correct: spam, text: Would you like to see my XXX pics they are so hot they were nearly banned in the uk!,\n",
      "lemmas: ['would' 'you' 'like' 'to' 'see' 'my' 'XXX' 'pic' 'they' 'be' 'so' 'hot'\n",
      " 'they' 'be' 'nearly' 'ban' 'in' 'the' 'uk']\n"
     ]
    }
   ],
   "source": [
    "test_mnb_pipelines('lemmas_without_punct', cv_train_df, train_df, test_df)"
   ]
  },
  {
   "cell_type": "markdown",
   "metadata": {
    "id": "btFwVEXzlpo0"
   },
   "source": [
    "## Lemmas without punctuation and stop words"
   ]
  },
  {
   "cell_type": "code",
   "execution_count": 13,
   "metadata": {
    "colab": {
     "base_uri": "https://localhost:8080/",
     "height": 1000
    },
    "executionInfo": {
     "elapsed": 22794,
     "status": "ok",
     "timestamp": 1647116347559,
     "user": {
      "displayName": "Igor Pidík",
      "photoUrl": "https://lh3.googleusercontent.com/a/default-user=s64",
      "userId": "11925848879683183121"
     },
     "user_tz": -60
    },
    "id": "HqvOGtfwlJr-",
    "outputId": "90534081-1ba9-4514-e0e2-9c14979e66d7"
   },
   "outputs": [
    {
     "name": "stdout",
     "output_type": "stream",
     "text": [
      "######### CountVectorizer MultinomialNB pipeline #########\n",
      "Best parameter (CV f1. score=0.979221092399823: {'cls__alpha': 0.8, 'vec__ngram_range': (1, 3)}\n",
      "MultinomialNB pipeline training time: 0.22539829099999054s\n",
      "MultinomialNB pipeline predict time: 0.017796087999997212s\n",
      "              precision    recall  f1-score   support\n",
      "\n",
      "         ham      0.982     0.996     0.989       448\n",
      "        spam      0.968     0.884     0.924        69\n",
      "\n",
      "    accuracy                          0.981       517\n",
      "   macro avg      0.975     0.940     0.957       517\n",
      "weighted avg      0.980     0.981     0.980       517\n",
      "\n"
     ]
    },
    {
     "data": {
      "image/png": "[encoded data removed]",
      "text/plain": [
       "<Figure size 432x288 with 2 Axes>"
      ]
     },
     "metadata": {
      "needs_background": "light"
     },
     "output_type": "display_data"
    },
    {
     "name": "stdout",
     "output_type": "stream",
     "text": [
      "predicted: ham, correct: spam, text: Babe: U want me dont u baby! Im nasty and have a thing 4 filthyguys. Fancy a rude time with a sexy bitch. How about we go slo n hard! Txt XXX SLO(4msgs),\n",
      "lemmas: ['babe' 'u' 'want' 'not' 'u' 'baby' 'm' 'nasty' 'thing' '4' 'filthyguy'\n",
      " 'fancy' 'rude' 'time' 'sexy' 'bitch' 'slo' 'n' 'hard' 'Txt' 'XXX'\n",
      " 'slo(4msg']\n",
      "predicted: ham, correct: spam, text: You can donate £2.50 to UNICEF's Asian Tsunami disaster support fund by texting DONATE to 864233. £2.50 will be added to your next bill,\n",
      "lemmas: ['donate' '£' '2.50' 'UNICEF' 'Asian' 'Tsunami' 'disaster' 'support'\n",
      " 'fund' 'texte' 'donate' '864233' '£' '2.50' 'add' 'bill']\n",
      "predicted: ham, correct: spam, text: LIFE has never been this much fun and great until you came in. You made it truly special for me. I won't forget you! enjoy @ one gbp/sms,\n",
      "lemmas: ['life' 'fun' 'great' 'come' 'truly' 'special' 'will' 'forget' 'enjoy'\n",
      " 'gbp' 'sm']\n",
      "predicted: ham, correct: spam, text: 22 days to kick off! For Euro2004 U will be kept up to date with the latest news and results daily. To be removed send GET TXT STOP to 83222,\n",
      "lemmas: ['22' 'day' 'kick' 'euro2004' 'u' 'keep' 'date' 'late' 'news' 'result'\n",
      " 'daily' 'remove' 'send' 'TXT' 'STOP' '83222']\n",
      "predicted: ham, correct: spam, text: Did you hear about the new \"Divorce Barbie\"? It comes with all of Ken's stuff!,\n",
      "lemmas: ['hear' 'new' 'Divorce' 'Barbie' 'come' 'Ken' 'stuff']\n",
      "predicted: ham, correct: spam, text: More people are dogging in your area now. Call 09090204448 and join like minded guys. Why not arrange 1 yourself. There's 1 this evening. A£1.50 minAPN LS278BB,\n",
      "lemmas: ['people' 'dog' 'area' '09090204448' 'join' 'like' 'minded' 'guy'\n",
      " 'arrange' '1' '1' 'evening' 'A£1.50' 'minAPN' 'LS278BB']\n",
      "predicted: spam, correct: ham, text: K..k.:)congratulation ..,\n",
      "lemmas: ['K' 'k.:)congratulation']\n",
      "predicted: ham, correct: spam, text: Hi if ur lookin 4 saucy daytime fun wiv busty married woman Am free all next week Chat now 2 sort time 09099726429 JANINExx Calls£1/minMobsmoreLKPOBOX177HP51FL,\n",
      "lemmas: ['hi' 'ur' 'lookin' '4' 'saucy' 'daytime' 'fun' 'wiv' 'busty' 'married'\n",
      " 'woman' 'free' 'week' 'Chat' '2' 'sort' 'time' '09099726429' 'JANINExx'\n",
      " 'Calls£1' 'minMobsmoreLKPOBOX177HP51FL']\n",
      "predicted: spam, correct: ham, text: Then get some cash together and I'll text jason,\n",
      "lemmas: ['cash' 'text' 'jason']\n",
      "predicted: ham, correct: spam, text: Goal! Arsenal 4 (Henry, 7 v Liverpool 2 Henry scores with a simple shot from 6 yards from a pass by Bergkamp to give Arsenal a 2 goal margin after 78 mins.,\n",
      "lemmas: ['goal' 'arsenal' '4' 'Henry' '7' 'v' 'Liverpool' '2' 'Henry' 'score'\n",
      " 'simple' 'shot' '6' 'yard' 'pass' 'Bergkamp' 'Arsenal' '2' 'goal'\n",
      " 'margin' '78' 'min']\n",
      "######### TfidfVectorizer MultinomialNB pipeline #########\n",
      "Best parameter (CV f1. score=0.9794699514744307: {'cls__alpha': 0.01, 'vec__ngram_range': (1, 1)}\n",
      "MultinomialNB pipeline training time: 0.07843532700000821s\n",
      "MultinomialNB pipeline predict time: 0.008102241000003119s\n",
      "              precision    recall  f1-score   support\n",
      "\n",
      "         ham      0.982     0.991     0.987       448\n",
      "        spam      0.938     0.884     0.910        69\n",
      "\n",
      "    accuracy                          0.977       517\n",
      "   macro avg      0.960     0.938     0.949       517\n",
      "weighted avg      0.976     0.977     0.976       517\n",
      "\n"
     ]
    },
    {
     "data": {
      "image/png": "[encoded data removed]",
      "text/plain": [
       "<Figure size 432x288 with 2 Axes>"
      ]
     },
     "metadata": {
      "needs_background": "light"
     },
     "output_type": "display_data"
    },
    {
     "name": "stdout",
     "output_type": "stream",
     "text": [
      "predicted: ham, correct: spam, text: Babe: U want me dont u baby! Im nasty and have a thing 4 filthyguys. Fancy a rude time with a sexy bitch. How about we go slo n hard! Txt XXX SLO(4msgs),\n",
      "lemmas: ['babe' 'u' 'want' 'not' 'u' 'baby' 'm' 'nasty' 'thing' '4' 'filthyguy'\n",
      " 'fancy' 'rude' 'time' 'sexy' 'bitch' 'slo' 'n' 'hard' 'Txt' 'XXX'\n",
      " 'slo(4msg']\n",
      "predicted: ham, correct: spam, text: You can donate £2.50 to UNICEF's Asian Tsunami disaster support fund by texting DONATE to 864233. £2.50 will be added to your next bill,\n",
      "lemmas: ['donate' '£' '2.50' 'UNICEF' 'Asian' 'Tsunami' 'disaster' 'support'\n",
      " 'fund' 'texte' 'donate' '864233' '£' '2.50' 'add' 'bill']\n",
      "predicted: ham, correct: spam, text: LIFE has never been this much fun and great until you came in. You made it truly special for me. I won't forget you! enjoy @ one gbp/sms,\n",
      "lemmas: ['life' 'fun' 'great' 'come' 'truly' 'special' 'will' 'forget' 'enjoy'\n",
      " 'gbp' 'sm']\n",
      "predicted: ham, correct: spam, text: 22 days to kick off! For Euro2004 U will be kept up to date with the latest news and results daily. To be removed send GET TXT STOP to 83222,\n",
      "lemmas: ['22' 'day' 'kick' 'euro2004' 'u' 'keep' 'date' 'late' 'news' 'result'\n",
      " 'daily' 'remove' 'send' 'TXT' 'STOP' '83222']\n",
      "predicted: ham, correct: spam, text: Did you hear about the new \"Divorce Barbie\"? It comes with all of Ken's stuff!,\n",
      "lemmas: ['hear' 'new' 'Divorce' 'Barbie' 'come' 'Ken' 'stuff']\n",
      "predicted: spam, correct: ham, text:  what number do u live at? Is it 11?,\n",
      "lemmas: [' ' 'number' 'u' 'live' '11']\n",
      "predicted: spam, correct: ham, text: Ok, be careful ! Don't text and drive !,\n",
      "lemmas: ['ok' 'careful' 'text' 'drive']\n",
      "predicted: ham, correct: spam, text: More people are dogging in your area now. Call 09090204448 and join like minded guys. Why not arrange 1 yourself. There's 1 this evening. A£1.50 minAPN LS278BB,\n",
      "lemmas: ['people' 'dog' 'area' '09090204448' 'join' 'like' 'minded' 'guy'\n",
      " 'arrange' '1' '1' 'evening' 'A£1.50' 'minAPN' 'LS278BB']\n",
      "predicted: spam, correct: ham, text: K..k.:)congratulation ..,\n",
      "lemmas: ['K' 'k.:)congratulation']\n",
      "predicted: spam, correct: ham, text: 26th OF JULY,\n",
      "lemmas: ['26th' 'JULY']\n"
     ]
    }
   ],
   "source": [
    "test_mnb_pipelines('lemmas_without_puct_and_stop_words', cv_train_df, train_df, test_df)"
   ]
  },
  {
   "cell_type": "markdown",
   "metadata": {
    "id": "4hg3az9psXzV"
   },
   "source": [
    "# Notes/Observations\n",
    "* Not big difference between filtering out stop words\n",
    "  * stop words list tend to be very extensive and often can remove a lot of context so it's always a good idea to remove them but in our case with spacy it doesn't seem to affect the perfomance very much, on the other hand if we do remove them then our count vector vocab becomes smaller -> the vector is less sparse\n",
    "* Similar perfomance on both `lemmas_without_punct` and `lemmas_without_puct_and_stop_words` features\n",
    "  * CountVectorizer MultinomialNB pipeline on `lemmas_without_puct_and_stop_words` features has a slight edge\n",
    "* Mostly fails on messages with sexual context and ham messages mentioning money/cash -> not surprising we have seen that those are very popular words in spam messages\n",
    "* Overall solid performance"
   ]
  }
 ],
 "metadata": {
  "colab": {
   "authorship_tag": "ABX9TyPTaPGq4cH8EQWpSjZkZr0i",
   "collapsed_sections": [],
   "mount_file_id": "1ulIejQ6XpJMpd4L1cFPn8W1iaWrWVnyq",
   "name": "multinomialNB_classifier.ipynb",
   "provenance": []
  },
  "kernelspec": {
   "display_name": "Python 3 (ipykernel)",
   "language": "python",
   "name": "python3"
  },
  "language_info": {
   "codemirror_mode": {
    "name": "ipython",
    "version": 3
   },
   "file_extension": ".py",
   "mimetype": "text/x-python",
   "name": "python",
   "nbconvert_exporter": "python",
   "pygments_lexer": "ipython3",
   "version": "3.9.9"
  }
 },
 "nbformat": 4,
 "nbformat_minor": 1
}
