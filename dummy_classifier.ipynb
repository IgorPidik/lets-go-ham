{
 "cells": [
  {
   "cell_type": "code",
   "execution_count": 1,
   "metadata": {
    "executionInfo": {
     "elapsed": 344,
     "status": "ok",
     "timestamp": 1647116186256,
     "user": {
      "displayName": "Igor Pidík",
      "photoUrl": "https://lh3.googleusercontent.com/a/default-user=s64",
      "userId": "11925848879683183121"
     },
     "user_tz": -60
    },
    "id": "p3MmNsWxDA43"
   },
   "outputs": [],
   "source": [
    "import pandas as pd\n",
    "from sklearn.preprocessing import LabelEncoder\n",
    "import time\n",
    "import random\n",
    "import os\n",
    "import numpy as np\n",
    "from sklearn.metrics import classification_report, confusion_matrix, ConfusionMatrixDisplay\n",
    "import matplotlib.pyplot as plt\n",
    "from sklearn.dummy import DummyClassifier"
   ]
  },
  {
   "cell_type": "code",
   "execution_count": 2,
   "metadata": {
    "executionInfo": {
     "elapsed": 213,
     "status": "ok",
     "timestamp": 1647116188275,
     "user": {
      "displayName": "Igor Pidík",
      "photoUrl": "https://lh3.googleusercontent.com/a/default-user=s64",
      "userId": "11925848879683183121"
     },
     "user_tz": -60
    },
    "id": "nvW3n4pJJV9w"
   },
   "outputs": [],
   "source": [
    "def plot_confusion_matrix(y_true, y_pred, labels):\n",
    "  cm = confusion_matrix(y_true, y_pred)\n",
    "  disp = ConfusionMatrixDisplay(confusion_matrix=cm, display_labels=labels)\n",
    "  disp.plot()\n",
    "  plt.show()"
   ]
  },
  {
   "cell_type": "code",
   "execution_count": 3,
   "metadata": {
    "executionInfo": {
     "elapsed": 208,
     "status": "ok",
     "timestamp": 1647116189853,
     "user": {
      "displayName": "Igor Pidík",
      "photoUrl": "https://lh3.googleusercontent.com/a/default-user=s64",
      "userId": "11925848879683183121"
     },
     "user_tz": -60
    },
    "id": "F-v76G4TQzEK"
   },
   "outputs": [],
   "source": [
    "def classification_report_and_confusion_matrix(y_test, y_pred, labels):\n",
    "  print(classification_report(y_test, y_pred, target_names=labels, zero_division=0, digits=3))\n",
    "  plot_confusion_matrix(y_test, y_pred, labels)"
   ]
  },
  {
   "cell_type": "code",
   "execution_count": 4,
   "metadata": {
    "executionInfo": {
     "elapsed": 324,
     "status": "ok",
     "timestamp": 1647116191058,
     "user": {
      "displayName": "Igor Pidík",
      "photoUrl": "https://lh3.googleusercontent.com/a/default-user=s64",
      "userId": "11925848879683183121"
     },
     "user_tz": -60
    },
    "id": "nyvn9kntDE7N"
   },
   "outputs": [],
   "source": [
    "train_df = pd.read_pickle('data/train.pkl')\n",
    "val_df = pd.read_pickle('data/val.pkl')\n",
    "test_df = pd.read_pickle('data/test.pkl')"
   ]
  },
  {
   "cell_type": "markdown",
   "metadata": {
    "id": "TUv75Q5uHcZA"
   },
   "source": [
    "# Seed"
   ]
  },
  {
   "cell_type": "code",
   "execution_count": 5,
   "metadata": {
    "executionInfo": {
     "elapsed": 228,
     "status": "ok",
     "timestamp": 1647116192227,
     "user": {
      "displayName": "Igor Pidík",
      "photoUrl": "https://lh3.googleusercontent.com/a/default-user=s64",
      "userId": "11925848879683183121"
     },
     "user_tz": -60
    },
    "id": "a4H13DS0Hbwa"
   },
   "outputs": [],
   "source": [
    "seed = 1337\n",
    "random.seed(seed)\n",
    "os.environ['PYTHONHASHSEED'] = str(seed)\n",
    "np.random.seed(seed)"
   ]
  },
  {
   "cell_type": "markdown",
   "metadata": {
    "id": "qJVIsc4dE0JF"
   },
   "source": [
    "Encode labels"
   ]
  },
  {
   "cell_type": "code",
   "execution_count": 6,
   "metadata": {
    "executionInfo": {
     "elapsed": 4,
     "status": "ok",
     "timestamp": 1647116193302,
     "user": {
      "displayName": "Igor Pidík",
      "photoUrl": "https://lh3.googleusercontent.com/a/default-user=s64",
      "userId": "11925848879683183121"
     },
     "user_tz": -60
    },
    "id": "QdsMI_6hDhUv"
   },
   "outputs": [],
   "source": [
    "train_y_raw = train_df['label']"
   ]
  },
  {
   "cell_type": "code",
   "execution_count": 7,
   "metadata": {
    "executionInfo": {
     "elapsed": 2,
     "status": "ok",
     "timestamp": 1647116194176,
     "user": {
      "displayName": "Igor Pidík",
      "photoUrl": "https://lh3.googleusercontent.com/a/default-user=s64",
      "userId": "11925848879683183121"
     },
     "user_tz": -60
    },
    "id": "_CZuE48nDrvd"
   },
   "outputs": [],
   "source": [
    "label_encoder = LabelEncoder().fit(train_y_raw)"
   ]
  },
  {
   "cell_type": "code",
   "execution_count": 8,
   "metadata": {
    "executionInfo": {
     "elapsed": 3,
     "status": "ok",
     "timestamp": 1647116195022,
     "user": {
      "displayName": "Igor Pidík",
      "photoUrl": "https://lh3.googleusercontent.com/a/default-user=s64",
      "userId": "11925848879683183121"
     },
     "user_tz": -60
    },
    "id": "BAp3Sc-5ECbU"
   },
   "outputs": [],
   "source": [
    "y_train = label_encoder.transform(train_y_raw)\n",
    "y_val = label_encoder.transform(val_df['label'])\n",
    "y_test = label_encoder.transform(test_df['label'])"
   ]
  },
  {
   "cell_type": "markdown",
   "metadata": {
    "id": "9AHUuv7uC3Jm"
   },
   "source": [
    "# Dummy classifier"
   ]
  },
  {
   "cell_type": "markdown",
   "metadata": {
    "id": "oPVgfEzUKcS9"
   },
   "source": [
    "Good to estimate what f1 score we can expect if we always predict the majority class"
   ]
  },
  {
   "cell_type": "code",
   "execution_count": 9,
   "metadata": {
    "executionInfo": {
     "elapsed": 2,
     "status": "ok",
     "timestamp": 1647116196341,
     "user": {
      "displayName": "Igor Pidík",
      "photoUrl": "https://lh3.googleusercontent.com/a/default-user=s64",
      "userId": "11925848879683183121"
     },
     "user_tz": -60
    },
    "id": "W_WB3VNkGF46"
   },
   "outputs": [],
   "source": [
    "dummy_clf = DummyClassifier()"
   ]
  },
  {
   "cell_type": "code",
   "execution_count": 10,
   "metadata": {
    "colab": {
     "base_uri": "https://localhost:8080/"
    },
    "executionInfo": {
     "elapsed": 4,
     "status": "ok",
     "timestamp": 1647116198082,
     "user": {
      "displayName": "Igor Pidík",
      "photoUrl": "https://lh3.googleusercontent.com/a/default-user=s64",
      "userId": "11925848879683183121"
     },
     "user_tz": -60
    },
    "id": "My8wj2tTFCjy",
    "outputId": "e30982f7-ee00-4a56-fca1-8795b0f25750"
   },
   "outputs": [
    {
     "name": "stdout",
     "output_type": "stream",
     "text": [
      "DummyClassifier training time: 0.0013283470000011732s\n"
     ]
    }
   ],
   "source": [
    "t1 = time.perf_counter()\n",
    "# dummy classifier ignores X features, therefore we can just pass None\n",
    "dummy_clf.fit(None, y_train)\n",
    "t2 = time.perf_counter()\n",
    "print(f'DummyClassifier training time: {t2-t1}s')"
   ]
  },
  {
   "cell_type": "code",
   "execution_count": 11,
   "metadata": {
    "colab": {
     "base_uri": "https://localhost:8080/"
    },
    "executionInfo": {
     "elapsed": 3,
     "status": "ok",
     "timestamp": 1647116199305,
     "user": {
      "displayName": "Igor Pidík",
      "photoUrl": "https://lh3.googleusercontent.com/a/default-user=s64",
      "userId": "11925848879683183121"
     },
     "user_tz": -60
    },
    "id": "BPHSe685FN6J",
    "outputId": "2bf744db-396b-4ced-a0a2-f102d908bb7f"
   },
   "outputs": [
    {
     "name": "stdout",
     "output_type": "stream",
     "text": [
      "DummyClassifier predict time: 0.0003402310000026887s\n"
     ]
    }
   ],
   "source": [
    "# dummy classifier ignores X features but it needs to know how many predictions it needs to generate, therefore we can generate a dummy input with the correct length\n",
    "input_featueres = [1]*len(y_test)\n",
    "\n",
    "t1 = time.perf_counter()\n",
    "y_pred = dummy_clf.predict(input_featueres)\n",
    "t2 = time.perf_counter()\n",
    "print(f'DummyClassifier predict time: {t2-t1}s')"
   ]
  },
  {
   "cell_type": "code",
   "execution_count": 12,
   "metadata": {
    "colab": {
     "base_uri": "https://localhost:8080/",
     "height": 435
    },
    "executionInfo": {
     "elapsed": 652,
     "status": "ok",
     "timestamp": 1647116201300,
     "user": {
      "displayName": "Igor Pidík",
      "photoUrl": "https://lh3.googleusercontent.com/a/default-user=s64",
      "userId": "11925848879683183121"
     },
     "user_tz": -60
    },
    "id": "XrOqG3mHIEfV",
    "outputId": "f88991b4-3c0a-4455-b9b8-b7999e137d25"
   },
   "outputs": [
    {
     "name": "stdout",
     "output_type": "stream",
     "text": [
      "              precision    recall  f1-score   support\n",
      "\n",
      "         ham      0.867     1.000     0.928       448\n",
      "        spam      0.000     0.000     0.000        69\n",
      "\n",
      "    accuracy                          0.867       517\n",
      "   macro avg      0.433     0.500     0.464       517\n",
      "weighted avg      0.751     0.867     0.805       517\n",
      "\n"
     ]
    },
    {
     "data": {
      "image/png": "[encoded data removed]",
      "text/plain": [
       "<Figure size 432x288 with 2 Axes>"
      ]
     },
     "metadata": {
      "needs_background": "light"
     },
     "output_type": "display_data"
    }
   ],
   "source": [
    "# eval\n",
    "classification_report_and_confusion_matrix(y_test, y_pred, label_encoder.classes_)"
   ]
  },
  {
   "cell_type": "markdown",
   "metadata": {
    "id": "wjOAw5VTIs6P"
   },
   "source": [
    "Dummy classifier:\n",
    "* training time: 0.000572694999846135 s\n",
    "* prediction time: 0.0002738949999638862 s\n",
    "* f1 score: 0.464"
   ]
  }
 ],
 "metadata": {
  "colab": {
   "authorship_tag": "ABX9TyOeV5LELOavrcEZpFPeMcBT",
   "collapsed_sections": [],
   "mount_file_id": "1przFQVzpLLZs5mOzdGm2tYeQmKdU8sV6",
   "name": "dummy_classifier.ipynb",
   "provenance": []
  },
  "kernelspec": {
   "display_name": "Python 3 (ipykernel)",
   "language": "python",
   "name": "python3"
  },
  "language_info": {
   "codemirror_mode": {
    "name": "ipython",
    "version": 3
   },
   "file_extension": ".py",
   "mimetype": "text/x-python",
   "name": "python",
   "nbconvert_exporter": "python",
   "pygments_lexer": "ipython3",
   "version": "3.9.9"
  }
 },
 "nbformat": 4,
 "nbformat_minor": 1
}
