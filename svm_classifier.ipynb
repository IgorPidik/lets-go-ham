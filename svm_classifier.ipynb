{
 "cells": [
  {
   "cell_type": "code",
   "execution_count": 18,
   "metadata": {
    "executionInfo": {
     "elapsed": 7,
     "status": "aborted",
     "timestamp": 1647166347143,
     "user": {
      "displayName": "Igor Pidík",
      "photoUrl": "https://lh3.googleusercontent.com/a/default-user=s64",
      "userId": "11925848879683183121"
     },
     "user_tz": -60
    },
    "id": "p3MmNsWxDA43"
   },
   "outputs": [],
   "source": [
    "import pandas as pd\n",
    "from sklearn.preprocessing import LabelEncoder, MinMaxScaler\n",
    "import time\n",
    "import random\n",
    "import os\n",
    "import numpy as np\n",
    "from sklearn.metrics import classification_report, confusion_matrix, ConfusionMatrixDisplay\n",
    "import matplotlib.pyplot as plt\n",
    "from sklearn.feature_extraction.text import CountVectorizer, TfidfVectorizer\n",
    "from sklearn.pipeline import Pipeline\n",
    "from sklearn.model_selection import GridSearchCV, PredefinedSplit\n",
    "from sklearn.svm import SVC\n",
    "from sklearn.pipeline import FeatureUnion\n",
    "from sklearn.compose import ColumnTransformer\n",
    "from sklearn.preprocessing import StandardScaler"
   ]
  },
  {
   "cell_type": "code",
   "execution_count": 19,
   "metadata": {
    "executionInfo": {
     "elapsed": 4,
     "status": "ok",
     "timestamp": 1647162001603,
     "user": {
      "displayName": "Igor Pidík",
      "photoUrl": "https://lh3.googleusercontent.com/a/default-user=s64",
      "userId": "11925848879683183121"
     },
     "user_tz": -60
    },
    "id": "nvW3n4pJJV9w"
   },
   "outputs": [],
   "source": [
    "def plot_confusion_matrix(y_true, y_pred, labels):\n",
    "  cm = confusion_matrix(y_true, y_pred)\n",
    "  disp = ConfusionMatrixDisplay(confusion_matrix=cm, display_labels=labels)\n",
    "  disp.plot()\n",
    "  plt.show()"
   ]
  },
  {
   "cell_type": "code",
   "execution_count": 20,
   "metadata": {
    "executionInfo": {
     "elapsed": 4,
     "status": "ok",
     "timestamp": 1647162001604,
     "user": {
      "displayName": "Igor Pidík",
      "photoUrl": "https://lh3.googleusercontent.com/a/default-user=s64",
      "userId": "11925848879683183121"
     },
     "user_tz": -60
    },
    "id": "F-v76G4TQzEK"
   },
   "outputs": [],
   "source": [
    "def classification_report_and_confusion_matrix(y_test, y_pred, labels):\n",
    "  print(classification_report(y_test, y_pred, target_names=labels, zero_division=0, digits=3))\n",
    "  plot_confusion_matrix(y_test, y_pred, labels)"
   ]
  },
  {
   "cell_type": "code",
   "execution_count": 21,
   "metadata": {
    "executionInfo": {
     "elapsed": 411,
     "status": "ok",
     "timestamp": 1647162984046,
     "user": {
      "displayName": "Igor Pidík",
      "photoUrl": "https://lh3.googleusercontent.com/a/default-user=s64",
      "userId": "11925848879683183121"
     },
     "user_tz": -60
    },
    "id": "nyvn9kntDE7N"
   },
   "outputs": [],
   "source": [
    "train_df = pd.read_pickle('data/train.pkl')\n",
    "val_df = pd.read_pickle('data/val.pkl')\n",
    "test_df = pd.read_pickle('data/test.pkl')"
   ]
  },
  {
   "cell_type": "markdown",
   "metadata": {
    "id": "j-jl-R80j45z"
   },
   "source": [
    "# Compute additional features to be used later"
   ]
  },
  {
   "cell_type": "code",
   "execution_count": 22,
   "metadata": {
    "executionInfo": {
     "elapsed": 3,
     "status": "ok",
     "timestamp": 1647162984931,
     "user": {
      "displayName": "Igor Pidík",
      "photoUrl": "https://lh3.googleusercontent.com/a/default-user=s64",
      "userId": "11925848879683183121"
     },
     "user_tz": -60
    },
    "id": "CxX_MDcPj9JL"
   },
   "outputs": [],
   "source": [
    "train_df['pos_without_puct_and_stop_words'] = train_df.apply(lambda row: row['pos_tags'][~(row['is_punct'] | row['is_stop_word'])], axis=1)\n",
    "val_df['pos_without_puct_and_stop_words'] = val_df.apply(lambda row: row['pos_tags'][~(row['is_punct'] | row['is_stop_word'])], axis=1)\n",
    "test_df['pos_without_puct_and_stop_words'] = test_df.apply(lambda row: row['pos_tags'][~(row['is_punct'] | row['is_stop_word'])], axis=1)"
   ]
  },
  {
   "cell_type": "markdown",
   "metadata": {
    "id": "TUv75Q5uHcZA"
   },
   "source": [
    "# Seed"
   ]
  },
  {
   "cell_type": "code",
   "execution_count": 23,
   "metadata": {
    "executionInfo": {
     "elapsed": 3,
     "status": "ok",
     "timestamp": 1647163058387,
     "user": {
      "displayName": "Igor Pidík",
      "photoUrl": "https://lh3.googleusercontent.com/a/default-user=s64",
      "userId": "11925848879683183121"
     },
     "user_tz": -60
    },
    "id": "a4H13DS0Hbwa"
   },
   "outputs": [],
   "source": [
    "seed = 1337\n",
    "random.seed(seed)\n",
    "os.environ['PYTHONHASHSEED'] = str(seed)\n",
    "np.random.seed(seed)"
   ]
  },
  {
   "cell_type": "markdown",
   "metadata": {
    "id": "qJVIsc4dE0JF"
   },
   "source": [
    "Encode labels"
   ]
  },
  {
   "cell_type": "code",
   "execution_count": 24,
   "metadata": {
    "executionInfo": {
     "elapsed": 5,
     "status": "ok",
     "timestamp": 1647163059323,
     "user": {
      "displayName": "Igor Pidík",
      "photoUrl": "https://lh3.googleusercontent.com/a/default-user=s64",
      "userId": "11925848879683183121"
     },
     "user_tz": -60
    },
    "id": "QdsMI_6hDhUv"
   },
   "outputs": [],
   "source": [
    "train_y_raw = train_df['label']"
   ]
  },
  {
   "cell_type": "code",
   "execution_count": 25,
   "metadata": {
    "executionInfo": {
     "elapsed": 2,
     "status": "ok",
     "timestamp": 1647163060331,
     "user": {
      "displayName": "Igor Pidík",
      "photoUrl": "https://lh3.googleusercontent.com/a/default-user=s64",
      "userId": "11925848879683183121"
     },
     "user_tz": -60
    },
    "id": "_CZuE48nDrvd"
   },
   "outputs": [],
   "source": [
    "label_encoder = LabelEncoder().fit(train_y_raw)"
   ]
  },
  {
   "cell_type": "code",
   "execution_count": 26,
   "metadata": {
    "executionInfo": {
     "elapsed": 273,
     "status": "ok",
     "timestamp": 1647163061685,
     "user": {
      "displayName": "Igor Pidík",
      "photoUrl": "https://lh3.googleusercontent.com/a/default-user=s64",
      "userId": "11925848879683183121"
     },
     "user_tz": -60
    },
    "id": "BAp3Sc-5ECbU"
   },
   "outputs": [],
   "source": [
    "y_train = label_encoder.transform(train_y_raw)\n",
    "y_val = label_encoder.transform(val_df['label'])\n",
    "y_test = label_encoder.transform(test_df['label'])"
   ]
  },
  {
   "cell_type": "markdown",
   "metadata": {
    "id": "5WGMZpxN67dZ"
   },
   "source": [
    "# Simple Linear SVM (for a glimpse of important features)"
   ]
  },
  {
   "cell_type": "code",
   "execution_count": 27,
   "metadata": {
    "executionInfo": {
     "elapsed": 276,
     "status": "ok",
     "timestamp": 1647170458093,
     "user": {
      "displayName": "Igor Pidík",
      "photoUrl": "https://lh3.googleusercontent.com/a/default-user=s64",
      "userId": "11925848879683183121"
     },
     "user_tz": -60
    },
    "id": "WoIlzzl87sXP"
   },
   "outputs": [],
   "source": [
    "def f_importances(coef, names, n=10):\n",
    "  sorted_names, sorted_coef = zip(*sorted(list(zip(feature_names, coef)), key=lambda x: x[1], reverse=True)[:n])\n",
    "  plt.barh(range(len(sorted_coef)), sorted_coef, align='center')\n",
    "  plt.yticks(range(len(sorted_names)), sorted_names)\n",
    "  plt.show()"
   ]
  },
  {
   "cell_type": "code",
   "execution_count": 28,
   "metadata": {
    "colab": {
     "base_uri": "https://localhost:8080/",
     "height": 701
    },
    "executionInfo": {
     "elapsed": 1331,
     "status": "ok",
     "timestamp": 1647170595431,
     "user": {
      "displayName": "Igor Pidík",
      "photoUrl": "https://lh3.googleusercontent.com/a/default-user=s64",
      "userId": "11925848879683183121"
     },
     "user_tz": -60
    },
    "id": "7x6jjZ3e6-Ut",
    "outputId": "3060db4c-0518-463a-c19f-d691fea8e611"
   },
   "outputs": [
    {
     "name": "stdout",
     "output_type": "stream",
     "text": [
      "              precision    recall  f1-score   support\n",
      "\n",
      "         ham      0.966     1.000     0.982       448\n",
      "        spam      1.000     0.768     0.869        69\n",
      "\n",
      "    accuracy                          0.969       517\n",
      "   macro avg      0.983     0.884     0.926       517\n",
      "weighted avg      0.970     0.969     0.967       517\n",
      "\n"
     ]
    },
    {
     "data": {
      "image/png": "[encoded data removed]",
      "text/plain": [
       "<Figure size 432x288 with 2 Axes>"
      ]
     },
     "metadata": {
      "needs_background": "light"
     },
     "output_type": "display_data"
    },
    {
     "name": "stdout",
     "output_type": "stream",
     "text": [
      "Most important features\n"
     ]
    },
    {
     "data": {
      "image/png": "[encoded data removed]",
      "text/plain": [
       "<Figure size 432x288 with 1 Axes>"
      ]
     },
     "metadata": {
      "needs_background": "light"
     },
     "output_type": "display_data"
    }
   ],
   "source": [
    "pipeline = Pipeline([('vec', CountVectorizer(preprocessor=lambda x: ' '.join(x))), ('cls', SVC(class_weight='balanced', kernel='linear'))])\n",
    "pipeline.fit(train_df['lemmas_without_puct_and_stop_words'], y_train)\n",
    "y_pred = pipeline.predict(test_df['lemmas_without_puct_and_stop_words'])\n",
    "classification_report_and_confusion_matrix(y_test, y_pred, label_encoder.classes_)\n",
    "feature_names = pipeline.named_steps['vec'].get_feature_names_out()\n",
    "print('Most important features')\n",
    "f_importances(abs(pipeline.named_steps['cls'].coef_.toarray()[0]), feature_names, 20)"
   ]
  },
  {
   "cell_type": "markdown",
   "metadata": {
    "id": "eDp-6ComBRbO"
   },
   "source": [
    "These seem like decent features to predict spam"
   ]
  },
  {
   "cell_type": "markdown",
   "metadata": {
    "id": "CC_2v_lfbeIp"
   },
   "source": [
    "# Setup CV train dataset with predefined validation set"
   ]
  },
  {
   "cell_type": "code",
   "execution_count": 29,
   "metadata": {
    "executionInfo": {
     "elapsed": 2,
     "status": "ok",
     "timestamp": 1647163062452,
     "user": {
      "displayName": "Igor Pidík",
      "photoUrl": "https://lh3.googleusercontent.com/a/default-user=s64",
      "userId": "11925848879683183121"
     },
     "user_tz": -60
    },
    "id": "mW7OejoKbdhF"
   },
   "outputs": [],
   "source": [
    "cv_train_df = pd.concat([train_df, val_df])"
   ]
  },
  {
   "cell_type": "code",
   "execution_count": 30,
   "metadata": {
    "executionInfo": {
     "elapsed": 2,
     "status": "ok",
     "timestamp": 1647163062760,
     "user": {
      "displayName": "Igor Pidík",
      "photoUrl": "https://lh3.googleusercontent.com/a/default-user=s64",
      "userId": "11925848879683183121"
     },
     "user_tz": -60
    },
    "id": "o1FYzWX7b-hR"
   },
   "outputs": [],
   "source": [
    "test_fold = np.concatenate((-np.ones(len(train_df)), np.zeros(len(val_df))))\n",
    "ps = PredefinedSplit(test_fold)"
   ]
  },
  {
   "cell_type": "markdown",
   "metadata": {
    "id": "iBObnJneI97m"
   },
   "source": [
    "# SVM Classifier"
   ]
  },
  {
   "cell_type": "code",
   "execution_count": 31,
   "metadata": {
    "executionInfo": {
     "elapsed": 2,
     "status": "ok",
     "timestamp": 1647162537884,
     "user": {
      "displayName": "Igor Pidík",
      "photoUrl": "https://lh3.googleusercontent.com/a/default-user=s64",
      "userId": "11925848879683183121"
     },
     "user_tz": -60
    },
    "id": "syYXKlBWi0Sr"
   },
   "outputs": [],
   "source": [
    "def test_base_svm_pipelines(input_features_name, cv_train_df, train_df, test_df, n_error_cases=10):\n",
    "  cv_X_train = cv_train_df[input_features_name]\n",
    "  cv_y_train = label_encoder.transform(cv_train_df['label'])\n",
    "  X_train = train_df[input_features_name]\n",
    "  X_test = test_df[input_features_name]\n",
    "\n",
    "  def grid_search_params_for_pipeline(pipeline):\n",
    "    # grid search\n",
    "    param_grid = {\n",
    "        'vec__ngram_range': [(1, 1), (1, 2), (1, 3)],\n",
    "        'cls__kernel': ['poly', 'rbf'],\n",
    "        'cls__C': [0.1, 0.5, 1, 1.5],\n",
    "    }\n",
    "    search = GridSearchCV(pipeline, param_grid, scoring='f1_macro', cv=ps, n_jobs=-1)\n",
    "    search.fit(cv_X_train, cv_y_train)\n",
    "    print(f'Best parameter (CV f1. score={search.best_score_}: {search.best_params_}')\n",
    "    return search.best_estimator_\n",
    "\n",
    "\n",
    "  def eval_svm_pipeline(pipeline):\n",
    "    # refit on full train dataset and time it\n",
    "    t1 = time.perf_counter()\n",
    "    pipeline.fit(X_train, y_train)\n",
    "    t2 = time.perf_counter()\n",
    "    print(f'SVM pipeline training time: {t2-t1}s')\n",
    "\n",
    "    t1 = time.perf_counter()\n",
    "    y_pred = pipeline.predict(X_test)\n",
    "    t2 = time.perf_counter()\n",
    "    print(f'SVM pipeline predict time: {t2-t1}s')\n",
    "    classification_report_and_confusion_matrix(y_test, y_pred, label_encoder.classes_)\n",
    "\n",
    "    # Show wrongly predicted samples\n",
    "    incorrect_pred_idxs = np.arange(len(y_pred))[(y_pred != y_test)]\n",
    "    for incorrect_id in incorrect_pred_idxs[:n_error_cases]:\n",
    "      print(f'predicted: {label_encoder.classes_[y_pred[incorrect_id]]}, correct: {label_encoder.classes_[y_test[incorrect_id]]}, text: {test_df.iloc[incorrect_id][\"text\"]},\\nlemmas: {X_test.iloc[incorrect_id]}\\n')\n",
    "\n",
    "  # CountVectorizer pipeline\n",
    "  print('######### CountVectorizer SVM pipeline #########')\n",
    "  pipeline = Pipeline([('vec', CountVectorizer(preprocessor=lambda x: ' '.join(x))), ('cls', SVC(class_weight='balanced'))])\n",
    "  best_count_vec_pipeline = grid_search_params_for_pipeline(pipeline)\n",
    "  eval_svm_pipeline(best_count_vec_pipeline)"
   ]
  },
  {
   "cell_type": "markdown",
   "metadata": {
    "id": "Vl15saWNlm3_"
   },
   "source": [
    "## Lemmas without punctuation"
   ]
  },
  {
   "cell_type": "code",
   "execution_count": 32,
   "metadata": {
    "colab": {
     "base_uri": "https://localhost:8080/",
     "height": 1000
    },
    "executionInfo": {
     "elapsed": 138888,
     "status": "ok",
     "timestamp": 1647162142916,
     "user": {
      "displayName": "Igor Pidík",
      "photoUrl": "https://lh3.googleusercontent.com/a/default-user=s64",
      "userId": "11925848879683183121"
     },
     "user_tz": -60
    },
    "id": "EpJJPX0ckeUj",
    "outputId": "ff8b1fc1-ac2a-404e-c272-a0caf9e97e31"
   },
   "outputs": [
    {
     "name": "stdout",
     "output_type": "stream",
     "text": [
      "######### CountVectorizer SVM pipeline #########\n",
      "Best parameter (CV f1. score=0.9705506595382825: {'cls__C': 1, 'cls__kernel': 'rbf', 'vec__ngram_range': (1, 1)}\n",
      "SVM pipeline training time: 0.9401029339999809s\n",
      "SVM pipeline predict time: 0.10493809600001214s\n",
      "              precision    recall  f1-score   support\n",
      "\n",
      "         ham      0.974     0.998     0.986       448\n",
      "        spam      0.983     0.826     0.898        69\n",
      "\n",
      "    accuracy                          0.975       517\n",
      "   macro avg      0.978     0.912     0.942       517\n",
      "weighted avg      0.975     0.975     0.974       517\n",
      "\n"
     ]
    },
    {
     "data": {
      "image/png": "[encoded data removed]",
      "text/plain": [
       "<Figure size 432x288 with 2 Axes>"
      ]
     },
     "metadata": {
      "needs_background": "light"
     },
     "output_type": "display_data"
    },
    {
     "name": "stdout",
     "output_type": "stream",
     "text": [
      "predicted: ham, correct: spam, text: Babe: U want me dont u baby! Im nasty and have a thing 4 filthyguys. Fancy a rude time with a sexy bitch. How about we go slo n hard! Txt XXX SLO(4msgs),\n",
      "lemmas: ['babe' 'u' 'want' 'I' 'do' 'not' 'u' 'baby' 'I' 'm' 'nasty' 'and' 'have'\n",
      " 'a' 'thing' '4' 'filthyguy' 'fancy' 'a' 'rude' 'time' 'with' 'a' 'sexy'\n",
      " 'bitch' 'how' 'about' 'we' 'go' 'slo' 'n' 'hard' 'Txt' 'XXX' 'slo(4msg']\n",
      "\n",
      "predicted: ham, correct: spam, text: Sunshine Quiz! Win a super Sony DVD recorder if you canname the capital of Australia? Text MQUIZ to 82277. B,\n",
      "lemmas: ['Sunshine' 'Quiz' 'win' 'a' 'super' 'Sony' 'dvd' 'recorder' 'if' 'you'\n",
      " 'canname' 'the' 'capital' 'of' 'Australia' 'Text' 'MQUIZ' 'to' '82277'\n",
      " 'b']\n",
      "\n",
      "predicted: ham, correct: spam, text: XCLUSIVE@CLUBSAISAI 2MOROW 28/5 SOIREE SPECIALE ZOUK WITH NICHOLS FROM PARIS.FREE ROSES 2 ALL LADIES !!! info: 07946746291/07880867867 ,\n",
      "lemmas: ['XCLUSIVE@CLUBSAISAI' '2morow' '28/5' 'SOIREE' 'SPECIALE' 'ZOUK' 'with'\n",
      " 'NICHOLS' 'from' 'PARIS.FREE' 'rose' '2' 'all' 'lady' 'info'\n",
      " '07946746291/07880867867']\n",
      "\n",
      "predicted: ham, correct: spam, text: LIFE has never been this much fun and great until you came in. You made it truly special for me. I won't forget you! enjoy @ one gbp/sms,\n",
      "lemmas: ['life' 'have' 'never' 'be' 'this' 'much' 'fun' 'and' 'great' 'until'\n",
      " 'you' 'come' 'in' 'you' 'make' 'it' 'truly' 'special' 'for' 'I' 'I'\n",
      " 'will' 'not' 'forget' 'you' 'enjoy' 'one' 'gbp' 'sm']\n",
      "\n",
      "predicted: ham, correct: spam, text: 22 days to kick off! For Euro2004 U will be kept up to date with the latest news and results daily. To be removed send GET TXT STOP to 83222,\n",
      "lemmas: ['22' 'day' 'to' 'kick' 'off' 'for' 'euro2004' 'u' 'will' 'be' 'keep' 'up'\n",
      " 'to' 'date' 'with' 'the' 'late' 'news' 'and' 'result' 'daily' 'to' 'be'\n",
      " 'remove' 'send' 'GET' 'TXT' 'STOP' 'to' '83222']\n",
      "\n",
      "predicted: ham, correct: spam, text: Did you hear about the new \"Divorce Barbie\"? It comes with all of Ken's stuff!,\n",
      "lemmas: ['do' 'you' 'hear' 'about' 'the' 'new' 'Divorce' 'Barbie' 'it' 'come'\n",
      " 'with' 'all' 'of' 'Ken' \"'s\" 'stuff']\n",
      "\n",
      "predicted: ham, correct: spam, text: Burger King - Wanna play footy at a top stadium? Get 2 Burger King before 1st Sept and go Large or Super with Coca-Cola and walk out a winner,\n",
      "lemmas: ['Burger' 'King' 'Wanna' 'play' 'footy' 'at' 'a' 'top' 'stadium' 'get' '2'\n",
      " 'Burger' 'King' 'before' '1st' 'Sept' 'and' 'go' 'large' 'or' 'Super'\n",
      " 'with' 'Coca' 'Cola' 'and' 'walk' 'out' 'a' 'winner']\n",
      "\n",
      "predicted: ham, correct: spam, text: Kit Strip - you have been billed 150p. Netcollex Ltd. PO Box 1013 IG11 OJA,\n",
      "lemmas: ['Kit' 'Strip' 'you' 'have' 'be' 'bill' '150p' 'Netcollex' 'Ltd.' 'po'\n",
      " 'Box' '1013' 'IG11' 'oja']\n",
      "\n",
      "predicted: ham, correct: spam, text: More people are dogging in your area now. Call 09090204448 and join like minded guys. Why not arrange 1 yourself. There's 1 this evening. A£1.50 minAPN LS278BB,\n",
      "lemmas: ['More' 'people' 'be' 'dog' 'in' 'your' 'area' 'now' 'call' '09090204448'\n",
      " 'and' 'join' 'like' 'minded' 'guy' 'why' 'not' 'arrange' '1' 'yourself'\n",
      " 'there' 'be' '1' 'this' 'evening' 'A£1.50' 'minAPN' 'LS278BB']\n",
      "\n",
      "predicted: spam, correct: ham, text: Sir, i am waiting for your call, once free please call me.,\n",
      "lemmas: ['Sir' 'I' 'be' 'wait' 'for' 'your' 'call' 'once' 'free' 'please' 'call'\n",
      " 'I']\n",
      "\n"
     ]
    }
   ],
   "source": [
    "test_base_svm_pipelines('lemmas_without_punct', cv_train_df, train_df, test_df)"
   ]
  },
  {
   "cell_type": "markdown",
   "metadata": {
    "id": "btFwVEXzlpo0"
   },
   "source": [
    "## Lemmas without punctuation and stop words"
   ]
  },
  {
   "cell_type": "code",
   "execution_count": 33,
   "metadata": {
    "colab": {
     "base_uri": "https://localhost:8080/",
     "height": 1000
    },
    "executionInfo": {
     "elapsed": 76860,
     "status": "ok",
     "timestamp": 1647162315394,
     "user": {
      "displayName": "Igor Pidík",
      "photoUrl": "https://lh3.googleusercontent.com/a/default-user=s64",
      "userId": "11925848879683183121"
     },
     "user_tz": -60
    },
    "id": "HqvOGtfwlJr-",
    "outputId": "7527ff56-4fa5-4af0-fc34-9ace7ed69169"
   },
   "outputs": [
    {
     "name": "stdout",
     "output_type": "stream",
     "text": [
      "######### CountVectorizer SVM pipeline #########\n",
      "Best parameter (CV f1. score=0.9665502070393375: {'cls__C': 1, 'cls__kernel': 'rbf', 'vec__ngram_range': (1, 1)}\n",
      "SVM pipeline training time: 0.6900806180000245s\n",
      "SVM pipeline predict time: 0.07169856199999458s\n",
      "              precision    recall  f1-score   support\n",
      "\n",
      "         ham      0.972     1.000     0.986       448\n",
      "        spam      1.000     0.812     0.896        69\n",
      "\n",
      "    accuracy                          0.975       517\n",
      "   macro avg      0.986     0.906     0.941       517\n",
      "weighted avg      0.976     0.975     0.974       517\n",
      "\n"
     ]
    },
    {
     "data": {
      "image/png": "[encoded data removed]",
      "text/plain": [
       "<Figure size 432x288 with 2 Axes>"
      ]
     },
     "metadata": {
      "needs_background": "light"
     },
     "output_type": "display_data"
    },
    {
     "name": "stdout",
     "output_type": "stream",
     "text": [
      "predicted: ham, correct: spam, text: Babe: U want me dont u baby! Im nasty and have a thing 4 filthyguys. Fancy a rude time with a sexy bitch. How about we go slo n hard! Txt XXX SLO(4msgs),\n",
      "lemmas: ['babe' 'u' 'want' 'not' 'u' 'baby' 'm' 'nasty' 'thing' '4' 'filthyguy'\n",
      " 'fancy' 'rude' 'time' 'sexy' 'bitch' 'slo' 'n' 'hard' 'Txt' 'XXX'\n",
      " 'slo(4msg']\n",
      "\n",
      "predicted: ham, correct: spam, text: You can donate £2.50 to UNICEF's Asian Tsunami disaster support fund by texting DONATE to 864233. £2.50 will be added to your next bill,\n",
      "lemmas: ['donate' '£' '2.50' 'UNICEF' 'Asian' 'Tsunami' 'disaster' 'support'\n",
      " 'fund' 'texte' 'donate' '864233' '£' '2.50' 'add' 'bill']\n",
      "\n",
      "predicted: ham, correct: spam, text: XCLUSIVE@CLUBSAISAI 2MOROW 28/5 SOIREE SPECIALE ZOUK WITH NICHOLS FROM PARIS.FREE ROSES 2 ALL LADIES !!! info: 07946746291/07880867867 ,\n",
      "lemmas: ['XCLUSIVE@CLUBSAISAI' '2morow' '28/5' 'SOIREE' 'SPECIALE' 'ZOUK'\n",
      " 'NICHOLS' 'PARIS.FREE' 'rose' '2' 'lady' 'info' '07946746291/07880867867']\n",
      "\n",
      "predicted: ham, correct: spam, text: Update_Now - 12Mths Half Price Orange line rental: 400mins...Call MobileUpd8 on 08000839402 or call2optout=J5Q,\n",
      "lemmas: ['update_now' '12mths' 'Half' 'Price' 'Orange' 'line' 'rental' '400min'\n",
      " 'MobileUpd8' '08000839402' 'call2optout' '=' 'j5q']\n",
      "\n",
      "predicted: ham, correct: spam, text: LIFE has never been this much fun and great until you came in. You made it truly special for me. I won't forget you! enjoy @ one gbp/sms,\n",
      "lemmas: ['life' 'fun' 'great' 'come' 'truly' 'special' 'will' 'forget' 'enjoy'\n",
      " 'gbp' 'sm']\n",
      "\n",
      "predicted: ham, correct: spam, text: 22 days to kick off! For Euro2004 U will be kept up to date with the latest news and results daily. To be removed send GET TXT STOP to 83222,\n",
      "lemmas: ['22' 'day' 'kick' 'euro2004' 'u' 'keep' 'date' 'late' 'news' 'result'\n",
      " 'daily' 'remove' 'send' 'TXT' 'STOP' '83222']\n",
      "\n",
      "predicted: ham, correct: spam, text: Did you hear about the new \"Divorce Barbie\"? It comes with all of Ken's stuff!,\n",
      "lemmas: ['hear' 'new' 'Divorce' 'Barbie' 'come' 'Ken' 'stuff']\n",
      "\n",
      "predicted: ham, correct: spam, text: Burger King - Wanna play footy at a top stadium? Get 2 Burger King before 1st Sept and go Large or Super with Coca-Cola and walk out a winner,\n",
      "lemmas: ['Burger' 'King' 'Wanna' 'play' 'footy' 'stadium' '2' 'Burger' 'King'\n",
      " '1st' 'Sept' 'large' 'Super' 'Coca' 'Cola' 'walk' 'winner']\n",
      "\n",
      "predicted: ham, correct: spam, text: More people are dogging in your area now. Call 09090204448 and join like minded guys. Why not arrange 1 yourself. There's 1 this evening. A£1.50 minAPN LS278BB,\n",
      "lemmas: ['people' 'dog' 'area' '09090204448' 'join' 'like' 'minded' 'guy'\n",
      " 'arrange' '1' '1' 'evening' 'A£1.50' 'minAPN' 'LS278BB']\n",
      "\n",
      "predicted: ham, correct: spam, text: Hi if ur lookin 4 saucy daytime fun wiv busty married woman Am free all next week Chat now 2 sort time 09099726429 JANINExx Calls£1/minMobsmoreLKPOBOX177HP51FL,\n",
      "lemmas: ['hi' 'ur' 'lookin' '4' 'saucy' 'daytime' 'fun' 'wiv' 'busty' 'married'\n",
      " 'woman' 'free' 'week' 'Chat' '2' 'sort' 'time' '09099726429' 'JANINExx'\n",
      " 'Calls£1' 'minMobsmoreLKPOBOX177HP51FL']\n",
      "\n"
     ]
    }
   ],
   "source": [
    "test_base_svm_pipelines('lemmas_without_puct_and_stop_words', cv_train_df, train_df, test_df)"
   ]
  },
  {
   "cell_type": "markdown",
   "metadata": {
    "id": "KqNaEA6Qi9JH"
   },
   "source": [
    "# Include POS tags"
   ]
  },
  {
   "cell_type": "code",
   "execution_count": 34,
   "metadata": {
    "executionInfo": {
     "elapsed": 282,
     "status": "ok",
     "timestamp": 1647165223758,
     "user": {
      "displayName": "Igor Pidík",
      "photoUrl": "https://lh3.googleusercontent.com/a/default-user=s64",
      "userId": "11925848879683183121"
     },
     "user_tz": -60
    },
    "id": "X7FNFPr7i4fW"
   },
   "outputs": [],
   "source": [
    "def test_svm_with_pos_tags_pipelines(cv_train_df, train_df, test_df, n_error_cases=10):\n",
    "  cv_y_train = label_encoder.transform(cv_train_df['label'])\n",
    "\n",
    "  def grid_search_params_for_pipeline(pipeline):\n",
    "    # grid search\n",
    "    param_grid = {\n",
    "        'features__vec__ngram_range': [(1, 1), (1, 2), (1, 3)],\n",
    "        'features__pos__ngram_range': [(1, 1), (1, 2), (1, 3)],\n",
    "        'cls__kernel': ['poly', 'rbf'],\n",
    "        'cls__C': [0.1, 0.5, 1, 1.5, 2, 5],\n",
    "    }\n",
    "    search = GridSearchCV(pipeline, param_grid, scoring='f1_macro', cv=ps, n_jobs=-1)\n",
    "    search.fit(cv_train_df, cv_y_train)\n",
    "    print(f'Best parameter (CV f1. score={search.best_score_}: {search.best_params_}')\n",
    "    return search.best_estimator_\n",
    "\n",
    "\n",
    "  def eval_svm_pipeline(pipeline):\n",
    "    # refit on full train dataset and time it\n",
    "    t1 = time.perf_counter()\n",
    "    pipeline.fit(train_df, y_train)\n",
    "    t2 = time.perf_counter()\n",
    "    print(f'SVM pipeline training time: {t2-t1}s')\n",
    "\n",
    "    t1 = time.perf_counter()\n",
    "    y_pred = pipeline.predict(test_df)\n",
    "    t2 = time.perf_counter()\n",
    "    print(f'SVM pipeline predict time: {t2-t1}s')\n",
    "    classification_report_and_confusion_matrix(y_test, y_pred, label_encoder.classes_)\n",
    "\n",
    "    # Show wrongly predicted samples\n",
    "    incorrect_pred_idxs = np.arange(len(y_pred))[(y_pred != y_test)]\n",
    "    for incorrect_id in incorrect_pred_idxs[:n_error_cases]:\n",
    "      print(f'predicted: {label_encoder.classes_[y_pred[incorrect_id]]}, correct: {label_encoder.classes_[y_test[incorrect_id]]}, text: {test_df.iloc[incorrect_id][\"text\"]},\\nlemmas: {test_df.iloc[incorrect_id][\"lemmas_without_puct_and_stop_words\"]}\\n')\n",
    "\n",
    "  print('######### CountVectorizer SVM + POS tags pipeline #########')\n",
    "  preprocessor = ColumnTransformer(transformers = [('vec', CountVectorizer(preprocessor=lambda x: ' '.join(x)), 'lemmas_without_puct_and_stop_words'),\n",
    "                                                   ('pos', CountVectorizer(preprocessor=lambda x: ' '.join(x)), 'pos_without_puct_and_stop_words')])\n",
    "\n",
    "  pipeline = Pipeline([('features', preprocessor), ('cls', SVC(class_weight='balanced'))])\n",
    "  best_count_vec_pipeline = grid_search_params_for_pipeline(pipeline)\n",
    "  eval_svm_pipeline(best_count_vec_pipeline)"
   ]
  },
  {
   "cell_type": "code",
   "execution_count": 35,
   "metadata": {
    "colab": {
     "base_uri": "https://localhost:8080/",
     "height": 802
    },
    "executionInfo": {
     "elapsed": 205432,
     "status": "ok",
     "timestamp": 1647165430573,
     "user": {
      "displayName": "Igor Pidík",
      "photoUrl": "https://lh3.googleusercontent.com/a/default-user=s64",
      "userId": "11925848879683183121"
     },
     "user_tz": -60
    },
    "id": "P2aDDISclXB6",
    "outputId": "f0a4e006-e5cb-4539-919d-1bb30b8c6067"
   },
   "outputs": [
    {
     "name": "stdout",
     "output_type": "stream",
     "text": [
      "######### CountVectorizer SVM + POS tags pipeline #########\n",
      "Best parameter (CV f1. score=0.975215723873442: {'cls__C': 5, 'cls__kernel': 'rbf', 'features__pos__ngram_range': (1, 1), 'features__vec__ngram_range': (1, 1)}\n",
      "SVM pipeline training time: 0.6734911440000246s\n",
      "SVM pipeline predict time: 0.07603421799996113s\n",
      "              precision    recall  f1-score   support\n",
      "\n",
      "         ham      0.989     0.996     0.992       448\n",
      "        spam      0.970     0.928     0.948        69\n",
      "\n",
      "    accuracy                          0.986       517\n",
      "   macro avg      0.979     0.962     0.970       517\n",
      "weighted avg      0.986     0.986     0.986       517\n",
      "\n"
     ]
    },
    {
     "data": {
      "image/png": "[encoded data removed]",
      "text/plain": [
       "<Figure size 432x288 with 2 Axes>"
      ]
     },
     "metadata": {
      "needs_background": "light"
     },
     "output_type": "display_data"
    },
    {
     "name": "stdout",
     "output_type": "stream",
     "text": [
      "predicted: ham, correct: spam, text: Babe: U want me dont u baby! Im nasty and have a thing 4 filthyguys. Fancy a rude time with a sexy bitch. How about we go slo n hard! Txt XXX SLO(4msgs),\n",
      "lemmas: ['babe' 'u' 'want' 'not' 'u' 'baby' 'm' 'nasty' 'thing' '4' 'filthyguy'\n",
      " 'fancy' 'rude' 'time' 'sexy' 'bitch' 'slo' 'n' 'hard' 'Txt' 'XXX'\n",
      " 'slo(4msg']\n",
      "\n",
      "predicted: spam, correct: ham, text: HEY DAS COOL... IKNOW ALL 2 WELLDA PERIL OF STUDENTFINANCIAL CRISIS!SPK 2 U L8R.,\n",
      "lemmas: ['HEY' 'DAS' 'COOL' 'iknow' '2' 'wellda' 'PERIL' 'STUDENTFINANCIAL'\n",
      " 'CRISIS!SPK' '2' 'u' 'l8r.']\n",
      "\n",
      "predicted: spam, correct: ham, text: I want kfc its Tuesday. Only buy 2 meals ONLY 2. No gravy. Only 2 Mark. 2!,\n",
      "lemmas: ['want' 'kfc' 'Tuesday' 'buy' '2' 'meal' '2' 'gravy' '2' 'Mark' '2']\n",
      "\n",
      "predicted: ham, correct: spam, text: LIFE has never been this much fun and great until you came in. You made it truly special for me. I won't forget you! enjoy @ one gbp/sms,\n",
      "lemmas: ['life' 'fun' 'great' 'come' 'truly' 'special' 'will' 'forget' 'enjoy'\n",
      " 'gbp' 'sm']\n",
      "\n",
      "predicted: ham, correct: spam, text: Did you hear about the new \"Divorce Barbie\"? It comes with all of Ken's stuff!,\n",
      "lemmas: ['hear' 'new' 'Divorce' 'Barbie' 'come' 'Ken' 'stuff']\n",
      "\n",
      "predicted: ham, correct: spam, text: Burger King - Wanna play footy at a top stadium? Get 2 Burger King before 1st Sept and go Large or Super with Coca-Cola and walk out a winner,\n",
      "lemmas: ['Burger' 'King' 'Wanna' 'play' 'footy' 'stadium' '2' 'Burger' 'King'\n",
      " '1st' 'Sept' 'large' 'Super' 'Coca' 'Cola' 'walk' 'winner']\n",
      "\n",
      "predicted: ham, correct: spam, text: Would you like to see my XXX pics they are so hot they were nearly banned in the uk!,\n",
      "lemmas: ['like' 'XXX' 'pic' 'hot' 'nearly' 'ban' 'uk']\n",
      "\n"
     ]
    }
   ],
   "source": [
    "test_svm_with_pos_tags_pipelines(cv_train_df, train_df, test_df)"
   ]
  },
  {
   "cell_type": "code",
   "execution_count": 36,
   "metadata": {
    "executionInfo": {
     "elapsed": 288,
     "status": "ok",
     "timestamp": 1647167059543,
     "user": {
      "displayName": "Igor Pidík",
      "photoUrl": "https://lh3.googleusercontent.com/a/default-user=s64",
      "userId": "11925848879683183121"
     },
     "user_tz": -60
    },
    "id": "mnFGJlKXssBf"
   },
   "outputs": [],
   "source": [
    "def test_svm_with_pos_tags_text_length_pipelines(cv_train_df, train_df, test_df, n_error_cases=10):\n",
    "  cv_y_train = label_encoder.transform(cv_train_df['label'])\n",
    "\n",
    "  def grid_search_params_for_pipeline(pipeline):\n",
    "    # grid search\n",
    "    param_grid = {\n",
    "        'features__vec__ngram_range': [(1, 1), (1, 2), (1, 3)],\n",
    "        'features__pos__ngram_range': [(1, 1), (1, 2), (1, 3)],\n",
    "        'cls__kernel': ['poly', 'rbf'],\n",
    "        'cls__C': [0.1, 0.5, 1, 1.5, 2, 5],\n",
    "    }\n",
    "    search = GridSearchCV(pipeline, param_grid, scoring='f1_macro', cv=ps, n_jobs=-1)\n",
    "    search.fit(cv_train_df, cv_y_train)\n",
    "    print(f'Best parameter (CV f1. score={search.best_score_}: {search.best_params_}')\n",
    "    return search.best_estimator_\n",
    "\n",
    "\n",
    "  def eval_svm_pipeline(pipeline):\n",
    "    # refit on full train dataset and time it\n",
    "    t1 = time.perf_counter()\n",
    "    pipeline.fit(train_df, y_train)\n",
    "    t2 = time.perf_counter()\n",
    "    print(f'SVM pipeline training time: {t2-t1}s')\n",
    "\n",
    "    t1 = time.perf_counter()\n",
    "    y_pred = pipeline.predict(test_df)\n",
    "    t2 = time.perf_counter()\n",
    "    print(f'SVM pipeline predict time: {t2-t1}s')\n",
    "    classification_report_and_confusion_matrix(y_test, y_pred, label_encoder.classes_)\n",
    "\n",
    "    # Show wrongly predicted samples\n",
    "    incorrect_pred_idxs = np.arange(len(y_pred))[(y_pred != y_test)]\n",
    "    for incorrect_id in incorrect_pred_idxs[:n_error_cases]:\n",
    "      print(f'predicted: {label_encoder.classes_[y_pred[incorrect_id]]}, correct: {label_encoder.classes_[y_test[incorrect_id]]}, text: {test_df.iloc[incorrect_id][\"text\"]},\\nlemmas: {test_df.iloc[incorrect_id][\"lemmas_without_puct_and_stop_words\"]}\\n')\n",
    "\n",
    "  print('######### CountVectorizer SVM + POS tags + custom features pipeline #########')\n",
    "  preprocessor = ColumnTransformer(transformers = [\n",
    "                                                   ('vec', CountVectorizer(preprocessor=lambda x: ' '.join(x)), 'lemmas_without_puct_and_stop_words'),\n",
    "                                                   ('pos', CountVectorizer(preprocessor=lambda x: ' '.join(x)), 'pos_without_puct_and_stop_words'),\n",
    "                                                   ('punct', StandardScaler(), ['number_of_punct_tokens']),\n",
    "                                                   ('text_length', StandardScaler(), ['text_length']),\n",
    "                                                  ]\n",
    "                                   )\n",
    "\n",
    "  pipeline = Pipeline([('features', preprocessor), ('cls', SVC(class_weight='balanced'))])\n",
    "  best_count_vec_pipeline = grid_search_params_for_pipeline(pipeline)\n",
    "  eval_svm_pipeline(best_count_vec_pipeline)"
   ]
  },
  {
   "cell_type": "code",
   "execution_count": 37,
   "metadata": {
    "colab": {
     "base_uri": "https://localhost:8080/",
     "height": 802
    },
    "executionInfo": {
     "elapsed": 185258,
     "status": "ok",
     "timestamp": 1647167254054,
     "user": {
      "displayName": "Igor Pidík",
      "photoUrl": "https://lh3.googleusercontent.com/a/default-user=s64",
      "userId": "11925848879683183121"
     },
     "user_tz": -60
    },
    "id": "C5JHsgqztUt1",
    "outputId": "4aca3c1f-74a4-45c9-f14c-f9e4922c1ba8"
   },
   "outputs": [
    {
     "name": "stdout",
     "output_type": "stream",
     "text": [
      "######### CountVectorizer SVM + POS tags + custom features pipeline #########\n",
      "Best parameter (CV f1. score=0.9673466809827576: {'cls__C': 2, 'cls__kernel': 'rbf', 'features__pos__ngram_range': (1, 1), 'features__vec__ngram_range': (1, 1)}\n",
      "SVM pipeline training time: 0.7124683950000303s\n",
      "SVM pipeline predict time: 0.0843744549999883s\n",
      "              precision    recall  f1-score   support\n",
      "\n",
      "         ham      0.989     0.996     0.992       448\n",
      "        spam      0.970     0.928     0.948        69\n",
      "\n",
      "    accuracy                          0.986       517\n",
      "   macro avg      0.979     0.962     0.970       517\n",
      "weighted avg      0.986     0.986     0.986       517\n",
      "\n"
     ]
    },
    {
     "data": {
      "image/png": "[encoded data removed]",
      "text/plain": [
       "<Figure size 432x288 with 2 Axes>"
      ]
     },
     "metadata": {
      "needs_background": "light"
     },
     "output_type": "display_data"
    },
    {
     "name": "stdout",
     "output_type": "stream",
     "text": [
      "predicted: ham, correct: spam, text: Babe: U want me dont u baby! Im nasty and have a thing 4 filthyguys. Fancy a rude time with a sexy bitch. How about we go slo n hard! Txt XXX SLO(4msgs),\n",
      "lemmas: ['babe' 'u' 'want' 'not' 'u' 'baby' 'm' 'nasty' 'thing' '4' 'filthyguy'\n",
      " 'fancy' 'rude' 'time' 'sexy' 'bitch' 'slo' 'n' 'hard' 'Txt' 'XXX'\n",
      " 'slo(4msg']\n",
      "\n",
      "predicted: spam, correct: ham, text: HEY DAS COOL... IKNOW ALL 2 WELLDA PERIL OF STUDENTFINANCIAL CRISIS!SPK 2 U L8R.,\n",
      "lemmas: ['HEY' 'DAS' 'COOL' 'iknow' '2' 'wellda' 'PERIL' 'STUDENTFINANCIAL'\n",
      " 'CRISIS!SPK' '2' 'u' 'l8r.']\n",
      "\n",
      "predicted: spam, correct: ham, text: I want kfc its Tuesday. Only buy 2 meals ONLY 2. No gravy. Only 2 Mark. 2!,\n",
      "lemmas: ['want' 'kfc' 'Tuesday' 'buy' '2' 'meal' '2' 'gravy' '2' 'Mark' '2']\n",
      "\n",
      "predicted: ham, correct: spam, text: LIFE has never been this much fun and great until you came in. You made it truly special for me. I won't forget you! enjoy @ one gbp/sms,\n",
      "lemmas: ['life' 'fun' 'great' 'come' 'truly' 'special' 'will' 'forget' 'enjoy'\n",
      " 'gbp' 'sm']\n",
      "\n",
      "predicted: ham, correct: spam, text: Did you hear about the new \"Divorce Barbie\"? It comes with all of Ken's stuff!,\n",
      "lemmas: ['hear' 'new' 'Divorce' 'Barbie' 'come' 'Ken' 'stuff']\n",
      "\n",
      "predicted: ham, correct: spam, text: Burger King - Wanna play footy at a top stadium? Get 2 Burger King before 1st Sept and go Large or Super with Coca-Cola and walk out a winner,\n",
      "lemmas: ['Burger' 'King' 'Wanna' 'play' 'footy' 'stadium' '2' 'Burger' 'King'\n",
      " '1st' 'Sept' 'large' 'Super' 'Coca' 'Cola' 'walk' 'winner']\n",
      "\n",
      "predicted: ham, correct: spam, text: Would you like to see my XXX pics they are so hot they were nearly banned in the uk!,\n",
      "lemmas: ['like' 'XXX' 'pic' 'hot' 'nearly' 'ban' 'uk']\n",
      "\n"
     ]
    }
   ],
   "source": [
    "test_svm_with_pos_tags_text_length_pipelines(cv_train_df, train_df, test_df)"
   ]
  },
  {
   "cell_type": "markdown",
   "metadata": {
    "id": "4hg3az9psXzV"
   },
   "source": [
    "# Notes/Observations\n",
    "* Base SVM seems to score slightly better than `MultinomialNB`\n",
    "* Including POS improves performance\n",
    "* Including custom features doesn't seem to yield any difference\n",
    "  * They get probably washed out\n",
    "* Models still struggle mainly with promotional spam and sexual content"
   ]
  }
 ],
 "metadata": {
  "accelerator": "GPU",
  "colab": {
   "authorship_tag": "ABX9TyMenNbrOV6VIYbmjFA/13I5",
   "collapsed_sections": [],
   "mount_file_id": "1cYw3iwqqBwIW2yDfIbi9FgJmSnvpaAaV",
   "name": "svm_classifier.ipynb",
   "provenance": []
  },
  "kernelspec": {
   "display_name": "Python 3 (ipykernel)",
   "language": "python",
   "name": "python3"
  },
  "language_info": {
   "codemirror_mode": {
    "name": "ipython",
    "version": 3
   },
   "file_extension": ".py",
   "mimetype": "text/x-python",
   "name": "python",
   "nbconvert_exporter": "python",
   "pygments_lexer": "ipython3",
   "version": "3.9.9"
  }
 },
 "nbformat": 4,
 "nbformat_minor": 1
}
